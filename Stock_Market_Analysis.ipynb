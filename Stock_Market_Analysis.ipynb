{
  "nbformat": 4,
  "nbformat_minor": 0,
  "metadata": {
    "colab": {
      "name": "Stock Market Analysis.ipynb",
      "version": "0.3.2",
      "provenance": [],
      "collapsed_sections": [
        "s1ruuGQ1bzh6",
        "hmUm11mfb2zU",
        "Sao0xz-SbnUk",
        "I8saigy12TxM"
      ],
      "include_colab_link": true
    },
    "kernelspec": {
      "name": "python3",
      "display_name": "Python 3"
    },
    "accelerator": "GPU"
  },
  "cells": [
    {
      "cell_type": "markdown",
      "metadata": {
        "id": "view-in-github",
        "colab_type": "text"
      },
      "source": [
        "<a href=\"https://colab.research.google.com/github/n-goyal/python-test/blob/master/Stock_Market_Analysis.ipynb\" target=\"_parent\"><img src=\"https://colab.research.google.com/assets/colab-badge.svg\" alt=\"Open In Colab\"/></a>"
      ]
    },
    {
      "metadata": {
        "id": "s1ruuGQ1bzh6",
        "colab_type": "text"
      },
      "cell_type": "markdown",
      "source": [
        "### tools"
      ]
    },
    {
      "metadata": {
        "id": "4h1qz0znPSt-",
        "colab_type": "code",
        "colab": {}
      },
      "cell_type": "code",
      "source": [
        "#Basic\n",
        "import pandas as pd\n",
        "import numpy as np\n",
        "import matplotlib.pyplot as plt\n",
        "%matplotlib inline\n",
        "import seaborn as sns\n",
        "from datetime import date"
      ],
      "execution_count": 0,
      "outputs": []
    },
    {
      "metadata": {
        "id": "pT3tQrUDQObT",
        "colab_type": "code",
        "colab": {}
      },
      "cell_type": "code",
      "source": [
        "#data collection\n",
        "# !pip install nsepy\n",
        "from nsepy import get_history"
      ],
      "execution_count": 0,
      "outputs": []
    },
    {
      "metadata": {
        "id": "hmUm11mfb2zU",
        "colab_type": "text"
      },
      "cell_type": "markdown",
      "source": [
        "### Data collection"
      ]
    },
    {
      "metadata": {
        "id": "g0hZ-58rQTUk",
        "colab_type": "code",
        "colab": {}
      },
      "cell_type": "code",
      "source": [
        "tcs = get_history(symbol='TCS',\n",
        "                    start=date(2018,4,1), \n",
        "                    end=date(2019,2,28))\n",
        "\n",
        "infy = get_history(symbol='INFY',\n",
        "                    start=date(2018,4,1), \n",
        "                    end=date(2019,2,28))"
      ],
      "execution_count": 0,
      "outputs": []
    },
    {
      "metadata": {
        "id": "eoMSAfbTRkn9",
        "colab_type": "code",
        "outputId": "a4997535-d955-4519-cd0f-b419726fc664",
        "colab": {
          "base_uri": "https://localhost:8080/",
          "height": 225
        }
      },
      "cell_type": "code",
      "source": [
        "infy.head()"
      ],
      "execution_count": 200,
      "outputs": [
        {
          "output_type": "execute_result",
          "data": {
            "text/html": [
              "<div>\n",
              "<style scoped>\n",
              "    .dataframe tbody tr th:only-of-type {\n",
              "        vertical-align: middle;\n",
              "    }\n",
              "\n",
              "    .dataframe tbody tr th {\n",
              "        vertical-align: top;\n",
              "    }\n",
              "\n",
              "    .dataframe thead th {\n",
              "        text-align: right;\n",
              "    }\n",
              "</style>\n",
              "<table border=\"1\" class=\"dataframe\">\n",
              "  <thead>\n",
              "    <tr style=\"text-align: right;\">\n",
              "      <th></th>\n",
              "      <th>Symbol</th>\n",
              "      <th>Series</th>\n",
              "      <th>Prev Close</th>\n",
              "      <th>Open</th>\n",
              "      <th>High</th>\n",
              "      <th>Low</th>\n",
              "      <th>Last</th>\n",
              "      <th>Close</th>\n",
              "      <th>VWAP</th>\n",
              "      <th>Volume</th>\n",
              "      <th>Turnover</th>\n",
              "      <th>Trades</th>\n",
              "      <th>Deliverable Volume</th>\n",
              "      <th>%Deliverble</th>\n",
              "    </tr>\n",
              "    <tr>\n",
              "      <th>Date</th>\n",
              "      <th></th>\n",
              "      <th></th>\n",
              "      <th></th>\n",
              "      <th></th>\n",
              "      <th></th>\n",
              "      <th></th>\n",
              "      <th></th>\n",
              "      <th></th>\n",
              "      <th></th>\n",
              "      <th></th>\n",
              "      <th></th>\n",
              "      <th></th>\n",
              "      <th></th>\n",
              "      <th></th>\n",
              "    </tr>\n",
              "  </thead>\n",
              "  <tbody>\n",
              "    <tr>\n",
              "      <th>2018-04-02</th>\n",
              "      <td>INFY</td>\n",
              "      <td>EQ</td>\n",
              "      <td>1131.80</td>\n",
              "      <td>1141.00</td>\n",
              "      <td>1149.55</td>\n",
              "      <td>1121.3</td>\n",
              "      <td>1136.70</td>\n",
              "      <td>1137.15</td>\n",
              "      <td>1135.86</td>\n",
              "      <td>4036351</td>\n",
              "      <td>4.584717e+14</td>\n",
              "      <td>142078</td>\n",
              "      <td>2960225</td>\n",
              "      <td>0.7334</td>\n",
              "    </tr>\n",
              "    <tr>\n",
              "      <th>2018-04-03</th>\n",
              "      <td>INFY</td>\n",
              "      <td>EQ</td>\n",
              "      <td>1137.15</td>\n",
              "      <td>1134.70</td>\n",
              "      <td>1143.55</td>\n",
              "      <td>1128.1</td>\n",
              "      <td>1139.40</td>\n",
              "      <td>1140.45</td>\n",
              "      <td>1135.21</td>\n",
              "      <td>2038584</td>\n",
              "      <td>2.314227e+14</td>\n",
              "      <td>114034</td>\n",
              "      <td>1366638</td>\n",
              "      <td>0.6704</td>\n",
              "    </tr>\n",
              "    <tr>\n",
              "      <th>2018-04-04</th>\n",
              "      <td>INFY</td>\n",
              "      <td>EQ</td>\n",
              "      <td>1140.45</td>\n",
              "      <td>1144.00</td>\n",
              "      <td>1144.55</td>\n",
              "      <td>1120.0</td>\n",
              "      <td>1122.70</td>\n",
              "      <td>1124.20</td>\n",
              "      <td>1131.81</td>\n",
              "      <td>2406651</td>\n",
              "      <td>2.723879e+14</td>\n",
              "      <td>137029</td>\n",
              "      <td>1472105</td>\n",
              "      <td>0.6117</td>\n",
              "    </tr>\n",
              "    <tr>\n",
              "      <th>2018-04-05</th>\n",
              "      <td>INFY</td>\n",
              "      <td>EQ</td>\n",
              "      <td>1124.20</td>\n",
              "      <td>1139.55</td>\n",
              "      <td>1151.30</td>\n",
              "      <td>1129.1</td>\n",
              "      <td>1146.05</td>\n",
              "      <td>1147.55</td>\n",
              "      <td>1140.71</td>\n",
              "      <td>3881772</td>\n",
              "      <td>4.427993e+14</td>\n",
              "      <td>101745</td>\n",
              "      <td>2899162</td>\n",
              "      <td>0.7469</td>\n",
              "    </tr>\n",
              "    <tr>\n",
              "      <th>2018-04-06</th>\n",
              "      <td>INFY</td>\n",
              "      <td>EQ</td>\n",
              "      <td>1147.55</td>\n",
              "      <td>1143.00</td>\n",
              "      <td>1146.00</td>\n",
              "      <td>1122.1</td>\n",
              "      <td>1127.55</td>\n",
              "      <td>1127.00</td>\n",
              "      <td>1128.81</td>\n",
              "      <td>2968871</td>\n",
              "      <td>3.351285e+14</td>\n",
              "      <td>137277</td>\n",
              "      <td>1891236</td>\n",
              "      <td>0.6370</td>\n",
              "    </tr>\n",
              "  </tbody>\n",
              "</table>\n",
              "</div>"
            ],
            "text/plain": [
              "           Symbol Series  Prev Close     Open     High     Low     Last  \\\n",
              "Date                                                                      \n",
              "2018-04-02   INFY     EQ     1131.80  1141.00  1149.55  1121.3  1136.70   \n",
              "2018-04-03   INFY     EQ     1137.15  1134.70  1143.55  1128.1  1139.40   \n",
              "2018-04-04   INFY     EQ     1140.45  1144.00  1144.55  1120.0  1122.70   \n",
              "2018-04-05   INFY     EQ     1124.20  1139.55  1151.30  1129.1  1146.05   \n",
              "2018-04-06   INFY     EQ     1147.55  1143.00  1146.00  1122.1  1127.55   \n",
              "\n",
              "              Close     VWAP   Volume      Turnover  Trades  \\\n",
              "Date                                                          \n",
              "2018-04-02  1137.15  1135.86  4036351  4.584717e+14  142078   \n",
              "2018-04-03  1140.45  1135.21  2038584  2.314227e+14  114034   \n",
              "2018-04-04  1124.20  1131.81  2406651  2.723879e+14  137029   \n",
              "2018-04-05  1147.55  1140.71  3881772  4.427993e+14  101745   \n",
              "2018-04-06  1127.00  1128.81  2968871  3.351285e+14  137277   \n",
              "\n",
              "            Deliverable Volume  %Deliverble  \n",
              "Date                                         \n",
              "2018-04-02             2960225       0.7334  \n",
              "2018-04-03             1366638       0.6704  \n",
              "2018-04-04             1472105       0.6117  \n",
              "2018-04-05             2899162       0.7469  \n",
              "2018-04-06             1891236       0.6370  "
            ]
          },
          "metadata": {
            "tags": []
          },
          "execution_count": 200
        }
      ]
    },
    {
      "metadata": {
        "id": "ije2o-E1ZhHR",
        "colab_type": "code",
        "colab": {}
      },
      "cell_type": "code",
      "source": [
        "#dropping irrelavent columns\n",
        "def drop(data):\n",
        "  return data.drop(['Symbol', 'Series', 'Open', 'High', 'Low', 'Last', 'VWAP', 'Turnover', 'Trades', '%Deliverble', 'Deliverable Volume', 'Prev Close'], axis = 1)"
      ],
      "execution_count": 0,
      "outputs": []
    },
    {
      "metadata": {
        "id": "rB-BJsL4bY7d",
        "colab_type": "code",
        "colab": {}
      },
      "cell_type": "code",
      "source": [
        "tcs = drop(tcs)\n",
        "infy = drop(infy)"
      ],
      "execution_count": 0,
      "outputs": []
    },
    {
      "metadata": {
        "id": "3SHUMrJNbkXq",
        "colab_type": "code",
        "outputId": "2540d5ea-7e33-494a-c19f-f337bdc446cc",
        "colab": {
          "base_uri": "https://localhost:8080/",
          "height": 225
        }
      },
      "cell_type": "code",
      "source": [
        "tcs.head()"
      ],
      "execution_count": 203,
      "outputs": [
        {
          "output_type": "execute_result",
          "data": {
            "text/html": [
              "<div>\n",
              "<style scoped>\n",
              "    .dataframe tbody tr th:only-of-type {\n",
              "        vertical-align: middle;\n",
              "    }\n",
              "\n",
              "    .dataframe tbody tr th {\n",
              "        vertical-align: top;\n",
              "    }\n",
              "\n",
              "    .dataframe thead th {\n",
              "        text-align: right;\n",
              "    }\n",
              "</style>\n",
              "<table border=\"1\" class=\"dataframe\">\n",
              "  <thead>\n",
              "    <tr style=\"text-align: right;\">\n",
              "      <th></th>\n",
              "      <th>Close</th>\n",
              "      <th>Volume</th>\n",
              "    </tr>\n",
              "    <tr>\n",
              "      <th>Date</th>\n",
              "      <th></th>\n",
              "      <th></th>\n",
              "    </tr>\n",
              "  </thead>\n",
              "  <tbody>\n",
              "    <tr>\n",
              "      <th>2018-04-02</th>\n",
              "      <td>2909.65</td>\n",
              "      <td>831494</td>\n",
              "    </tr>\n",
              "    <tr>\n",
              "      <th>2018-04-03</th>\n",
              "      <td>2911.25</td>\n",
              "      <td>968645</td>\n",
              "    </tr>\n",
              "    <tr>\n",
              "      <th>2018-04-04</th>\n",
              "      <td>2910.90</td>\n",
              "      <td>1420910</td>\n",
              "    </tr>\n",
              "    <tr>\n",
              "      <th>2018-04-05</th>\n",
              "      <td>2957.95</td>\n",
              "      <td>904712</td>\n",
              "    </tr>\n",
              "    <tr>\n",
              "      <th>2018-04-06</th>\n",
              "      <td>2950.30</td>\n",
              "      <td>564509</td>\n",
              "    </tr>\n",
              "  </tbody>\n",
              "</table>\n",
              "</div>"
            ],
            "text/plain": [
              "              Close   Volume\n",
              "Date                        \n",
              "2018-04-02  2909.65   831494\n",
              "2018-04-03  2911.25   968645\n",
              "2018-04-04  2910.90  1420910\n",
              "2018-04-05  2957.95   904712\n",
              "2018-04-06  2950.30   564509"
            ]
          },
          "metadata": {
            "tags": []
          },
          "execution_count": 203
        }
      ]
    },
    {
      "metadata": {
        "id": "wqHqgq23WC3N",
        "colab_type": "code",
        "outputId": "03f1908d-9444-45c7-cdff-76e473181992",
        "colab": {
          "base_uri": "https://localhost:8080/",
          "height": 296
        }
      },
      "cell_type": "code",
      "source": [
        "plt.figure()\n",
        "tcs['Close'].plot()\n",
        "plt.legend()"
      ],
      "execution_count": 204,
      "outputs": [
        {
          "output_type": "execute_result",
          "data": {
            "text/plain": [
              "<matplotlib.legend.Legend at 0x7f22fa3c2b70>"
            ]
          },
          "metadata": {
            "tags": []
          },
          "execution_count": 204
        },
        {
          "output_type": "display_data",
          "data": {
            "image/png": "[encoded data removed]",
            "text/plain": [
              "<Figure size 432x288 with 1 Axes>"
            ]
          },
          "metadata": {
            "tags": []
          }
        }
      ]
    },
    {
      "metadata": {
        "id": "Sao0xz-SbnUk",
        "colab_type": "text"
      },
      "cell_type": "markdown",
      "source": [
        "###Volume Shock, Price Shock - Dummy time series"
      ]
    },
    {
      "metadata": {
        "id": "bjftoSCOmNWy",
        "colab_type": "code",
        "colab": {}
      },
      "cell_type": "code",
      "source": [
        "# Time to add some new columns\n",
        "# volume_shock = Volume - Prev Volume\n",
        "# Percentage_Volume_shock = volume_shock / Prev Volume * 100\n",
        "# price_shock = Close - Prev Close\n",
        "# Percentage_close = price_shock / Prev Close * 100"
      ],
      "execution_count": 0,
      "outputs": []
    },
    {
      "metadata": {
        "id": "Lp-b513QrgtR",
        "colab_type": "code",
        "colab": {}
      },
      "cell_type": "code",
      "source": [
        "#checking on the shock percentage\n",
        "def volume_shock(data):\n",
        "  data['Volume_shock'] = data['Volume'].diff(1)\n",
        "  data['%Volume_shock'] = data['Volume_shock'] / data['Volume'] * 100\n",
        "  \n",
        "def price_shock(data):\n",
        "  data['Price_shock'] = data['Close'].diff(1)\n",
        "  data['%Price_shock'] = data['Price_shock'] / data['Close'] * 100"
      ],
      "execution_count": 0,
      "outputs": []
    },
    {
      "metadata": {
        "id": "-nQojCyZsa1S",
        "colab_type": "code",
        "colab": {}
      },
      "cell_type": "code",
      "source": [
        "volume_shock(tcs)\n",
        "price_shock(tcs)"
      ],
      "execution_count": 0,
      "outputs": []
    },
    {
      "metadata": {
        "id": "BQe5Zd25sddd",
        "colab_type": "code",
        "colab": {
          "base_uri": "https://localhost:8080/",
          "height": 225
        },
        "outputId": "82741e29-3b62-4159-d42b-8da42a430150"
      },
      "cell_type": "code",
      "source": [
        "tcs.tail()"
      ],
      "execution_count": 233,
      "outputs": [
        {
          "output_type": "execute_result",
          "data": {
            "text/html": [
              "<div>\n",
              "<style scoped>\n",
              "    .dataframe tbody tr th:only-of-type {\n",
              "        vertical-align: middle;\n",
              "    }\n",
              "\n",
              "    .dataframe tbody tr th {\n",
              "        vertical-align: top;\n",
              "    }\n",
              "\n",
              "    .dataframe thead th {\n",
              "        text-align: right;\n",
              "    }\n",
              "</style>\n",
              "<table border=\"1\" class=\"dataframe\">\n",
              "  <thead>\n",
              "    <tr style=\"text-align: right;\">\n",
              "      <th></th>\n",
              "      <th>Close</th>\n",
              "      <th>Volume</th>\n",
              "      <th>Volume_shock</th>\n",
              "      <th>%Volume_shock</th>\n",
              "      <th>Price_shock</th>\n",
              "      <th>%Price_shock</th>\n",
              "      <th>%Volume_shock_dummy</th>\n",
              "      <th>%Price_shock_dummy</th>\n",
              "      <th>%PriceV/Svolume_dummy</th>\n",
              "    </tr>\n",
              "    <tr>\n",
              "      <th>Date</th>\n",
              "      <th></th>\n",
              "      <th></th>\n",
              "      <th></th>\n",
              "      <th></th>\n",
              "      <th></th>\n",
              "      <th></th>\n",
              "      <th></th>\n",
              "      <th></th>\n",
              "      <th></th>\n",
              "    </tr>\n",
              "  </thead>\n",
              "  <tbody>\n",
              "    <tr>\n",
              "      <th>2019-02-22</th>\n",
              "      <td>1925.65</td>\n",
              "      <td>2271955</td>\n",
              "      <td>-2411964.0</td>\n",
              "      <td>-106.162490</td>\n",
              "      <td>11.45</td>\n",
              "      <td>0.594604</td>\n",
              "      <td>1</td>\n",
              "      <td>0</td>\n",
              "      <td>0</td>\n",
              "    </tr>\n",
              "    <tr>\n",
              "      <th>2019-02-25</th>\n",
              "      <td>1985.15</td>\n",
              "      <td>2934880</td>\n",
              "      <td>662925.0</td>\n",
              "      <td>22.587806</td>\n",
              "      <td>59.50</td>\n",
              "      <td>2.997255</td>\n",
              "      <td>1</td>\n",
              "      <td>1</td>\n",
              "      <td>0</td>\n",
              "    </tr>\n",
              "    <tr>\n",
              "      <th>2019-02-26</th>\n",
              "      <td>2038.70</td>\n",
              "      <td>6453309</td>\n",
              "      <td>3518429.0</td>\n",
              "      <td>54.521316</td>\n",
              "      <td>53.55</td>\n",
              "      <td>2.626674</td>\n",
              "      <td>1</td>\n",
              "      <td>1</td>\n",
              "      <td>0</td>\n",
              "    </tr>\n",
              "    <tr>\n",
              "      <th>2019-02-27</th>\n",
              "      <td>2058.10</td>\n",
              "      <td>4732082</td>\n",
              "      <td>-1721227.0</td>\n",
              "      <td>-36.373567</td>\n",
              "      <td>19.40</td>\n",
              "      <td>0.942617</td>\n",
              "      <td>1</td>\n",
              "      <td>0</td>\n",
              "      <td>0</td>\n",
              "    </tr>\n",
              "    <tr>\n",
              "      <th>2019-02-28</th>\n",
              "      <td>1983.45</td>\n",
              "      <td>8454295</td>\n",
              "      <td>3722213.0</td>\n",
              "      <td>44.027480</td>\n",
              "      <td>-74.65</td>\n",
              "      <td>-3.763644</td>\n",
              "      <td>1</td>\n",
              "      <td>1</td>\n",
              "      <td>0</td>\n",
              "    </tr>\n",
              "  </tbody>\n",
              "</table>\n",
              "</div>"
            ],
            "text/plain": [
              "              Close   Volume  Volume_shock  %Volume_shock  Price_shock  \\\n",
              "Date                                                                     \n",
              "2019-02-22  1925.65  2271955    -2411964.0    -106.162490        11.45   \n",
              "2019-02-25  1985.15  2934880      662925.0      22.587806        59.50   \n",
              "2019-02-26  2038.70  6453309     3518429.0      54.521316        53.55   \n",
              "2019-02-27  2058.10  4732082    -1721227.0     -36.373567        19.40   \n",
              "2019-02-28  1983.45  8454295     3722213.0      44.027480       -74.65   \n",
              "\n",
              "            %Price_shock  %Volume_shock_dummy  %Price_shock_dummy  \\\n",
              "Date                                                                \n",
              "2019-02-22      0.594604                    1                   0   \n",
              "2019-02-25      2.997255                    1                   1   \n",
              "2019-02-26      2.626674                    1                   1   \n",
              "2019-02-27      0.942617                    1                   0   \n",
              "2019-02-28     -3.763644                    1                   1   \n",
              "\n",
              "            %PriceV/Svolume_dummy  \n",
              "Date                               \n",
              "2019-02-22                      0  \n",
              "2019-02-25                      0  \n",
              "2019-02-26                      0  \n",
              "2019-02-27                      0  \n",
              "2019-02-28                      0  "
            ]
          },
          "metadata": {
            "tags": []
          },
          "execution_count": 233
        }
      ]
    },
    {
      "metadata": {
        "id": "rWT_JjkBseq8",
        "colab_type": "code",
        "colab": {}
      },
      "cell_type": "code",
      "source": [
        "#creating dummy columns to represent the desirable change\n",
        "#1. volume shock > |10%|\n",
        "#2. price shock > |2%|\n",
        "#3. Price shock without Volume shock"
      ],
      "execution_count": 0,
      "outputs": []
    },
    {
      "metadata": {
        "id": "Dz_J6j_3tS64",
        "colab_type": "code",
        "colab": {}
      },
      "cell_type": "code",
      "source": [
        "def dummy(data):\n",
        "  data['%Volume_shock_dummy'] = [1 if i>10 or i<-10 else 0 for i in data['%Volume_shock']]\n",
        "  data['%Price_shock_dummy'] = [1 if i>2 or i<-2 else 0 for i in data['%Price_shock']]\n",
        "  data['%PriceV/Svolume_dummy'] = [1 if (data['%Volume_shock_dummy'][i]==0 and data['%Price_shock_dummy'][i]==1) else 0 for i in range(len(data['%Price_shock']))]"
      ],
      "execution_count": 0,
      "outputs": []
    },
    {
      "metadata": {
        "id": "SiVGmqiAx5y7",
        "colab_type": "code",
        "colab": {}
      },
      "cell_type": "code",
      "source": [
        "dummy(tcs)"
      ],
      "execution_count": 0,
      "outputs": []
    },
    {
      "metadata": {
        "id": "FKn4G-Ks2brY",
        "colab_type": "code",
        "colab": {
          "base_uri": "https://localhost:8080/",
          "height": 296
        },
        "outputId": "6ec8affe-d415-45c8-b7b2-e9838cf972f9"
      },
      "cell_type": "code",
      "source": [
        "tcs['%Price_shock_dummy'].plot()"
      ],
      "execution_count": 234,
      "outputs": [
        {
          "output_type": "execute_result",
          "data": {
            "text/plain": [
              "<matplotlib.axes._subplots.AxesSubplot at 0x7f22fa09a668>"
            ]
          },
          "metadata": {
            "tags": []
          },
          "execution_count": 234
        },
        {
          "output_type": "display_data",
          "data": {
            "image/png": "[encoded data removed]",
            "text/plain": [
              "<Figure size 432x288 with 1 Axes>"
            ]
          },
          "metadata": {
            "tags": []
          }
        }
      ]
    },
    {
      "metadata": {
        "id": "TdtVZTSR2jt0",
        "colab_type": "code",
        "colab": {
          "base_uri": "https://localhost:8080/",
          "height": 296
        },
        "outputId": "46d5652f-3a68-4eda-b007-0b9e982f6533"
      },
      "cell_type": "code",
      "source": [
        "tcs['%Volume_shock_dummy'].plot()"
      ],
      "execution_count": 235,
      "outputs": [
        {
          "output_type": "execute_result",
          "data": {
            "text/plain": [
              "<matplotlib.axes._subplots.AxesSubplot at 0x7f22fd14dc88>"
            ]
          },
          "metadata": {
            "tags": []
          },
          "execution_count": 235
        },
        {
          "output_type": "display_data",
          "data": {
            "image/png": "[encoded data removed]",
            "text/plain": [
              "<Figure size 432x288 with 1 Axes>"
            ]
          },
          "metadata": {
            "tags": []
          }
        }
      ]
    },
    {
      "metadata": {
        "id": "I8saigy12TxM",
        "colab_type": "text"
      },
      "cell_type": "markdown",
      "source": [
        "### Moving Averages"
      ]
    },
    {
      "metadata": {
        "id": "AAQrLnwPSEwq",
        "colab_type": "code",
        "colab": {}
      },
      "cell_type": "code",
      "source": [
        "# Moving Window Average Function\n",
        "def moving_avg(data, num_weeks):\n",
        "  \n",
        "  for i in range(4):\n",
        "    window = data['Close'].rolling(window=num_weeks*7*(i+1),  \n",
        "                                   center = False)\n",
        "    #averaging over the window\n",
        "    data['window_'+str(num_weeks*(i+1))] = window.mean()"
      ],
      "execution_count": 0,
      "outputs": []
    },
    {
      "metadata": {
        "id": "5ytp325r26CT",
        "colab_type": "code",
        "colab": {}
      },
      "cell_type": "code",
      "source": [
        "moving_avg(tcs, 4)"
      ],
      "execution_count": 0,
      "outputs": []
    },
    {
      "metadata": {
        "id": "okFeveuudkqp",
        "colab_type": "code",
        "colab": {
          "base_uri": "https://localhost:8080/",
          "height": 296
        },
        "outputId": "03c9f07d-9075-476a-d9b6-93b3b80311d8"
      },
      "cell_type": "code",
      "source": [
        "plt.figure()\n",
        "tcs['window_4'].plot()\n",
        "tcs['window_8'].plot()\n",
        "tcs['window_12'].plot()\n",
        "tcs['window_16'].plot()\n",
        "plt.legend()"
      ],
      "execution_count": 247,
      "outputs": [
        {
          "output_type": "execute_result",
          "data": {
            "text/plain": [
              "<matplotlib.legend.Legend at 0x7f22f9cab7f0>"
            ]
          },
          "metadata": {
            "tags": []
          },
          "execution_count": 247
        },
        {
          "output_type": "display_data",
          "data": {
            "image/png": "[encoded data removed]",
            "text/plain": [
              "<Figure size 432x288 with 1 Axes>"
            ]
          },
          "metadata": {
            "tags": []
          }
        }
      ]
    },
    {
      "metadata": {
        "id": "JLkMJ3T_x8X2",
        "colab_type": "code",
        "colab": {}
      },
      "cell_type": "code",
      "source": [
        "tcs['window10'] = tcs['Close'].rolling(window=10, center=False).mean()\n",
        "tcs['window75'] = tcs['Close'].rolling(window=75, center=False).mean()"
      ],
      "execution_count": 0,
      "outputs": []
    },
    {
      "metadata": {
        "id": "xtxqA7um3XvC",
        "colab_type": "code",
        "colab": {
          "base_uri": "https://localhost:8080/",
          "height": 296
        },
        "outputId": "19544ae2-386c-474b-d56a-5379a9454d73"
      },
      "cell_type": "code",
      "source": [
        "tcs['window10'].plot()"
      ],
      "execution_count": 257,
      "outputs": [
        {
          "output_type": "execute_result",
          "data": {
            "text/plain": [
              "<matplotlib.axes._subplots.AxesSubplot at 0x7f22fa3f8e80>"
            ]
          },
          "metadata": {
            "tags": []
          },
          "execution_count": 257
        },
        {
          "output_type": "display_data",
          "data": {
            "image/png": "[encoded data removed]",
            "text/plain": [
              "<Figure size 432x288 with 1 Axes>"
            ]
          },
          "metadata": {
            "tags": []
          }
        }
      ]
    },
    {
      "metadata": {
        "id": "OKnnPXNV3af7",
        "colab_type": "code",
        "colab": {
          "base_uri": "https://localhost:8080/",
          "height": 297
        },
        "outputId": "4ef6cd64-9e42-4fe2-b643-de71846205f8"
      },
      "cell_type": "code",
      "source": [
        "tcs['window75'].plot()"
      ],
      "execution_count": 258,
      "outputs": [
        {
          "output_type": "execute_result",
          "data": {
            "text/plain": [
              "<matplotlib.axes._subplots.AxesSubplot at 0x7f22f9f3e9b0>"
            ]
          },
          "metadata": {
            "tags": []
          },
          "execution_count": 258
        },
        {
          "output_type": "display_data",
          "data": {
            "image/png": "[encoded data removed]",
            "text/plain": [
              "<Figure size 432x288 with 1 Axes>"
            ]
          },
          "metadata": {
            "tags": []
          }
        }
      ]
    },
    {
      "metadata": {
        "id": "KKV_auEO3u0i",
        "colab_type": "code",
        "colab": {
          "base_uri": "https://localhost:8080/",
          "height": 286
        },
        "outputId": "303598b3-2054-46d1-ff65-2db1e1eb5302"
      },
      "cell_type": "code",
      "source": [
        "tcs.isna().sum()"
      ],
      "execution_count": 264,
      "outputs": [
        {
          "output_type": "execute_result",
          "data": {
            "text/plain": [
              "Close                      0\n",
              "Volume                     0\n",
              "Volume_shock               1\n",
              "%Volume_shock              1\n",
              "Price_shock                1\n",
              "%Price_shock               1\n",
              "%Volume_shock_dummy        0\n",
              "%Price_shock_dummy         0\n",
              "%PriceV/Svolume_dummy      0\n",
              "window_4                  27\n",
              "window_8                  55\n",
              "window_12                 83\n",
              "window_16                111\n",
              "window10                   9\n",
              "window75                  74\n",
              "dtype: int64"
            ]
          },
          "metadata": {
            "tags": []
          },
          "execution_count": 264
        }
      ]
    },
    {
      "metadata": {
        "id": "fit3pRlS7IXR",
        "colab_type": "code",
        "colab": {
          "base_uri": "https://localhost:8080/",
          "height": 34
        },
        "outputId": "01a9ec7f-11fe-4621-fd09-51b766d74e77"
      },
      "cell_type": "code",
      "source": [
        "tcs.shape\n",
        "#As we can see that out of a year(almost) the stock market was working only for 229 days.\n",
        "#this incorporates a discrepancy in rolling window because the holidays have not considered."
      ],
      "execution_count": 265,
      "outputs": [
        {
          "output_type": "execute_result",
          "data": {
            "text/plain": [
              "(229, 15)"
            ]
          },
          "metadata": {
            "tags": []
          },
          "execution_count": 265
        }
      ]
    },
    {
      "metadata": {
        "id": "V3KDDEDQ7g_Q",
        "colab_type": "code",
        "colab": {}
      },
      "cell_type": "code",
      "source": [
        ""
      ],
      "execution_count": 0,
      "outputs": []
    },
    {
      "metadata": {
        "id": "bnPkDqNELvNk",
        "colab_type": "text"
      },
      "cell_type": "markdown",
      "source": [
        "### Visualizations"
      ]
    }
  ]
}