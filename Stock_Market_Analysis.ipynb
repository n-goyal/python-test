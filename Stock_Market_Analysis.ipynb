{
  "nbformat": 4,
  "nbformat_minor": 0,
  "metadata": {
    "colab": {
      "name": "Stock Market Analysis.ipynb",
      "version": "0.3.2",
      "provenance": [],
      "collapsed_sections": [
        "s1ruuGQ1bzh6",
        "hmUm11mfb2zU",
        "Sao0xz-SbnUk",
        "I8saigy12TxM"
      ],
      "include_colab_link": true
    },
    "kernelspec": {
      "name": "python3",
      "display_name": "Python 3"
    },
    "accelerator": "GPU"
  },
  "cells": [
    {
      "cell_type": "markdown",
      "metadata": {
        "id": "view-in-github",
        "colab_type": "text"
      },
      "source": [
        "<a href=\"https://colab.research.google.com/github/n-goyal/python-test/blob/master/Stock_Market_Analysis.ipynb\" target=\"_parent\"><img src=\"https://colab.research.google.com/assets/colab-badge.svg\" alt=\"Open In Colab\"/></a>"
      ]
    },
    {
      "metadata": {
        "id": "s1ruuGQ1bzh6",
        "colab_type": "text"
      },
      "cell_type": "markdown",
      "source": [
        "### tools"
      ]
    },
    {
      "metadata": {
        "id": "4h1qz0znPSt-",
        "colab_type": "code",
        "colab": {}
      },
      "cell_type": "code",
      "source": [
        "#Basic\n",
        "import pandas as pd\n",
        "import numpy as np\n",
        "import matplotlib.pyplot as plt\n",
        "%matplotlib inline\n",
        "import seaborn as sns\n",
        "from datetime import date"
      ],
      "execution_count": 0,
      "outputs": []
    },
    {
      "metadata": {
        "id": "pT3tQrUDQObT",
        "colab_type": "code",
        "colab": {
          "base_uri": "https://localhost:8080/",
          "height": 353
        },
        "outputId": "cafc96b7-6b06-48c8-d2cc-499f413d7cf3"
      },
      "cell_type": "code",
      "source": [
        "#data collection\n",
        "!pip install nsepy\n",
        "from nsepy import get_history"
      ],
      "execution_count": 4,
      "outputs": [
        {
          "output_type": "stream",
          "text": [
            "Collecting nsepy\n",
            "  Downloading https://files.pythonhosted.org/packages/23/c2/0d19d7ddb36638568ad4a83ab80b492eccc540ef7b7fa9df9a26536b16a1/nsepy-0.7.tar.gz\n",
            "Requirement already satisfied: beautifulsoup4 in /usr/local/lib/python3.6/dist-packages (from nsepy) (4.6.3)\n",
            "Requirement already satisfied: requests in /usr/local/lib/python3.6/dist-packages (from nsepy) (2.18.4)\n",
            "Requirement already satisfied: numpy in /usr/local/lib/python3.6/dist-packages (from nsepy) (1.14.6)\n",
            "Requirement already satisfied: pandas in /usr/local/lib/python3.6/dist-packages (from nsepy) (0.22.0)\n",
            "Requirement already satisfied: six in /usr/local/lib/python3.6/dist-packages (from nsepy) (1.11.0)\n",
            "Requirement already satisfied: click in /usr/local/lib/python3.6/dist-packages (from nsepy) (7.0)\n",
            "Requirement already satisfied: chardet<3.1.0,>=3.0.2 in /usr/local/lib/python3.6/dist-packages (from requests->nsepy) (3.0.4)\n",
            "Requirement already satisfied: urllib3<1.23,>=1.21.1 in /usr/local/lib/python3.6/dist-packages (from requests->nsepy) (1.22)\n",
            "Requirement already satisfied: idna<2.7,>=2.5 in /usr/local/lib/python3.6/dist-packages (from requests->nsepy) (2.6)\n",
            "Requirement already satisfied: certifi>=2017.4.17 in /usr/local/lib/python3.6/dist-packages (from requests->nsepy) (2018.11.29)\n",
            "Requirement already satisfied: pytz>=2011k in /usr/local/lib/python3.6/dist-packages (from pandas->nsepy) (2018.9)\n",
            "Requirement already satisfied: python-dateutil>=2 in /usr/local/lib/python3.6/dist-packages (from pandas->nsepy) (2.5.3)\n",
            "Building wheels for collected packages: nsepy\n",
            "  Building wheel for nsepy (setup.py) ... \u001b[?25ldone\n",
            "\u001b[?25h  Stored in directory: /root/.cache/pip/wheels/88/89/1e/3dfa14f863314a42481d8926d9ef4825da5d899e026435fc3a\n",
            "Successfully built nsepy\n",
            "Installing collected packages: nsepy\n",
            "Successfully installed nsepy-0.7\n"
          ],
          "name": "stdout"
        }
      ]
    },
    {
      "metadata": {
        "id": "hmUm11mfb2zU",
        "colab_type": "text"
      },
      "cell_type": "markdown",
      "source": [
        "### Data collection"
      ]
    },
    {
      "metadata": {
        "id": "g0hZ-58rQTUk",
        "colab_type": "code",
        "colab": {}
      },
      "cell_type": "code",
      "source": [
        "tcs_data = get_history(symbol='TCS',\n",
        "                    start=date(2018,4,1), \n",
        "                    end=date(2019,2,28))\n",
        "\n",
        "infy_data = get_history(symbol='INFY',\n",
        "                    start=date(2018,4,1), \n",
        "                    end=date(2019,2,28))"
      ],
      "execution_count": 0,
      "outputs": []
    },
    {
      "metadata": {
        "id": "eoMSAfbTRkn9",
        "colab_type": "code",
        "outputId": "801d8ab0-fef2-499b-8fd4-d68fa2f8a2fe",
        "colab": {
          "base_uri": "https://localhost:8080/",
          "height": 346
        }
      },
      "cell_type": "code",
      "source": [
        "infy_data.head()"
      ],
      "execution_count": 186,
      "outputs": [
        {
          "output_type": "execute_result",
          "data": {
            "text/html": [
              "<div>\n",
              "<style scoped>\n",
              "    .dataframe tbody tr th:only-of-type {\n",
              "        vertical-align: middle;\n",
              "    }\n",
              "\n",
              "    .dataframe tbody tr th {\n",
              "        vertical-align: top;\n",
              "    }\n",
              "\n",
              "    .dataframe thead th {\n",
              "        text-align: right;\n",
              "    }\n",
              "</style>\n",
              "<table border=\"1\" class=\"dataframe\">\n",
              "  <thead>\n",
              "    <tr style=\"text-align: right;\">\n",
              "      <th></th>\n",
              "      <th>Symbol</th>\n",
              "      <th>Series</th>\n",
              "      <th>Prev Close</th>\n",
              "      <th>Open</th>\n",
              "      <th>High</th>\n",
              "      <th>Low</th>\n",
              "      <th>Last</th>\n",
              "      <th>Close</th>\n",
              "      <th>VWAP</th>\n",
              "      <th>Volume</th>\n",
              "      <th>Turnover</th>\n",
              "      <th>Trades</th>\n",
              "      <th>Deliverable Volume</th>\n",
              "      <th>%Deliverble</th>\n",
              "    </tr>\n",
              "    <tr>\n",
              "      <th>Date</th>\n",
              "      <th></th>\n",
              "      <th></th>\n",
              "      <th></th>\n",
              "      <th></th>\n",
              "      <th></th>\n",
              "      <th></th>\n",
              "      <th></th>\n",
              "      <th></th>\n",
              "      <th></th>\n",
              "      <th></th>\n",
              "      <th></th>\n",
              "      <th></th>\n",
              "      <th></th>\n",
              "      <th></th>\n",
              "    </tr>\n",
              "  </thead>\n",
              "  <tbody>\n",
              "    <tr>\n",
              "      <th>2018-04-02</th>\n",
              "      <td>INFY</td>\n",
              "      <td>EQ</td>\n",
              "      <td>1131.80</td>\n",
              "      <td>1141.00</td>\n",
              "      <td>1149.55</td>\n",
              "      <td>1121.3</td>\n",
              "      <td>1136.70</td>\n",
              "      <td>1137.15</td>\n",
              "      <td>1135.86</td>\n",
              "      <td>4036351</td>\n",
              "      <td>4.584717e+14</td>\n",
              "      <td>142078</td>\n",
              "      <td>2960225</td>\n",
              "      <td>0.7334</td>\n",
              "    </tr>\n",
              "    <tr>\n",
              "      <th>2018-04-03</th>\n",
              "      <td>INFY</td>\n",
              "      <td>EQ</td>\n",
              "      <td>1137.15</td>\n",
              "      <td>1134.70</td>\n",
              "      <td>1143.55</td>\n",
              "      <td>1128.1</td>\n",
              "      <td>1139.40</td>\n",
              "      <td>1140.45</td>\n",
              "      <td>1135.21</td>\n",
              "      <td>2038584</td>\n",
              "      <td>2.314227e+14</td>\n",
              "      <td>114034</td>\n",
              "      <td>1366638</td>\n",
              "      <td>0.6704</td>\n",
              "    </tr>\n",
              "    <tr>\n",
              "      <th>2018-04-04</th>\n",
              "      <td>INFY</td>\n",
              "      <td>EQ</td>\n",
              "      <td>1140.45</td>\n",
              "      <td>1144.00</td>\n",
              "      <td>1144.55</td>\n",
              "      <td>1120.0</td>\n",
              "      <td>1122.70</td>\n",
              "      <td>1124.20</td>\n",
              "      <td>1131.81</td>\n",
              "      <td>2406651</td>\n",
              "      <td>2.723879e+14</td>\n",
              "      <td>137029</td>\n",
              "      <td>1472105</td>\n",
              "      <td>0.6117</td>\n",
              "    </tr>\n",
              "    <tr>\n",
              "      <th>2018-04-05</th>\n",
              "      <td>INFY</td>\n",
              "      <td>EQ</td>\n",
              "      <td>1124.20</td>\n",
              "      <td>1139.55</td>\n",
              "      <td>1151.30</td>\n",
              "      <td>1129.1</td>\n",
              "      <td>1146.05</td>\n",
              "      <td>1147.55</td>\n",
              "      <td>1140.71</td>\n",
              "      <td>3881772</td>\n",
              "      <td>4.427993e+14</td>\n",
              "      <td>101745</td>\n",
              "      <td>2899162</td>\n",
              "      <td>0.7469</td>\n",
              "    </tr>\n",
              "    <tr>\n",
              "      <th>2018-04-06</th>\n",
              "      <td>INFY</td>\n",
              "      <td>EQ</td>\n",
              "      <td>1147.55</td>\n",
              "      <td>1143.00</td>\n",
              "      <td>1146.00</td>\n",
              "      <td>1122.1</td>\n",
              "      <td>1127.55</td>\n",
              "      <td>1127.00</td>\n",
              "      <td>1128.81</td>\n",
              "      <td>2968871</td>\n",
              "      <td>3.351285e+14</td>\n",
              "      <td>137277</td>\n",
              "      <td>1891236</td>\n",
              "      <td>0.6370</td>\n",
              "    </tr>\n",
              "  </tbody>\n",
              "</table>\n",
              "</div>"
            ],
            "text/plain": [
              "           Symbol Series  Prev Close     Open     High     Low     Last  \\\n",
              "Date                                                                      \n",
              "2018-04-02   INFY     EQ     1131.80  1141.00  1149.55  1121.3  1136.70   \n",
              "2018-04-03   INFY     EQ     1137.15  1134.70  1143.55  1128.1  1139.40   \n",
              "2018-04-04   INFY     EQ     1140.45  1144.00  1144.55  1120.0  1122.70   \n",
              "2018-04-05   INFY     EQ     1124.20  1139.55  1151.30  1129.1  1146.05   \n",
              "2018-04-06   INFY     EQ     1147.55  1143.00  1146.00  1122.1  1127.55   \n",
              "\n",
              "              Close     VWAP   Volume      Turnover  Trades  \\\n",
              "Date                                                          \n",
              "2018-04-02  1137.15  1135.86  4036351  4.584717e+14  142078   \n",
              "2018-04-03  1140.45  1135.21  2038584  2.314227e+14  114034   \n",
              "2018-04-04  1124.20  1131.81  2406651  2.723879e+14  137029   \n",
              "2018-04-05  1147.55  1140.71  3881772  4.427993e+14  101745   \n",
              "2018-04-06  1127.00  1128.81  2968871  3.351285e+14  137277   \n",
              "\n",
              "            Deliverable Volume  %Deliverble  \n",
              "Date                                         \n",
              "2018-04-02             2960225       0.7334  \n",
              "2018-04-03             1366638       0.6704  \n",
              "2018-04-04             1472105       0.6117  \n",
              "2018-04-05             2899162       0.7469  \n",
              "2018-04-06             1891236       0.6370  "
            ]
          },
          "metadata": {
            "tags": []
          },
          "execution_count": 186
        }
      ]
    },
    {
      "metadata": {
        "id": "ije2o-E1ZhHR",
        "colab_type": "code",
        "colab": {}
      },
      "cell_type": "code",
      "source": [
        "#dropping irrelavent columns\n",
        "def drop(data):\n",
        "  return data.drop(['Symbol', 'Series', 'Open', 'High', 'Low', 'Last', 'VWAP', 'Turnover', 'Trades', '%Deliverble', 'Deliverable Volume', 'Prev Close'], axis = 1)"
      ],
      "execution_count": 0,
      "outputs": []
    },
    {
      "metadata": {
        "id": "rB-BJsL4bY7d",
        "colab_type": "code",
        "colab": {}
      },
      "cell_type": "code",
      "source": [
        "tcs = drop(tcs_data)\n",
        "infy = drop(infy_data)"
      ],
      "execution_count": 0,
      "outputs": []
    },
    {
      "metadata": {
        "id": "3SHUMrJNbkXq",
        "colab_type": "code",
        "outputId": "fe7a3ce8-26eb-48c4-8d20-fb9da564d096",
        "colab": {
          "base_uri": "https://localhost:8080/",
          "height": 225
        }
      },
      "cell_type": "code",
      "source": [
        "tcs.head()"
      ],
      "execution_count": 189,
      "outputs": [
        {
          "output_type": "execute_result",
          "data": {
            "text/html": [
              "<div>\n",
              "<style scoped>\n",
              "    .dataframe tbody tr th:only-of-type {\n",
              "        vertical-align: middle;\n",
              "    }\n",
              "\n",
              "    .dataframe tbody tr th {\n",
              "        vertical-align: top;\n",
              "    }\n",
              "\n",
              "    .dataframe thead th {\n",
              "        text-align: right;\n",
              "    }\n",
              "</style>\n",
              "<table border=\"1\" class=\"dataframe\">\n",
              "  <thead>\n",
              "    <tr style=\"text-align: right;\">\n",
              "      <th></th>\n",
              "      <th>Close</th>\n",
              "      <th>Volume</th>\n",
              "    </tr>\n",
              "    <tr>\n",
              "      <th>Date</th>\n",
              "      <th></th>\n",
              "      <th></th>\n",
              "    </tr>\n",
              "  </thead>\n",
              "  <tbody>\n",
              "    <tr>\n",
              "      <th>2018-04-02</th>\n",
              "      <td>2909.65</td>\n",
              "      <td>831494</td>\n",
              "    </tr>\n",
              "    <tr>\n",
              "      <th>2018-04-03</th>\n",
              "      <td>2911.25</td>\n",
              "      <td>968645</td>\n",
              "    </tr>\n",
              "    <tr>\n",
              "      <th>2018-04-04</th>\n",
              "      <td>2910.90</td>\n",
              "      <td>1420910</td>\n",
              "    </tr>\n",
              "    <tr>\n",
              "      <th>2018-04-05</th>\n",
              "      <td>2957.95</td>\n",
              "      <td>904712</td>\n",
              "    </tr>\n",
              "    <tr>\n",
              "      <th>2018-04-06</th>\n",
              "      <td>2950.30</td>\n",
              "      <td>564509</td>\n",
              "    </tr>\n",
              "  </tbody>\n",
              "</table>\n",
              "</div>"
            ],
            "text/plain": [
              "              Close   Volume\n",
              "Date                        \n",
              "2018-04-02  2909.65   831494\n",
              "2018-04-03  2911.25   968645\n",
              "2018-04-04  2910.90  1420910\n",
              "2018-04-05  2957.95   904712\n",
              "2018-04-06  2950.30   564509"
            ]
          },
          "metadata": {
            "tags": []
          },
          "execution_count": 189
        }
      ]
    },
    {
      "metadata": {
        "id": "wqHqgq23WC3N",
        "colab_type": "code",
        "outputId": "ce7c1259-38b3-41b2-8d75-cacc53ed2ffc",
        "colab": {
          "base_uri": "https://localhost:8080/",
          "height": 296
        }
      },
      "cell_type": "code",
      "source": [
        "plt.figure()\n",
        "tcs['Close'].plot()\n",
        "plt.legend()"
      ],
      "execution_count": 190,
      "outputs": [
        {
          "output_type": "execute_result",
          "data": {
            "text/plain": [
              "<matplotlib.legend.Legend at 0x7f66f2066c50>"
            ]
          },
          "metadata": {
            "tags": []
          },
          "execution_count": 190
        },
        {
          "output_type": "display_data",
          "data": {
            "image/png": "[encoded data removed]",
            "text/plain": [
              "<Figure size 432x288 with 1 Axes>"
            ]
          },
          "metadata": {
            "tags": []
          }
        }
      ]
    },
    {
      "metadata": {
        "id": "Sao0xz-SbnUk",
        "colab_type": "text"
      },
      "cell_type": "markdown",
      "source": [
        "###Volume Shock, Price Shock - Dummy time series"
      ]
    },
    {
      "metadata": {
        "id": "bjftoSCOmNWy",
        "colab_type": "code",
        "colab": {}
      },
      "cell_type": "code",
      "source": [
        "# Time to add some new columns\n",
        "# volume_shock = Volume - Prev Volume\n",
        "# Percentage_Volume_shock = volume_shock / Prev Volume * 100\n",
        "# price_shock = Close - Prev Close\n",
        "# Percentage_close = price_shock / Prev Close * 100"
      ],
      "execution_count": 0,
      "outputs": []
    },
    {
      "metadata": {
        "id": "4mUQY-JaBUpx",
        "colab_type": "code",
        "colab": {}
      },
      "cell_type": "code",
      "source": [
        "tcs = tcs_data\n",
        "infy = infy_data"
      ],
      "execution_count": 0,
      "outputs": []
    },
    {
      "metadata": {
        "id": "Lp-b513QrgtR",
        "colab_type": "code",
        "colab": {}
      },
      "cell_type": "code",
      "source": [
        "#checking on the shock percentage\n",
        "def volume_shock(data): \n",
        "  data['Volume_diff'] = data['Volume'].diff(1)\n",
        "  return data['Volume'].diff(1) / data['Volume'] * 100\n",
        "  \n",
        "def price_shock(data):\n",
        "  data['Price_diff'] = data['Close'].diff(1)\n",
        "  return data['Close'].diff(1) / data['Close'] * 100\n",
        "\n",
        "def dummy(data):\n",
        "#   drop(data)\n",
        "  data['Volume_shock'] = [1 if abs(i)>0 else 0 for i in volume_shock(data)]\n",
        "  data['Price_shock'] = [1 if abs(i)>2 else 0 for i in price_shock(data)]\n",
        "  data['PriceV/Svolume'] = [1 if (data['Volume_shock'][i]==0 and data['Price_shock'][i]==1) \n",
        "                            else 0 for i in range(len(price_shock(data)))]"
      ],
      "execution_count": 0,
      "outputs": []
    },
    {
      "metadata": {
        "id": "SiVGmqiAx5y7",
        "colab_type": "code",
        "colab": {
          "base_uri": "https://localhost:8080/",
          "height": 329
        },
        "outputId": "c87b698e-3584-4f20-b3b4-b4ba721c58c7"
      },
      "cell_type": "code",
      "source": [
        "dummy(tcs)\n",
        "tcs.head()"
      ],
      "execution_count": 196,
      "outputs": [
        {
          "output_type": "execute_result",
          "data": {
            "text/html": [
              "<div>\n",
              "<style scoped>\n",
              "    .dataframe tbody tr th:only-of-type {\n",
              "        vertical-align: middle;\n",
              "    }\n",
              "\n",
              "    .dataframe tbody tr th {\n",
              "        vertical-align: top;\n",
              "    }\n",
              "\n",
              "    .dataframe thead th {\n",
              "        text-align: right;\n",
              "    }\n",
              "</style>\n",
              "<table border=\"1\" class=\"dataframe\">\n",
              "  <thead>\n",
              "    <tr style=\"text-align: right;\">\n",
              "      <th></th>\n",
              "      <th>Close</th>\n",
              "      <th>Volume</th>\n",
              "      <th>Volume_shock</th>\n",
              "      <th>Price_shock</th>\n",
              "      <th>PriceV/Svolume</th>\n",
              "      <th>Volume_diff</th>\n",
              "      <th>Price_diff</th>\n",
              "    </tr>\n",
              "    <tr>\n",
              "      <th>Date</th>\n",
              "      <th></th>\n",
              "      <th></th>\n",
              "      <th></th>\n",
              "      <th></th>\n",
              "      <th></th>\n",
              "      <th></th>\n",
              "      <th></th>\n",
              "    </tr>\n",
              "  </thead>\n",
              "  <tbody>\n",
              "    <tr>\n",
              "      <th>2018-04-02</th>\n",
              "      <td>2909.65</td>\n",
              "      <td>831494</td>\n",
              "      <td>0</td>\n",
              "      <td>0</td>\n",
              "      <td>0</td>\n",
              "      <td>NaN</td>\n",
              "      <td>NaN</td>\n",
              "    </tr>\n",
              "    <tr>\n",
              "      <th>2018-04-03</th>\n",
              "      <td>2911.25</td>\n",
              "      <td>968645</td>\n",
              "      <td>1</td>\n",
              "      <td>0</td>\n",
              "      <td>0</td>\n",
              "      <td>137151.0</td>\n",
              "      <td>1.60</td>\n",
              "    </tr>\n",
              "    <tr>\n",
              "      <th>2018-04-04</th>\n",
              "      <td>2910.90</td>\n",
              "      <td>1420910</td>\n",
              "      <td>1</td>\n",
              "      <td>0</td>\n",
              "      <td>0</td>\n",
              "      <td>452265.0</td>\n",
              "      <td>-0.35</td>\n",
              "    </tr>\n",
              "    <tr>\n",
              "      <th>2018-04-05</th>\n",
              "      <td>2957.95</td>\n",
              "      <td>904712</td>\n",
              "      <td>1</td>\n",
              "      <td>0</td>\n",
              "      <td>0</td>\n",
              "      <td>-516198.0</td>\n",
              "      <td>47.05</td>\n",
              "    </tr>\n",
              "    <tr>\n",
              "      <th>2018-04-06</th>\n",
              "      <td>2950.30</td>\n",
              "      <td>564509</td>\n",
              "      <td>1</td>\n",
              "      <td>0</td>\n",
              "      <td>0</td>\n",
              "      <td>-340203.0</td>\n",
              "      <td>-7.65</td>\n",
              "    </tr>\n",
              "  </tbody>\n",
              "</table>\n",
              "</div>"
            ],
            "text/plain": [
              "              Close   Volume  Volume_shock  Price_shock  PriceV/Svolume  \\\n",
              "Date                                                                      \n",
              "2018-04-02  2909.65   831494             0            0               0   \n",
              "2018-04-03  2911.25   968645             1            0               0   \n",
              "2018-04-04  2910.90  1420910             1            0               0   \n",
              "2018-04-05  2957.95   904712             1            0               0   \n",
              "2018-04-06  2950.30   564509             1            0               0   \n",
              "\n",
              "            Volume_diff  Price_diff  \n",
              "Date                                 \n",
              "2018-04-02          NaN         NaN  \n",
              "2018-04-03     137151.0        1.60  \n",
              "2018-04-04     452265.0       -0.35  \n",
              "2018-04-05    -516198.0       47.05  \n",
              "2018-04-06    -340203.0       -7.65  "
            ]
          },
          "metadata": {
            "tags": []
          },
          "execution_count": 196
        }
      ]
    },
    {
      "metadata": {
        "id": "XIf5QoctEP-k",
        "colab_type": "code",
        "colab": {}
      },
      "cell_type": "code",
      "source": [
        "#direction of shock\n",
        "# def direction(name):\n",
        "#   if data['{}_shock'.format(name)] == 0:\n",
        "#     pass\n",
        "#   else:\n",
        "#     if (data['{}_diff'.format(name)]<0):\n",
        "#       return 0\n",
        "#     else:\n",
        "#       return 1"
      ],
      "execution_count": 0,
      "outputs": []
    },
    {
      "metadata": {
        "id": "OtljmFrdEsY3",
        "colab_type": "code",
        "colab": {}
      },
      "cell_type": "code",
      "source": [
        "# def vol_shock_dir(data, name):\n",
        "#   data['Volume_shock_direction'] = direction(name)\n",
        "#   return data"
      ],
      "execution_count": 0,
      "outputs": []
    },
    {
      "metadata": {
        "id": "W_mIbKbpFHW7",
        "colab_type": "code",
        "colab": {}
      },
      "cell_type": "code",
      "source": [
        "# tcs = vol_shock_dir(tcs, 'Volume')"
      ],
      "execution_count": 0,
      "outputs": []
    },
    {
      "metadata": {
        "id": "FKn4G-Ks2brY",
        "colab_type": "code",
        "outputId": "b794168f-61a6-451c-f656-7b8c8ace01d4",
        "colab": {
          "base_uri": "https://localhost:8080/",
          "height": 296
        }
      },
      "cell_type": "code",
      "source": [
        "tcs['%Price_shock_dummy'].plot()"
      ],
      "execution_count": 21,
      "outputs": [
        {
          "output_type": "execute_result",
          "data": {
            "text/plain": [
              "<matplotlib.axes._subplots.AxesSubplot at 0x7f66f49729e8>"
            ]
          },
          "metadata": {
            "tags": []
          },
          "execution_count": 21
        },
        {
          "output_type": "display_data",
          "data": {
            "image/png": "[encoded data removed]",
            "text/plain": [
              "<Figure size 432x288 with 1 Axes>"
            ]
          },
          "metadata": {
            "tags": []
          }
        }
      ]
    },
    {
      "metadata": {
        "id": "TdtVZTSR2jt0",
        "colab_type": "code",
        "outputId": "46d5652f-3a68-4eda-b007-0b9e982f6533",
        "colab": {
          "base_uri": "https://localhost:8080/",
          "height": 296
        }
      },
      "cell_type": "code",
      "source": [
        "tcs['%Volume_shock_dummy'].plot()"
      ],
      "execution_count": 0,
      "outputs": [
        {
          "output_type": "execute_result",
          "data": {
            "text/plain": [
              "<matplotlib.axes._subplots.AxesSubplot at 0x7f22fd14dc88>"
            ]
          },
          "metadata": {
            "tags": []
          },
          "execution_count": 235
        },
        {
          "output_type": "display_data",
          "data": {
            "image/png": "[encoded data removed]",
            "text/plain": [
              "<Figure size 432x288 with 1 Axes>"
            ]
          },
          "metadata": {
            "tags": []
          }
        }
      ]
    },
    {
      "metadata": {
        "id": "I8saigy12TxM",
        "colab_type": "text"
      },
      "cell_type": "markdown",
      "source": [
        "### Moving Averages"
      ]
    },
    {
      "metadata": {
        "id": "7m3DYea2Xhd4",
        "colab_type": "code",
        "colab": {}
      },
      "cell_type": "code",
      "source": [
        "tcs = tcs_data\n",
        "tcs = drop(tcs)"
      ],
      "execution_count": 0,
      "outputs": []
    },
    {
      "metadata": {
        "id": "KKV_auEO3u0i",
        "colab_type": "code",
        "outputId": "2fa88f71-6fd7-4bb5-bef3-ce95cd53d055",
        "colab": {
          "base_uri": "https://localhost:8080/",
          "height": 67
        }
      },
      "cell_type": "code",
      "source": [
        "tcs.isna().sum()"
      ],
      "execution_count": 34,
      "outputs": [
        {
          "output_type": "execute_result",
          "data": {
            "text/plain": [
              "Close     0\n",
              "Volume    0\n",
              "dtype: int64"
            ]
          },
          "metadata": {
            "tags": []
          },
          "execution_count": 34
        }
      ]
    },
    {
      "metadata": {
        "id": "AAQrLnwPSEwq",
        "colab_type": "code",
        "colab": {}
      },
      "cell_type": "code",
      "source": [
        "# Moving Window Average Function\n",
        "def moving_avg(data, num_weeks):\n",
        "  \n",
        "  for i in range(4):\n",
        "    window = data['Close'].rolling(window=num_weeks*7*(i+1),  \n",
        "                                   center = False,\n",
        "                                   min_periods=1)\n",
        "    #averaging over the window\n",
        "    data['window_'+str(num_weeks*(i+1))] = window.mean()"
      ],
      "execution_count": 0,
      "outputs": []
    },
    {
      "metadata": {
        "id": "5ytp325r26CT",
        "colab_type": "code",
        "colab": {
          "base_uri": "https://localhost:8080/",
          "height": 225
        },
        "outputId": "09360630-cc12-4192-ef4d-474c000135c0"
      },
      "cell_type": "code",
      "source": [
        "moving_avg(tcs, 4)\n",
        "tcs.tail()"
      ],
      "execution_count": 44,
      "outputs": [
        {
          "output_type": "execute_result",
          "data": {
            "text/html": [
              "<div>\n",
              "<style scoped>\n",
              "    .dataframe tbody tr th:only-of-type {\n",
              "        vertical-align: middle;\n",
              "    }\n",
              "\n",
              "    .dataframe tbody tr th {\n",
              "        vertical-align: top;\n",
              "    }\n",
              "\n",
              "    .dataframe thead th {\n",
              "        text-align: right;\n",
              "    }\n",
              "</style>\n",
              "<table border=\"1\" class=\"dataframe\">\n",
              "  <thead>\n",
              "    <tr style=\"text-align: right;\">\n",
              "      <th></th>\n",
              "      <th>Close</th>\n",
              "      <th>Volume</th>\n",
              "      <th>window_4</th>\n",
              "      <th>window_8</th>\n",
              "      <th>window_12</th>\n",
              "      <th>window_16</th>\n",
              "    </tr>\n",
              "    <tr>\n",
              "      <th>Date</th>\n",
              "      <th></th>\n",
              "      <th></th>\n",
              "      <th></th>\n",
              "      <th></th>\n",
              "      <th></th>\n",
              "      <th></th>\n",
              "    </tr>\n",
              "  </thead>\n",
              "  <tbody>\n",
              "    <tr>\n",
              "      <th>2019-02-22</th>\n",
              "      <td>1925.65</td>\n",
              "      <td>2271955</td>\n",
              "      <td>1976.344643</td>\n",
              "      <td>1951.609821</td>\n",
              "      <td>1937.077381</td>\n",
              "      <td>1965.526786</td>\n",
              "    </tr>\n",
              "    <tr>\n",
              "      <th>2019-02-25</th>\n",
              "      <td>1985.15</td>\n",
              "      <td>2934880</td>\n",
              "      <td>1980.451786</td>\n",
              "      <td>1951.475000</td>\n",
              "      <td>1938.650595</td>\n",
              "      <td>1964.981250</td>\n",
              "    </tr>\n",
              "    <tr>\n",
              "      <th>2019-02-26</th>\n",
              "      <td>2038.70</td>\n",
              "      <td>6453309</td>\n",
              "      <td>1985.608929</td>\n",
              "      <td>1952.251786</td>\n",
              "      <td>1941.502976</td>\n",
              "      <td>1964.934375</td>\n",
              "    </tr>\n",
              "    <tr>\n",
              "      <th>2019-02-27</th>\n",
              "      <td>2058.10</td>\n",
              "      <td>4732082</td>\n",
              "      <td>1991.232143</td>\n",
              "      <td>1953.721429</td>\n",
              "      <td>1943.730357</td>\n",
              "      <td>1964.869196</td>\n",
              "    </tr>\n",
              "    <tr>\n",
              "      <th>2019-02-28</th>\n",
              "      <td>1983.45</td>\n",
              "      <td>8454295</td>\n",
              "      <td>1993.901786</td>\n",
              "      <td>1953.425893</td>\n",
              "      <td>1944.785714</td>\n",
              "      <td>1964.059375</td>\n",
              "    </tr>\n",
              "  </tbody>\n",
              "</table>\n",
              "</div>"
            ],
            "text/plain": [
              "              Close   Volume     window_4     window_8    window_12  \\\n",
              "Date                                                                  \n",
              "2019-02-22  1925.65  2271955  1976.344643  1951.609821  1937.077381   \n",
              "2019-02-25  1985.15  2934880  1980.451786  1951.475000  1938.650595   \n",
              "2019-02-26  2038.70  6453309  1985.608929  1952.251786  1941.502976   \n",
              "2019-02-27  2058.10  4732082  1991.232143  1953.721429  1943.730357   \n",
              "2019-02-28  1983.45  8454295  1993.901786  1953.425893  1944.785714   \n",
              "\n",
              "              window_16  \n",
              "Date                     \n",
              "2019-02-22  1965.526786  \n",
              "2019-02-25  1964.981250  \n",
              "2019-02-26  1964.934375  \n",
              "2019-02-27  1964.869196  \n",
              "2019-02-28  1964.059375  "
            ]
          },
          "metadata": {
            "tags": []
          },
          "execution_count": 44
        }
      ]
    },
    {
      "metadata": {
        "id": "3-b5AnkoYEGC",
        "colab_type": "code",
        "colab": {
          "base_uri": "https://localhost:8080/",
          "height": 134
        },
        "outputId": "77de39cb-1e41-49d4-9f04-01658ce0a3be"
      },
      "cell_type": "code",
      "source": [
        "tcs.isna().sum()"
      ],
      "execution_count": 37,
      "outputs": [
        {
          "output_type": "execute_result",
          "data": {
            "text/plain": [
              "Close        0\n",
              "Volume       0\n",
              "window_4     0\n",
              "window_8     0\n",
              "window_12    0\n",
              "window_16    0\n",
              "dtype: int64"
            ]
          },
          "metadata": {
            "tags": []
          },
          "execution_count": 37
        }
      ]
    },
    {
      "metadata": {
        "id": "j772S5oQYHlQ",
        "colab_type": "code",
        "colab": {
          "base_uri": "https://localhost:8080/",
          "height": 34
        },
        "outputId": "dd10c48c-8c57-4aad-e956-d39d147917a2"
      },
      "cell_type": "code",
      "source": [
        "tcs.shape"
      ],
      "execution_count": 31,
      "outputs": [
        {
          "output_type": "execute_result",
          "data": {
            "text/plain": [
              "(229, 6)"
            ]
          },
          "metadata": {
            "tags": []
          },
          "execution_count": 31
        }
      ]
    },
    {
      "metadata": {
        "id": "okFeveuudkqp",
        "colab_type": "code",
        "outputId": "0cce74be-98a4-41b5-e0b9-257339e4aeac",
        "colab": {
          "base_uri": "https://localhost:8080/",
          "height": 296
        }
      },
      "cell_type": "code",
      "source": [
        "plt.figure()\n",
        "tcs['window_4'].plot()\n",
        "tcs['window_8'].plot()\n",
        "tcs['window_12'].plot()\n",
        "tcs['window_16'].plot()\n",
        "plt.legend()"
      ],
      "execution_count": 38,
      "outputs": [
        {
          "output_type": "execute_result",
          "data": {
            "text/plain": [
              "<matplotlib.legend.Legend at 0x7f66f4966eb8>"
            ]
          },
          "metadata": {
            "tags": []
          },
          "execution_count": 38
        },
        {
          "output_type": "display_data",
          "data": {
            "image/png": "[encoded data removed]",
            "text/plain": [
              "<Figure size 432x288 with 1 Axes>"
            ]
          },
          "metadata": {
            "tags": []
          }
        }
      ]
    },
    {
      "metadata": {
        "id": "JLkMJ3T_x8X2",
        "colab_type": "code",
        "colab": {}
      },
      "cell_type": "code",
      "source": [
        "tcs['window10'] = tcs['Close'].rolling(window=10, center=False, min_periods = 1).mean()\n",
        "tcs['window75'] = tcs['Close'].rolling(window=75, center=False, min_periods = 1).mean()"
      ],
      "execution_count": 0,
      "outputs": []
    },
    {
      "metadata": {
        "id": "fit3pRlS7IXR",
        "colab_type": "code",
        "outputId": "86b997b6-f97d-4b85-8099-39714fe52af2",
        "colab": {
          "base_uri": "https://localhost:8080/",
          "height": 225
        }
      },
      "cell_type": "code",
      "source": [
        "tcs.head()\n",
        "#As we can see that out of a year(almost) the stock market was working only for 229 days.\n",
        "#this incorporates a discrepancy in rolling window because the holidays have not considered."
      ],
      "execution_count": 47,
      "outputs": [
        {
          "output_type": "execute_result",
          "data": {
            "text/html": [
              "<div>\n",
              "<style scoped>\n",
              "    .dataframe tbody tr th:only-of-type {\n",
              "        vertical-align: middle;\n",
              "    }\n",
              "\n",
              "    .dataframe tbody tr th {\n",
              "        vertical-align: top;\n",
              "    }\n",
              "\n",
              "    .dataframe thead th {\n",
              "        text-align: right;\n",
              "    }\n",
              "</style>\n",
              "<table border=\"1\" class=\"dataframe\">\n",
              "  <thead>\n",
              "    <tr style=\"text-align: right;\">\n",
              "      <th></th>\n",
              "      <th>Close</th>\n",
              "      <th>Volume</th>\n",
              "      <th>window_4</th>\n",
              "      <th>window_8</th>\n",
              "      <th>window_12</th>\n",
              "      <th>window_16</th>\n",
              "      <th>window10</th>\n",
              "      <th>window75</th>\n",
              "    </tr>\n",
              "    <tr>\n",
              "      <th>Date</th>\n",
              "      <th></th>\n",
              "      <th></th>\n",
              "      <th></th>\n",
              "      <th></th>\n",
              "      <th></th>\n",
              "      <th></th>\n",
              "      <th></th>\n",
              "      <th></th>\n",
              "    </tr>\n",
              "  </thead>\n",
              "  <tbody>\n",
              "    <tr>\n",
              "      <th>2018-04-02</th>\n",
              "      <td>2909.65</td>\n",
              "      <td>831494</td>\n",
              "      <td>2909.6500</td>\n",
              "      <td>2909.6500</td>\n",
              "      <td>2909.6500</td>\n",
              "      <td>2909.6500</td>\n",
              "      <td>2909.6500</td>\n",
              "      <td>2909.6500</td>\n",
              "    </tr>\n",
              "    <tr>\n",
              "      <th>2018-04-03</th>\n",
              "      <td>2911.25</td>\n",
              "      <td>968645</td>\n",
              "      <td>2910.4500</td>\n",
              "      <td>2910.4500</td>\n",
              "      <td>2910.4500</td>\n",
              "      <td>2910.4500</td>\n",
              "      <td>2910.4500</td>\n",
              "      <td>2910.4500</td>\n",
              "    </tr>\n",
              "    <tr>\n",
              "      <th>2018-04-04</th>\n",
              "      <td>2910.90</td>\n",
              "      <td>1420910</td>\n",
              "      <td>2910.6000</td>\n",
              "      <td>2910.6000</td>\n",
              "      <td>2910.6000</td>\n",
              "      <td>2910.6000</td>\n",
              "      <td>2910.6000</td>\n",
              "      <td>2910.6000</td>\n",
              "    </tr>\n",
              "    <tr>\n",
              "      <th>2018-04-05</th>\n",
              "      <td>2957.95</td>\n",
              "      <td>904712</td>\n",
              "      <td>2922.4375</td>\n",
              "      <td>2922.4375</td>\n",
              "      <td>2922.4375</td>\n",
              "      <td>2922.4375</td>\n",
              "      <td>2922.4375</td>\n",
              "      <td>2922.4375</td>\n",
              "    </tr>\n",
              "    <tr>\n",
              "      <th>2018-04-06</th>\n",
              "      <td>2950.30</td>\n",
              "      <td>564509</td>\n",
              "      <td>2928.0100</td>\n",
              "      <td>2928.0100</td>\n",
              "      <td>2928.0100</td>\n",
              "      <td>2928.0100</td>\n",
              "      <td>2928.0100</td>\n",
              "      <td>2928.0100</td>\n",
              "    </tr>\n",
              "  </tbody>\n",
              "</table>\n",
              "</div>"
            ],
            "text/plain": [
              "              Close   Volume   window_4   window_8  window_12  window_16  \\\n",
              "Date                                                                       \n",
              "2018-04-02  2909.65   831494  2909.6500  2909.6500  2909.6500  2909.6500   \n",
              "2018-04-03  2911.25   968645  2910.4500  2910.4500  2910.4500  2910.4500   \n",
              "2018-04-04  2910.90  1420910  2910.6000  2910.6000  2910.6000  2910.6000   \n",
              "2018-04-05  2957.95   904712  2922.4375  2922.4375  2922.4375  2922.4375   \n",
              "2018-04-06  2950.30   564509  2928.0100  2928.0100  2928.0100  2928.0100   \n",
              "\n",
              "             window10   window75  \n",
              "Date                              \n",
              "2018-04-02  2909.6500  2909.6500  \n",
              "2018-04-03  2910.4500  2910.4500  \n",
              "2018-04-04  2910.6000  2910.6000  \n",
              "2018-04-05  2922.4375  2922.4375  \n",
              "2018-04-06  2928.0100  2928.0100  "
            ]
          },
          "metadata": {
            "tags": []
          },
          "execution_count": 47
        }
      ]
    },
    {
      "metadata": {
        "id": "Zwhxi5n9cbmt",
        "colab_type": "code",
        "colab": {
          "base_uri": "https://localhost:8080/",
          "height": 296
        },
        "outputId": "70ba3e3f-b736-4369-af35-6b0b98b8c953"
      },
      "cell_type": "code",
      "source": [
        "tcs['window10'].plot()\n",
        "tcs['window75'].plot()"
      ],
      "execution_count": 50,
      "outputs": [
        {
          "output_type": "execute_result",
          "data": {
            "text/plain": [
              "<matplotlib.axes._subplots.AxesSubplot at 0x7f66f878fc50>"
            ]
          },
          "metadata": {
            "tags": []
          },
          "execution_count": 50
        },
        {
          "output_type": "display_data",
          "data": {
            "image/png": "[encoded data removed]",
            "text/plain": [
              "<Figure size 432x288 with 1 Axes>"
            ]
          },
          "metadata": {
            "tags": []
          }
        }
      ]
    },
    {
      "metadata": {
        "id": "bnPkDqNELvNk",
        "colab_type": "text"
      },
      "cell_type": "markdown",
      "source": [
        "### Moving Average (Window = 10, 75) - considering holidays"
      ]
    },
    {
      "metadata": {
        "id": "f9SwjuPwfsv-",
        "colab_type": "code",
        "colab": {}
      },
      "cell_type": "code",
      "source": [
        "tcs = tcs_data\n",
        "infy = infy_data\n",
        "stocks = [tcs, infy]"
      ],
      "execution_count": 0,
      "outputs": []
    },
    {
      "metadata": {
        "id": "ixkyhB3AgZel",
        "colab_type": "code",
        "colab": {}
      },
      "cell_type": "code",
      "source": [
        "def dates(data):\n",
        "  data['Date'] = pd.to_datetime(data.index)\n",
        "  data['#Week'] = data.Date.dt.weekofyear\n",
        "  return data\n",
        "  \n",
        "#dropping irrelavent columns\n",
        "def drop(data):\n",
        "  return data.drop(['Symbol', \n",
        "                    'Series', \n",
        "                    'Open', \n",
        "                    'High', \n",
        "                    'Low', \n",
        "                    'Last', \n",
        "                    'VWAP', \n",
        "                    'Turnover', \n",
        "                    'Trades', \n",
        "                    '%Deliverble', \n",
        "                    'Deliverable Volume', \n",
        "                    'Prev Close'], axis = 1)\n",
        "\n",
        "def format_data(data):\n",
        "  df = drop(data)\n",
        "  data = dates(df)\n",
        "  return data"
      ],
      "execution_count": 0,
      "outputs": []
    },
    {
      "metadata": {
        "id": "QEzlvJpjkziF",
        "colab_type": "code",
        "colab": {}
      },
      "cell_type": "code",
      "source": [
        "tcs = format_data(tcs)\n",
        "infy = format_data(infy)"
      ],
      "execution_count": 0,
      "outputs": []
    },
    {
      "metadata": {
        "id": "1ZSROxMyjR2F",
        "colab_type": "code",
        "colab": {
          "base_uri": "https://localhost:8080/",
          "height": 225
        },
        "outputId": "7b4aaa52-7b2f-473d-a397-56eaf655fd2a"
      },
      "cell_type": "code",
      "source": [
        "tcs.tail()"
      ],
      "execution_count": 155,
      "outputs": [
        {
          "output_type": "execute_result",
          "data": {
            "text/html": [
              "<div>\n",
              "<style scoped>\n",
              "    .dataframe tbody tr th:only-of-type {\n",
              "        vertical-align: middle;\n",
              "    }\n",
              "\n",
              "    .dataframe tbody tr th {\n",
              "        vertical-align: top;\n",
              "    }\n",
              "\n",
              "    .dataframe thead th {\n",
              "        text-align: right;\n",
              "    }\n",
              "</style>\n",
              "<table border=\"1\" class=\"dataframe\">\n",
              "  <thead>\n",
              "    <tr style=\"text-align: right;\">\n",
              "      <th></th>\n",
              "      <th>Close</th>\n",
              "      <th>Volume</th>\n",
              "      <th>Date</th>\n",
              "      <th>#Week</th>\n",
              "    </tr>\n",
              "    <tr>\n",
              "      <th>Date</th>\n",
              "      <th></th>\n",
              "      <th></th>\n",
              "      <th></th>\n",
              "      <th></th>\n",
              "    </tr>\n",
              "  </thead>\n",
              "  <tbody>\n",
              "    <tr>\n",
              "      <th>2019-02-22</th>\n",
              "      <td>1925.65</td>\n",
              "      <td>2271955</td>\n",
              "      <td>2019-02-22</td>\n",
              "      <td>8</td>\n",
              "    </tr>\n",
              "    <tr>\n",
              "      <th>2019-02-25</th>\n",
              "      <td>1985.15</td>\n",
              "      <td>2934880</td>\n",
              "      <td>2019-02-25</td>\n",
              "      <td>9</td>\n",
              "    </tr>\n",
              "    <tr>\n",
              "      <th>2019-02-26</th>\n",
              "      <td>2038.70</td>\n",
              "      <td>6453309</td>\n",
              "      <td>2019-02-26</td>\n",
              "      <td>9</td>\n",
              "    </tr>\n",
              "    <tr>\n",
              "      <th>2019-02-27</th>\n",
              "      <td>2058.10</td>\n",
              "      <td>4732082</td>\n",
              "      <td>2019-02-27</td>\n",
              "      <td>9</td>\n",
              "    </tr>\n",
              "    <tr>\n",
              "      <th>2019-02-28</th>\n",
              "      <td>1983.45</td>\n",
              "      <td>8454295</td>\n",
              "      <td>2019-02-28</td>\n",
              "      <td>9</td>\n",
              "    </tr>\n",
              "  </tbody>\n",
              "</table>\n",
              "</div>"
            ],
            "text/plain": [
              "              Close   Volume       Date  #Week\n",
              "Date                                          \n",
              "2019-02-22  1925.65  2271955 2019-02-22      8\n",
              "2019-02-25  1985.15  2934880 2019-02-25      9\n",
              "2019-02-26  2038.70  6453309 2019-02-26      9\n",
              "2019-02-27  2058.10  4732082 2019-02-27      9\n",
              "2019-02-28  1983.45  8454295 2019-02-28      9"
            ]
          },
          "metadata": {
            "tags": []
          },
          "execution_count": 155
        }
      ]
    },
    {
      "metadata": {
        "id": "kDK5xBH_f2-L",
        "colab_type": "code",
        "colab": {}
      },
      "cell_type": "code",
      "source": [
        "# task: rolling mean with window = [10, 75]\n",
        "# rolling window w/o resampling is throwing nans and doesn't considering the holidays\n",
        "# Resamping with frequency with Dates\n",
        "def plot_roll_window(stock, window, stock_name):\n",
        "  stock = stock.asfreq('D', method='ffill')\n",
        "  stock['Window '+str(window)] = stock['Close'].rolling(window).mean()\n",
        "  plt.figure()\n",
        "  stock['Window '+str(window)].plot()\n",
        "  plt.title('roll avg for {0} with window = {1} Days'.format(stock_name, window))\n",
        "  plt.legend()\n",
        "  return stock"
      ],
      "execution_count": 0,
      "outputs": []
    },
    {
      "metadata": {
        "id": "wDEhGRU-wx5F",
        "colab_type": "code",
        "colab": {
          "base_uri": "https://localhost:8080/",
          "height": 1172
        },
        "outputId": "86184626-cd0d-41ec-fa53-1cbde6a731a0"
      },
      "cell_type": "code",
      "source": [
        "window = [10, 75]\n",
        "stock = [tcs, infy]\n",
        "stocks_name = ['tcs', 'infy']\n",
        "for i in range(len(window)):\n",
        "  for j in range(len(stocks)):\n",
        "#     print('roll avg for {0} with window = {1} Days'.format(stocks_name[j], window[i]))\n",
        "    plot_roll_window(stock[j], window[i], stocks_name[i])\n",
        "#   print('roll avg for infy with window = ' + str(i) + ' Days')\n",
        "#   plot_roll_window(infy, i)"
      ],
      "execution_count": 157,
      "outputs": [
        {
          "output_type": "display_data",
          "data": {
            "image/png": "[encoded data removed]",
            "text/plain": [
              "<Figure size 432x288 with 1 Axes>"
            ]
          },
          "metadata": {
            "tags": []
          }
        },
        {
          "output_type": "display_data",
          "data": {
            "image/png": "[encoded data removed]",
            "text/plain": [
              "<Figure size 432x288 with 1 Axes>"
            ]
          },
          "metadata": {
            "tags": []
          }
        },
        {
          "output_type": "display_data",
          "data": {
            "image/png": "[encoded data removed]",
            "text/plain": [
              "<Figure size 432x288 with 1 Axes>"
            ]
          },
          "metadata": {
            "tags": []
          }
        },
        {
          "output_type": "display_data",
          "data": {
            "image/png": "[encoded data removed]",
            "text/plain": [
              "<Figure size 432x288 with 1 Axes>"
            ]
          },
          "metadata": {
            "tags": []
          }
        }
      ]
    },
    {
      "metadata": {
        "id": "C_tNxQI9w0YG",
        "colab_type": "code",
        "colab": {}
      },
      "cell_type": "code",
      "source": [
        ""
      ],
      "execution_count": 0,
      "outputs": []
    }
  ]
}