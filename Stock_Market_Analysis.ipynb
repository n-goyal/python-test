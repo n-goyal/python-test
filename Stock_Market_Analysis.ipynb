{
  "nbformat": 4,
  "nbformat_minor": 0,
  "metadata": {
    "colab": {
      "name": "Stock Market Analysis.ipynb",
      "version": "0.3.2",
      "provenance": [],
      "collapsed_sections": [
        "s1ruuGQ1bzh6",
        "hmUm11mfb2zU",
        "Sao0xz-SbnUk",
        "I8saigy12TxM"
      ],
      "include_colab_link": true
    },
    "kernelspec": {
      "name": "python3",
      "display_name": "Python 3"
    },
    "accelerator": "GPU"
  },
  "cells": [
    {
      "cell_type": "markdown",
      "metadata": {
        "id": "view-in-github",
        "colab_type": "text"
      },
      "source": [
        "<a href=\"https://colab.research.google.com/github/n-goyal/python-test/blob/master/Stock_Market_Analysis.ipynb\" target=\"_parent\"><img src=\"https://colab.research.google.com/assets/colab-badge.svg\" alt=\"Open In Colab\"/></a>"
      ]
    },
    {
      "metadata": {
        "id": "QRtD3GioljV_",
        "colab_type": "text"
      },
      "cell_type": "markdown",
      "source": [
        "# Basic"
      ]
    },
    {
      "metadata": {
        "id": "s1ruuGQ1bzh6",
        "colab_type": "text"
      },
      "cell_type": "markdown",
      "source": [
        "## Libraries & tools"
      ]
    },
    {
      "metadata": {
        "id": "4h1qz0znPSt-",
        "colab_type": "code",
        "colab": {}
      },
      "cell_type": "code",
      "source": [
        "#Basic\n",
        "import pandas as pd\n",
        "import numpy as np\n",
        "import matplotlib.pyplot as plt\n",
        "%matplotlib inline\n",
        "import seaborn as sns\n",
        "from datetime import date"
      ],
      "execution_count": 0,
      "outputs": []
    },
    {
      "metadata": {
        "id": "pT3tQrUDQObT",
        "colab_type": "code",
        "colab": {
          "base_uri": "https://localhost:8080/",
          "height": 255
        },
        "outputId": "905058fa-df3f-4e08-a819-d48505dffd8c"
      },
      "cell_type": "code",
      "source": [
        "#data collection\n",
        "!pip install nsepy\n",
        "from nsepy import get_history"
      ],
      "execution_count": 81,
      "outputs": [
        {
          "output_type": "stream",
          "text": [
            "Requirement already satisfied: nsepy in /usr/local/lib/python3.6/dist-packages (0.7)\n",
            "Requirement already satisfied: click in /usr/local/lib/python3.6/dist-packages (from nsepy) (7.0)\n",
            "Requirement already satisfied: pandas in /usr/local/lib/python3.6/dist-packages (from nsepy) (0.22.0)\n",
            "Requirement already satisfied: six in /usr/local/lib/python3.6/dist-packages (from nsepy) (1.11.0)\n",
            "Requirement already satisfied: beautifulsoup4 in /usr/local/lib/python3.6/dist-packages (from nsepy) (4.6.3)\n",
            "Requirement already satisfied: requests in /usr/local/lib/python3.6/dist-packages (from nsepy) (2.18.4)\n",
            "Requirement already satisfied: numpy in /usr/local/lib/python3.6/dist-packages (from nsepy) (1.14.6)\n",
            "Requirement already satisfied: python-dateutil>=2 in /usr/local/lib/python3.6/dist-packages (from pandas->nsepy) (2.5.3)\n",
            "Requirement already satisfied: pytz>=2011k in /usr/local/lib/python3.6/dist-packages (from pandas->nsepy) (2018.9)\n",
            "Requirement already satisfied: urllib3<1.23,>=1.21.1 in /usr/local/lib/python3.6/dist-packages (from requests->nsepy) (1.22)\n",
            "Requirement already satisfied: certifi>=2017.4.17 in /usr/local/lib/python3.6/dist-packages (from requests->nsepy) (2018.11.29)\n",
            "Requirement already satisfied: idna<2.7,>=2.5 in /usr/local/lib/python3.6/dist-packages (from requests->nsepy) (2.6)\n",
            "Requirement already satisfied: chardet<3.1.0,>=3.0.2 in /usr/local/lib/python3.6/dist-packages (from requests->nsepy) (3.0.4)\n"
          ],
          "name": "stdout"
        }
      ]
    },
    {
      "metadata": {
        "id": "Y48-8dNKl1aK",
        "colab_type": "text"
      },
      "cell_type": "markdown",
      "source": [
        "### Data Visualization - Part II"
      ]
    },
    {
      "metadata": {
        "id": "hmUm11mfb2zU",
        "colab_type": "text"
      },
      "cell_type": "markdown",
      "source": [
        "## Data collection"
      ]
    },
    {
      "metadata": {
        "id": "g0hZ-58rQTUk",
        "colab_type": "code",
        "colab": {}
      },
      "cell_type": "code",
      "source": [
        "tcs_data = get_history(symbol='TCS',\n",
        "                    start=date(2018,4,1), \n",
        "                    end=date(2019,2,28))\n",
        "\n",
        "infy_data = get_history(symbol='INFY',\n",
        "                    start=date(2018,4,1), \n",
        "                    end=date(2019,2,28))"
      ],
      "execution_count": 0,
      "outputs": []
    },
    {
      "metadata": {
        "id": "eoMSAfbTRkn9",
        "colab_type": "code",
        "outputId": "04917fcb-fc29-4767-ee91-515c5b09e015",
        "colab": {
          "base_uri": "https://localhost:8080/",
          "height": 346
        }
      },
      "cell_type": "code",
      "source": [
        "infy_data.head()"
      ],
      "execution_count": 84,
      "outputs": [
        {
          "output_type": "execute_result",
          "data": {
            "text/html": [
              "<div>\n",
              "<style scoped>\n",
              "    .dataframe tbody tr th:only-of-type {\n",
              "        vertical-align: middle;\n",
              "    }\n",
              "\n",
              "    .dataframe tbody tr th {\n",
              "        vertical-align: top;\n",
              "    }\n",
              "\n",
              "    .dataframe thead th {\n",
              "        text-align: right;\n",
              "    }\n",
              "</style>\n",
              "<table border=\"1\" class=\"dataframe\">\n",
              "  <thead>\n",
              "    <tr style=\"text-align: right;\">\n",
              "      <th></th>\n",
              "      <th>Symbol</th>\n",
              "      <th>Series</th>\n",
              "      <th>Prev Close</th>\n",
              "      <th>Open</th>\n",
              "      <th>High</th>\n",
              "      <th>Low</th>\n",
              "      <th>Last</th>\n",
              "      <th>Close</th>\n",
              "      <th>VWAP</th>\n",
              "      <th>Volume</th>\n",
              "      <th>Turnover</th>\n",
              "      <th>Trades</th>\n",
              "      <th>Deliverable Volume</th>\n",
              "      <th>%Deliverble</th>\n",
              "    </tr>\n",
              "    <tr>\n",
              "      <th>Date</th>\n",
              "      <th></th>\n",
              "      <th></th>\n",
              "      <th></th>\n",
              "      <th></th>\n",
              "      <th></th>\n",
              "      <th></th>\n",
              "      <th></th>\n",
              "      <th></th>\n",
              "      <th></th>\n",
              "      <th></th>\n",
              "      <th></th>\n",
              "      <th></th>\n",
              "      <th></th>\n",
              "      <th></th>\n",
              "    </tr>\n",
              "  </thead>\n",
              "  <tbody>\n",
              "    <tr>\n",
              "      <th>2018-04-02</th>\n",
              "      <td>INFY</td>\n",
              "      <td>EQ</td>\n",
              "      <td>1131.80</td>\n",
              "      <td>1141.00</td>\n",
              "      <td>1149.55</td>\n",
              "      <td>1121.3</td>\n",
              "      <td>1136.70</td>\n",
              "      <td>1137.15</td>\n",
              "      <td>1135.86</td>\n",
              "      <td>4036351</td>\n",
              "      <td>4.584717e+14</td>\n",
              "      <td>142078</td>\n",
              "      <td>2960225</td>\n",
              "      <td>0.7334</td>\n",
              "    </tr>\n",
              "    <tr>\n",
              "      <th>2018-04-03</th>\n",
              "      <td>INFY</td>\n",
              "      <td>EQ</td>\n",
              "      <td>1137.15</td>\n",
              "      <td>1134.70</td>\n",
              "      <td>1143.55</td>\n",
              "      <td>1128.1</td>\n",
              "      <td>1139.40</td>\n",
              "      <td>1140.45</td>\n",
              "      <td>1135.21</td>\n",
              "      <td>2038584</td>\n",
              "      <td>2.314227e+14</td>\n",
              "      <td>114034</td>\n",
              "      <td>1366638</td>\n",
              "      <td>0.6704</td>\n",
              "    </tr>\n",
              "    <tr>\n",
              "      <th>2018-04-04</th>\n",
              "      <td>INFY</td>\n",
              "      <td>EQ</td>\n",
              "      <td>1140.45</td>\n",
              "      <td>1144.00</td>\n",
              "      <td>1144.55</td>\n",
              "      <td>1120.0</td>\n",
              "      <td>1122.70</td>\n",
              "      <td>1124.20</td>\n",
              "      <td>1131.81</td>\n",
              "      <td>2406651</td>\n",
              "      <td>2.723879e+14</td>\n",
              "      <td>137029</td>\n",
              "      <td>1472105</td>\n",
              "      <td>0.6117</td>\n",
              "    </tr>\n",
              "    <tr>\n",
              "      <th>2018-04-05</th>\n",
              "      <td>INFY</td>\n",
              "      <td>EQ</td>\n",
              "      <td>1124.20</td>\n",
              "      <td>1139.55</td>\n",
              "      <td>1151.30</td>\n",
              "      <td>1129.1</td>\n",
              "      <td>1146.05</td>\n",
              "      <td>1147.55</td>\n",
              "      <td>1140.71</td>\n",
              "      <td>3881772</td>\n",
              "      <td>4.427993e+14</td>\n",
              "      <td>101745</td>\n",
              "      <td>2899162</td>\n",
              "      <td>0.7469</td>\n",
              "    </tr>\n",
              "    <tr>\n",
              "      <th>2018-04-06</th>\n",
              "      <td>INFY</td>\n",
              "      <td>EQ</td>\n",
              "      <td>1147.55</td>\n",
              "      <td>1143.00</td>\n",
              "      <td>1146.00</td>\n",
              "      <td>1122.1</td>\n",
              "      <td>1127.55</td>\n",
              "      <td>1127.00</td>\n",
              "      <td>1128.81</td>\n",
              "      <td>2968871</td>\n",
              "      <td>3.351285e+14</td>\n",
              "      <td>137277</td>\n",
              "      <td>1891236</td>\n",
              "      <td>0.6370</td>\n",
              "    </tr>\n",
              "  </tbody>\n",
              "</table>\n",
              "</div>"
            ],
            "text/plain": [
              "           Symbol Series  Prev Close     Open     High     Low     Last  \\\n",
              "Date                                                                      \n",
              "2018-04-02   INFY     EQ     1131.80  1141.00  1149.55  1121.3  1136.70   \n",
              "2018-04-03   INFY     EQ     1137.15  1134.70  1143.55  1128.1  1139.40   \n",
              "2018-04-04   INFY     EQ     1140.45  1144.00  1144.55  1120.0  1122.70   \n",
              "2018-04-05   INFY     EQ     1124.20  1139.55  1151.30  1129.1  1146.05   \n",
              "2018-04-06   INFY     EQ     1147.55  1143.00  1146.00  1122.1  1127.55   \n",
              "\n",
              "              Close     VWAP   Volume      Turnover  Trades  \\\n",
              "Date                                                          \n",
              "2018-04-02  1137.15  1135.86  4036351  4.584717e+14  142078   \n",
              "2018-04-03  1140.45  1135.21  2038584  2.314227e+14  114034   \n",
              "2018-04-04  1124.20  1131.81  2406651  2.723879e+14  137029   \n",
              "2018-04-05  1147.55  1140.71  3881772  4.427993e+14  101745   \n",
              "2018-04-06  1127.00  1128.81  2968871  3.351285e+14  137277   \n",
              "\n",
              "            Deliverable Volume  %Deliverble  \n",
              "Date                                         \n",
              "2018-04-02             2960225       0.7334  \n",
              "2018-04-03             1366638       0.6704  \n",
              "2018-04-04             1472105       0.6117  \n",
              "2018-04-05             2899162       0.7469  \n",
              "2018-04-06             1891236       0.6370  "
            ]
          },
          "metadata": {
            "tags": []
          },
          "execution_count": 84
        }
      ]
    },
    {
      "metadata": {
        "id": "ije2o-E1ZhHR",
        "colab_type": "code",
        "colab": {}
      },
      "cell_type": "code",
      "source": [
        "#dropping irrelavent columns\n",
        "def drop(data):\n",
        "  return data.drop(['Symbol', 'Series', 'Open', 'High', 'Low', 'Last', 'VWAP', 'Turnover', 'Trades', '%Deliverble', 'Deliverable Volume', 'Prev Close'], axis = 1)"
      ],
      "execution_count": 0,
      "outputs": []
    },
    {
      "metadata": {
        "id": "6rkA-lt4VfxF",
        "colab_type": "text"
      },
      "cell_type": "markdown",
      "source": [
        "# Part - I"
      ]
    },
    {
      "metadata": {
        "id": "Sao0xz-SbnUk",
        "colab_type": "text"
      },
      "cell_type": "markdown",
      "source": [
        "##Volume Shock, Price Shock"
      ]
    },
    {
      "metadata": {
        "id": "bjftoSCOmNWy",
        "colab_type": "text"
      },
      "cell_type": "markdown",
      "source": [
        "    # Time to add some new columns\n",
        "    # volume_shock = Volume[t] - Volume[t-1]\n",
        "    # price_shock = Close[t] - Close[t-1]\n",
        "    # Percentage_Volume_shock = volume_shock / Prev Volume * 100\n",
        "    # Percentage_close = price_shock / Prev Close * 100"
      ]
    },
    {
      "metadata": {
        "id": "4mUQY-JaBUpx",
        "colab_type": "code",
        "colab": {}
      },
      "cell_type": "code",
      "source": [
        "tcs = tcs_data\n",
        "infy = infy_data"
      ],
      "execution_count": 0,
      "outputs": []
    },
    {
      "metadata": {
        "id": "Lp-b513QrgtR",
        "colab_type": "code",
        "colab": {}
      },
      "cell_type": "code",
      "source": [
        "#checking on the shock percentage\n",
        "def volume_shock(data): \n",
        "  data['Volume_diff'] = data['Volume'].diff(1)\n",
        "  return data['Volume'].diff(1) / data['Volume'] * 100\n",
        "  \n",
        "def price_shock(data):\n",
        "  data['Price_diff'] = data['Close'].diff(1)\n",
        "  return data['Close'].diff(1) / data['Close'] * 100\n",
        "\n",
        "def dummy(data):\n",
        "#   drop(data)\n",
        "  data['Volume_shock'] = [1 if abs(i)>0 else 0 for i in volume_shock(data)]\n",
        "  data['Price_shock'] = [1 if abs(i)>2 else 0 for i in price_shock(data)]\n",
        "  data['PriceV/Svolume'] = [1 if (data['Volume_shock'][i]==0 and data['Price_shock'][i]==1) \n",
        "                            else 0 for i in range(len(price_shock(data)))]\n",
        "  return data"
      ],
      "execution_count": 0,
      "outputs": []
    },
    {
      "metadata": {
        "id": "SiVGmqiAx5y7",
        "colab_type": "code",
        "colab": {}
      },
      "cell_type": "code",
      "source": [
        "tcs_dummy = dummy(tcs)\n",
        "infy_dummy = dummy(infy)"
      ],
      "execution_count": 0,
      "outputs": []
    },
    {
      "metadata": {
        "id": "iOFdEErb4IOR",
        "colab_type": "code",
        "colab": {}
      },
      "cell_type": "code",
      "source": [
        "infy_dummy"
      ],
      "execution_count": 0,
      "outputs": []
    },
    {
      "metadata": {
        "id": "I8saigy12TxM",
        "colab_type": "text"
      },
      "cell_type": "markdown",
      "source": [
        "## Moving Averages"
      ]
    },
    {
      "metadata": {
        "id": "5wEcExeZUx2D",
        "colab_type": "text"
      },
      "cell_type": "markdown",
      "source": [
        "### Window = [4,16,28,40,52]"
      ]
    },
    {
      "metadata": {
        "id": "7m3DYea2Xhd4",
        "colab_type": "code",
        "colab": {}
      },
      "cell_type": "code",
      "source": [
        "#importing data.. again - to be clearer\n",
        "tcs = tcs_data\n",
        "infy = infy_data"
      ],
      "execution_count": 0,
      "outputs": []
    },
    {
      "metadata": {
        "id": "AkrIroKkM6Wu",
        "colab_type": "code",
        "colab": {}
      },
      "cell_type": "code",
      "source": [
        "# Converting index to datetime index\n",
        "def to_datetime(data):\n",
        "  data.index = pd.to_datetime(data.index)\n",
        "  return data"
      ],
      "execution_count": 0,
      "outputs": []
    },
    {
      "metadata": {
        "id": "z0gdlFOHNInv",
        "colab_type": "code",
        "colab": {}
      },
      "cell_type": "code",
      "source": [
        "tcs = to_datetime(tcs)\n",
        "infy = to_datetime(infy)"
      ],
      "execution_count": 0,
      "outputs": []
    },
    {
      "metadata": {
        "id": "drrBrUKYLssp",
        "colab_type": "text"
      },
      "cell_type": "markdown",
      "source": [
        "    As moving average is to be calculated over weeks\n",
        "    We'll resample our data over weeks and take moving average"
      ]
    },
    {
      "metadata": {
        "id": "i8bStUf5L-E_",
        "colab_type": "code",
        "colab": {}
      },
      "cell_type": "code",
      "source": [
        "def movingAverage(data, column, window):\n",
        "    resampled_df = pd.DataFrame()\n",
        "    x = data[column].resample('W').mean()\n",
        "    resampled_df['Close'] = x\n",
        "    for win in window:\n",
        "        rolling_window = x.rolling(window=win)\n",
        "        resampled_df[str(win) + 'WeeksWindow'] = rolling_window.mean()\n",
        "    return resampled_df"
      ],
      "execution_count": 0,
      "outputs": []
    },
    {
      "metadata": {
        "id": "dqrneq6DMj9C",
        "colab_type": "code",
        "colab": {}
      },
      "cell_type": "code",
      "source": [
        "window = [4,16,28,40,52]\n",
        "column = 'Close'\n",
        "tcs_ma= movingAverage(tcs, column, window)\n",
        "infy_ma = movingAverage(infy, column, window)"
      ],
      "execution_count": 0,
      "outputs": []
    },
    {
      "metadata": {
        "id": "mL88gLh8UXE0",
        "colab_type": "code",
        "colab": {}
      },
      "cell_type": "code",
      "source": [
        "tcs_ma.head()"
      ],
      "execution_count": 0,
      "outputs": []
    },
    {
      "metadata": {
        "id": "zPIC3w2-T7tb",
        "colab_type": "code",
        "colab": {}
      },
      "cell_type": "code",
      "source": [
        "tcs_ma.plot(figsize=(10,8), title=\"Moving Averages for TCS\")\n",
        "infy_ma.plot(figsize=(10,8), title=\"Moving Averages for INFY\")"
      ],
      "execution_count": 0,
      "outputs": []
    },
    {
      "metadata": {
        "id": "bnPkDqNELvNk",
        "colab_type": "text"
      },
      "cell_type": "markdown",
      "source": [
        "### Window = 10, 75, Considering Holidays"
      ]
    },
    {
      "metadata": {
        "id": "f9SwjuPwfsv-",
        "colab_type": "code",
        "colab": {}
      },
      "cell_type": "code",
      "source": [
        "tcs = tcs_data\n",
        "infy = infy_data\n",
        "stocks = [tcs, infy]"
      ],
      "execution_count": 0,
      "outputs": []
    },
    {
      "metadata": {
        "id": "ixkyhB3AgZel",
        "colab_type": "code",
        "colab": {}
      },
      "cell_type": "code",
      "source": [
        "def dates(data):\n",
        "  data['Date'] = pd.to_datetime(data.index)\n",
        "  data['#Week'] = data.Date.dt.weekofyear\n",
        "  return data\n",
        "  \n",
        "#dropping irrelavent columns\n",
        "def drop(data):\n",
        "  return data.drop(['Symbol', \n",
        "                    'Series', \n",
        "                    'Open', \n",
        "                    'High', \n",
        "                    'Low', \n",
        "                    'Last', \n",
        "                    'VWAP', \n",
        "                    'Turnover', \n",
        "                    'Trades', \n",
        "                    '%Deliverble', \n",
        "                    'Deliverable Volume', \n",
        "                    'Prev Close'], axis = 1)\n",
        "\n",
        "def format_data(data):\n",
        "  df = drop(data)\n",
        "  data = dates(df)\n",
        "  return data"
      ],
      "execution_count": 0,
      "outputs": []
    },
    {
      "metadata": {
        "id": "QEzlvJpjkziF",
        "colab_type": "code",
        "colab": {}
      },
      "cell_type": "code",
      "source": [
        "tcs = format_data(tcs)\n",
        "infy = format_data(infy)"
      ],
      "execution_count": 0,
      "outputs": []
    },
    {
      "metadata": {
        "id": "1ZSROxMyjR2F",
        "colab_type": "code",
        "colab": {}
      },
      "cell_type": "code",
      "source": [
        "tcs.tail()"
      ],
      "execution_count": 0,
      "outputs": []
    },
    {
      "metadata": {
        "id": "kDK5xBH_f2-L",
        "colab_type": "code",
        "colab": {}
      },
      "cell_type": "code",
      "source": [
        "# task: rolling mean with window = [10, 75]\n",
        "# rolling window w/o resampling is throwing nans and doesn't considering the holidays\n",
        "# Resamping with frequency with Dates\n",
        "def plot_roll_window(stock, window, stock_name):\n",
        "  stock = stock.asfreq('D', method='ffill')\n",
        "  stock['Window '+str(window)] = stock['Close'].rolling(window).mean()\n",
        "  plt.figure()\n",
        "  stock['Window '+str(window)].plot()\n",
        "  plt.title('roll avg for {0} with window = {1} Days'.format(stock_name, window))\n",
        "  plt.legend()\n",
        "  return stock"
      ],
      "execution_count": 0,
      "outputs": []
    },
    {
      "metadata": {
        "id": "wDEhGRU-wx5F",
        "colab_type": "code",
        "colab": {}
      },
      "cell_type": "code",
      "source": [
        "window = [10, 75]\n",
        "stock = [tcs, infy]\n",
        "stocks_name = ['tcs', 'infy']\n",
        "for i in range(len(window)):\n",
        "  for j in range(len(stocks)):\n",
        "#     print('roll avg for {0} with window = {1} Days'.format(stocks_name[j], window[i]))\n",
        "    plot_roll_window(stock[j], window[i], stocks_name[i])\n",
        "#   print('roll avg for infy with window = ' + str(i) + ' Days')\n",
        "#   plot_roll_window(infy, i)"
      ],
      "execution_count": 0,
      "outputs": []
    },
    {
      "metadata": {
        "id": "C_tNxQI9w0YG",
        "colab_type": "code",
        "colab": {}
      },
      "cell_type": "code",
      "source": [
        ""
      ],
      "execution_count": 0,
      "outputs": []
    },
    {
      "metadata": {
        "id": "IdZ8VnuhVpDC",
        "colab_type": "text"
      },
      "cell_type": "markdown",
      "source": [
        "# Part - II Visualization"
      ]
    },
    {
      "metadata": {
        "id": "lZQSnTYCo5Tr",
        "colab_type": "code",
        "colab": {}
      },
      "cell_type": "code",
      "source": [
        "# Mentioned Using Bokeh\n",
        "import bokeh\n",
        "from bokeh.plotting import figure, output_file, show\n",
        "from bokeh.io import show, output_notebook"
      ],
      "execution_count": 0,
      "outputs": []
    },
    {
      "metadata": {
        "id": "r0vYM7gJ02uo",
        "colab_type": "code",
        "colab": {}
      },
      "cell_type": "code",
      "source": [
        "def timeSeriesPlot(dummy_data):\n",
        "  dummy_data['Height'] = abs(dummy_data['Price_diff'])\n",
        "  dummy_data.index = pd.to_datetime(dummy_data.index)\n",
        "  \n",
        "  output_notebook()\n",
        "  hours_12 = 12 * 60 * 60 * 1000\n",
        "  p = figure(x_axis_type='datetime', width=1000, height = 300)\n",
        "  p.rect(dummy_data.index[dummy_data['Volume_shock'] == 1],\n",
        "           dummy_data.Close[dummy_data['Volume_shock'] == 1],\n",
        "           hours_12,\n",
        "           dummy_data.Height[dummy_data['Volume_shock'] == 1],\n",
        "           color = 'red',\n",
        "           line_color=\"black\")\n",
        "\n",
        "  p.rect(dummy_data.index[dummy_data['Volume_shock'] == 0],\n",
        "           dummy_data.Close[dummy_data['Volume_shock'] == 0],\n",
        "           hours_12,\n",
        "           dummy_data.Height[dummy_data['Volume_shock'] == 0],\n",
        "           color = 'blue',\n",
        "           line_color=\"black\")\n",
        "  \n",
        "  output_file('graph.html')\n",
        "  return show(p)\n"
      ],
      "execution_count": 0,
      "outputs": []
    },
    {
      "metadata": {
        "id": "o89986RP2myw",
        "colab_type": "code",
        "colab": {}
      },
      "cell_type": "code",
      "source": [
        "def volumeLessPriceMovement(dummy_data):\n",
        "  dummy_data['Height'] = abs(dummy_data['Price_diff'])\n",
        "  dummy_data.index = pd.to_datetime(dummy_data.index)\n",
        "  \n",
        "  output_notebook()\n",
        "  hours_12 = 12 * 60 * 60 * 1000\n",
        "  p = figure(x_axis_type='datetime', width=1000, height = 300)\n",
        "  p.rect(dummy_data.index[dummy_data['PriceV/Svolume'] == 1],\n",
        "           dummy_data.Close[dummy_data['PriceV/Svolume'] == 1],\n",
        "           hours_12,\n",
        "           dummy_data.Height[dummy_data['PriceV/Svolume'] == 1],\n",
        "           color = 'red',\n",
        "           line_color=\"black\")\n",
        "\n",
        "  p.rect(dummy_data.index[dummy_data['PriceV/Svolume'] == 0],\n",
        "           dummy_data.Close[dummy_data['PriceV/Svolume'] == 0],\n",
        "           hours_12,\n",
        "           dummy_data.Height[dummy_data['PriceV/Svolume'] == 0],\n",
        "           color = 'blue',\n",
        "           line_color=\"black\")\n",
        "  \n",
        "  output_file('graph.html')\n",
        "  return show(p)"
      ],
      "execution_count": 0,
      "outputs": []
    },
    {
      "metadata": {
        "id": "BtiAb-d71UlT",
        "colab_type": "code",
        "colab": {
          "base_uri": "https://localhost:8080/",
          "height": 367
        },
        "outputId": "936d77ad-31f5-415e-b1cb-aad38efd0e25"
      },
      "cell_type": "code",
      "source": [
        "timeSeriesPlot(tcs_dummy)"
      ],
      "execution_count": 154,
      "outputs": [
        {
          "output_type": "display_data",
          "data": {
            "text/html": [
              "\n",
              "    <div class=\"bk-root\">\n",
              "        <a href=\"https://bokeh.pydata.org\" target=\"_blank\" class=\"bk-logo bk-logo-small bk-logo-notebook\"></a>\n",
              "        <span id=\"25422\">Loading BokehJS ...</span>\n",
              "    </div>"
            ]
          },
          "metadata": {
            "tags": []
          }
        },
        {
          "output_type": "display_data",
          "data": {
            "application/javascript": [
              "\n",
              "(function(root) {\n",
              "  function now() {\n",
              "    return new Date();\n",
              "  }\n",
              "\n",
              "  var force = true;\n",
              "\n",
              "  if (typeof (root._bokeh_onload_callbacks) === \"undefined\" || force === true) {\n",
              "    root._bokeh_onload_callbacks = [];\n",
              "    root._bokeh_is_loading = undefined;\n",
              "  }\n",
              "\n",
              "  var JS_MIME_TYPE = 'application/javascript';\n",
              "  var HTML_MIME_TYPE = 'text/html';\n",
              "  var EXEC_MIME_TYPE = 'application/vnd.bokehjs_exec.v0+json';\n",
              "  var CLASS_NAME = 'output_bokeh rendered_html';\n",
              "\n",
              "  /**\n",
              "   * Render data to the DOM node\n",
              "   */\n",
              "  function render(props, node) {\n",
              "    var script = document.createElement(\"script\");\n",
              "    node.appendChild(script);\n",
              "  }\n",
              "\n",
              "  /**\n",
              "   * Handle when an output is cleared or removed\n",
              "   */\n",
              "  function handleClearOutput(event, handle) {\n",
              "    var cell = handle.cell;\n",
              "\n",
              "    var id = cell.output_area._bokeh_element_id;\n",
              "    var server_id = cell.output_area._bokeh_server_id;\n",
              "    // Clean up Bokeh references\n",
              "    if (id != null && id in Bokeh.index) {\n",
              "      Bokeh.index[id].model.document.clear();\n",
              "      delete Bokeh.index[id];\n",
              "    }\n",
              "\n",
              "    if (server_id !== undefined) {\n",
              "      // Clean up Bokeh references\n",
              "      var cmd = \"from bokeh.io.state import curstate; print(curstate().uuid_to_server['\" + server_id + \"'].get_sessions()[0].document.roots[0]._id)\";\n",
              "      cell.notebook.kernel.execute(cmd, {\n",
              "        iopub: {\n",
              "          output: function(msg) {\n",
              "            var id = msg.content.text.trim();\n",
              "            if (id in Bokeh.index) {\n",
              "              Bokeh.index[id].model.document.clear();\n",
              "              delete Bokeh.index[id];\n",
              "            }\n",
              "          }\n",
              "        }\n",
              "      });\n",
              "      // Destroy server and session\n",
              "      var cmd = \"import bokeh.io.notebook as ion; ion.destroy_server('\" + server_id + \"')\";\n",
              "      cell.notebook.kernel.execute(cmd);\n",
              "    }\n",
              "  }\n",
              "\n",
              "  /**\n",
              "   * Handle when a new output is added\n",
              "   */\n",
              "  function handleAddOutput(event, handle) {\n",
              "    var output_area = handle.output_area;\n",
              "    var output = handle.output;\n",
              "\n",
              "    // limit handleAddOutput to display_data with EXEC_MIME_TYPE content only\n",
              "    if ((output.output_type != \"display_data\") || (!output.data.hasOwnProperty(EXEC_MIME_TYPE))) {\n",
              "      return\n",
              "    }\n",
              "\n",
              "    var toinsert = output_area.element.find(\".\" + CLASS_NAME.split(' ')[0]);\n",
              "\n",
              "    if (output.metadata[EXEC_MIME_TYPE][\"id\"] !== undefined) {\n",
              "      toinsert[toinsert.length - 1].firstChild.textContent = output.data[JS_MIME_TYPE];\n",
              "      // store reference to embed id on output_area\n",
              "      output_area._bokeh_element_id = output.metadata[EXEC_MIME_TYPE][\"id\"];\n",
              "    }\n",
              "    if (output.metadata[EXEC_MIME_TYPE][\"server_id\"] !== undefined) {\n",
              "      var bk_div = document.createElement(\"div\");\n",
              "      bk_div.innerHTML = output.data[HTML_MIME_TYPE];\n",
              "      var script_attrs = bk_div.children[0].attributes;\n",
              "      for (var i = 0; i < script_attrs.length; i++) {\n",
              "        toinsert[toinsert.length - 1].firstChild.setAttribute(script_attrs[i].name, script_attrs[i].value);\n",
              "      }\n",
              "      // store reference to server id on output_area\n",
              "      output_area._bokeh_server_id = output.metadata[EXEC_MIME_TYPE][\"server_id\"];\n",
              "    }\n",
              "  }\n",
              "\n",
              "  function register_renderer(events, OutputArea) {\n",
              "\n",
              "    function append_mime(data, metadata, element) {\n",
              "      // create a DOM node to render to\n",
              "      var toinsert = this.create_output_subarea(\n",
              "        metadata,\n",
              "        CLASS_NAME,\n",
              "        EXEC_MIME_TYPE\n",
              "      );\n",
              "      this.keyboard_manager.register_events(toinsert);\n",
              "      // Render to node\n",
              "      var props = {data: data, metadata: metadata[EXEC_MIME_TYPE]};\n",
              "      render(props, toinsert[toinsert.length - 1]);\n",
              "      element.append(toinsert);\n",
              "      return toinsert\n",
              "    }\n",
              "\n",
              "    /* Handle when an output is cleared or removed */\n",
              "    events.on('clear_output.CodeCell', handleClearOutput);\n",
              "    events.on('delete.Cell', handleClearOutput);\n",
              "\n",
              "    /* Handle when a new output is added */\n",
              "    events.on('output_added.OutputArea', handleAddOutput);\n",
              "\n",
              "    /**\n",
              "     * Register the mime type and append_mime function with output_area\n",
              "     */\n",
              "    OutputArea.prototype.register_mime_type(EXEC_MIME_TYPE, append_mime, {\n",
              "      /* Is output safe? */\n",
              "      safe: true,\n",
              "      /* Index of renderer in `output_area.display_order` */\n",
              "      index: 0\n",
              "    });\n",
              "  }\n",
              "\n",
              "  // register the mime type if in Jupyter Notebook environment and previously unregistered\n",
              "  if (root.Jupyter !== undefined) {\n",
              "    var events = require('base/js/events');\n",
              "    var OutputArea = require('notebook/js/outputarea').OutputArea;\n",
              "\n",
              "    if (OutputArea.prototype.mime_types().indexOf(EXEC_MIME_TYPE) == -1) {\n",
              "      register_renderer(events, OutputArea);\n",
              "    }\n",
              "  }\n",
              "\n",
              "  \n",
              "  if (typeof (root._bokeh_timeout) === \"undefined\" || force === true) {\n",
              "    root._bokeh_timeout = Date.now() + 5000;\n",
              "    root._bokeh_failed_load = false;\n",
              "  }\n",
              "\n",
              "  var NB_LOAD_WARNING = {'data': {'text/html':\n",
              "     \"<div style='background-color: #fdd'>\\n\"+\n",
              "     \"<p>\\n\"+\n",
              "     \"BokehJS does not appear to have successfully loaded. If loading BokehJS from CDN, this \\n\"+\n",
              "     \"may be due to a slow or bad network connection. Possible fixes:\\n\"+\n",
              "     \"</p>\\n\"+\n",
              "     \"<ul>\\n\"+\n",
              "     \"<li>re-rerun `output_notebook()` to attempt to load from CDN again, or</li>\\n\"+\n",
              "     \"<li>use INLINE resources instead, as so:</li>\\n\"+\n",
              "     \"</ul>\\n\"+\n",
              "     \"<code>\\n\"+\n",
              "     \"from bokeh.resources import INLINE\\n\"+\n",
              "     \"output_notebook(resources=INLINE)\\n\"+\n",
              "     \"</code>\\n\"+\n",
              "     \"</div>\"}};\n",
              "\n",
              "  function display_loaded() {\n",
              "    var el = document.getElementById(\"25422\");\n",
              "    if (el != null) {\n",
              "      el.textContent = \"BokehJS is loading...\";\n",
              "    }\n",
              "    if (root.Bokeh !== undefined) {\n",
              "      if (el != null) {\n",
              "        el.textContent = \"BokehJS \" + root.Bokeh.version + \" successfully loaded.\";\n",
              "      }\n",
              "    } else if (Date.now() < root._bokeh_timeout) {\n",
              "      setTimeout(display_loaded, 100)\n",
              "    }\n",
              "  }\n",
              "\n",
              "\n",
              "  function run_callbacks() {\n",
              "    try {\n",
              "      root._bokeh_onload_callbacks.forEach(function(callback) { callback() });\n",
              "    }\n",
              "    finally {\n",
              "      delete root._bokeh_onload_callbacks\n",
              "    }\n",
              "    console.info(\"Bokeh: all callbacks have finished\");\n",
              "  }\n",
              "\n",
              "  function load_libs(js_urls, callback) {\n",
              "    root._bokeh_onload_callbacks.push(callback);\n",
              "    if (root._bokeh_is_loading > 0) {\n",
              "      console.log(\"Bokeh: BokehJS is being loaded, scheduling callback at\", now());\n",
              "      return null;\n",
              "    }\n",
              "    if (js_urls == null || js_urls.length === 0) {\n",
              "      run_callbacks();\n",
              "      return null;\n",
              "    }\n",
              "    console.log(\"Bokeh: BokehJS not loaded, scheduling load and callback at\", now());\n",
              "    root._bokeh_is_loading = js_urls.length;\n",
              "    for (var i = 0; i < js_urls.length; i++) {\n",
              "      var url = js_urls[i];\n",
              "      var s = document.createElement('script');\n",
              "      s.src = url;\n",
              "      s.async = false;\n",
              "      s.onreadystatechange = s.onload = function() {\n",
              "        root._bokeh_is_loading--;\n",
              "        if (root._bokeh_is_loading === 0) {\n",
              "          console.log(\"Bokeh: all BokehJS libraries loaded\");\n",
              "          run_callbacks()\n",
              "        }\n",
              "      };\n",
              "      s.onerror = function() {\n",
              "        console.warn(\"failed to load library \" + url);\n",
              "      };\n",
              "      console.log(\"Bokeh: injecting script tag for BokehJS library: \", url);\n",
              "      document.getElementsByTagName(\"head\")[0].appendChild(s);\n",
              "    }\n",
              "  };var element = document.getElementById(\"25422\");\n",
              "  if (element == null) {\n",
              "    console.log(\"Bokeh: ERROR: autoload.js configured with elementid '25422' but no matching script tag was found. \")\n",
              "    return false;\n",
              "  }\n",
              "\n",
              "  var js_urls = [\"https://cdn.pydata.org/bokeh/release/bokeh-1.0.4.min.js\", \"https://cdn.pydata.org/bokeh/release/bokeh-widgets-1.0.4.min.js\", \"https://cdn.pydata.org/bokeh/release/bokeh-tables-1.0.4.min.js\", \"https://cdn.pydata.org/bokeh/release/bokeh-gl-1.0.4.min.js\"];\n",
              "\n",
              "  var inline_js = [\n",
              "    function(Bokeh) {\n",
              "      Bokeh.set_log_level(\"info\");\n",
              "    },\n",
              "    \n",
              "    function(Bokeh) {\n",
              "      \n",
              "    },\n",
              "    function(Bokeh) {\n",
              "      console.log(\"Bokeh: injecting CSS: https://cdn.pydata.org/bokeh/release/bokeh-1.0.4.min.css\");\n",
              "      Bokeh.embed.inject_css(\"https://cdn.pydata.org/bokeh/release/bokeh-1.0.4.min.css\");\n",
              "      console.log(\"Bokeh: injecting CSS: https://cdn.pydata.org/bokeh/release/bokeh-widgets-1.0.4.min.css\");\n",
              "      Bokeh.embed.inject_css(\"https://cdn.pydata.org/bokeh/release/bokeh-widgets-1.0.4.min.css\");\n",
              "      console.log(\"Bokeh: injecting CSS: https://cdn.pydata.org/bokeh/release/bokeh-tables-1.0.4.min.css\");\n",
              "      Bokeh.embed.inject_css(\"https://cdn.pydata.org/bokeh/release/bokeh-tables-1.0.4.min.css\");\n",
              "    }\n",
              "  ];\n",
              "\n",
              "  function run_inline_js() {\n",
              "    \n",
              "    if ((root.Bokeh !== undefined) || (force === true)) {\n",
              "      for (var i = 0; i < inline_js.length; i++) {\n",
              "        inline_js[i].call(root, root.Bokeh);\n",
              "      }if (force === true) {\n",
              "        display_loaded();\n",
              "      }} else if (Date.now() < root._bokeh_timeout) {\n",
              "      setTimeout(run_inline_js, 100);\n",
              "    } else if (!root._bokeh_failed_load) {\n",
              "      console.log(\"Bokeh: BokehJS failed to load within specified timeout.\");\n",
              "      root._bokeh_failed_load = true;\n",
              "    } else if (force !== true) {\n",
              "      var cell = $(document.getElementById(\"25422\")).parents('.cell').data().cell;\n",
              "      cell.output_area.append_execute_result(NB_LOAD_WARNING)\n",
              "    }\n",
              "\n",
              "  }\n",
              "\n",
              "  if (root._bokeh_is_loading === 0) {\n",
              "    console.log(\"Bokeh: BokehJS loaded, going straight to plotting\");\n",
              "    run_inline_js();\n",
              "  } else {\n",
              "    load_libs(js_urls, function() {\n",
              "      console.log(\"Bokeh: BokehJS plotting callback run at\", now());\n",
              "      run_inline_js();\n",
              "    });\n",
              "  }\n",
              "}(window));"
            ],
            "application/vnd.bokehjs_load.v0+json": "\n(function(root) {\n  function now() {\n    return new Date();\n  }\n\n  var force = true;\n\n  if (typeof (root._bokeh_onload_callbacks) === \"undefined\" || force === true) {\n    root._bokeh_onload_callbacks = [];\n    root._bokeh_is_loading = undefined;\n  }\n\n  \n\n  \n  if (typeof (root._bokeh_timeout) === \"undefined\" || force === true) {\n    root._bokeh_timeout = Date.now() + 5000;\n    root._bokeh_failed_load = false;\n  }\n\n  var NB_LOAD_WARNING = {'data': {'text/html':\n     \"<div style='background-color: #fdd'>\\n\"+\n     \"<p>\\n\"+\n     \"BokehJS does not appear to have successfully loaded. If loading BokehJS from CDN, this \\n\"+\n     \"may be due to a slow or bad network connection. Possible fixes:\\n\"+\n     \"</p>\\n\"+\n     \"<ul>\\n\"+\n     \"<li>re-rerun `output_notebook()` to attempt to load from CDN again, or</li>\\n\"+\n     \"<li>use INLINE resources instead, as so:</li>\\n\"+\n     \"</ul>\\n\"+\n     \"<code>\\n\"+\n     \"from bokeh.resources import INLINE\\n\"+\n     \"output_notebook(resources=INLINE)\\n\"+\n     \"</code>\\n\"+\n     \"</div>\"}};\n\n  function display_loaded() {\n    var el = document.getElementById(\"25422\");\n    if (el != null) {\n      el.textContent = \"BokehJS is loading...\";\n    }\n    if (root.Bokeh !== undefined) {\n      if (el != null) {\n        el.textContent = \"BokehJS \" + root.Bokeh.version + \" successfully loaded.\";\n      }\n    } else if (Date.now() < root._bokeh_timeout) {\n      setTimeout(display_loaded, 100)\n    }\n  }\n\n\n  function run_callbacks() {\n    try {\n      root._bokeh_onload_callbacks.forEach(function(callback) { callback() });\n    }\n    finally {\n      delete root._bokeh_onload_callbacks\n    }\n    console.info(\"Bokeh: all callbacks have finished\");\n  }\n\n  function load_libs(js_urls, callback) {\n    root._bokeh_onload_callbacks.push(callback);\n    if (root._bokeh_is_loading > 0) {\n      console.log(\"Bokeh: BokehJS is being loaded, scheduling callback at\", now());\n      return null;\n    }\n    if (js_urls == null || js_urls.length === 0) {\n      run_callbacks();\n      return null;\n    }\n    console.log(\"Bokeh: BokehJS not loaded, scheduling load and callback at\", now());\n    root._bokeh_is_loading = js_urls.length;\n    for (var i = 0; i < js_urls.length; i++) {\n      var url = js_urls[i];\n      var s = document.createElement('script');\n      s.src = url;\n      s.async = false;\n      s.onreadystatechange = s.onload = function() {\n        root._bokeh_is_loading--;\n        if (root._bokeh_is_loading === 0) {\n          console.log(\"Bokeh: all BokehJS libraries loaded\");\n          run_callbacks()\n        }\n      };\n      s.onerror = function() {\n        console.warn(\"failed to load library \" + url);\n      };\n      console.log(\"Bokeh: injecting script tag for BokehJS library: \", url);\n      document.getElementsByTagName(\"head\")[0].appendChild(s);\n    }\n  };var element = document.getElementById(\"25422\");\n  if (element == null) {\n    console.log(\"Bokeh: ERROR: autoload.js configured with elementid '25422' but no matching script tag was found. \")\n    return false;\n  }\n\n  var js_urls = [\"https://cdn.pydata.org/bokeh/release/bokeh-1.0.4.min.js\", \"https://cdn.pydata.org/bokeh/release/bokeh-widgets-1.0.4.min.js\", \"https://cdn.pydata.org/bokeh/release/bokeh-tables-1.0.4.min.js\", \"https://cdn.pydata.org/bokeh/release/bokeh-gl-1.0.4.min.js\"];\n\n  var inline_js = [\n    function(Bokeh) {\n      Bokeh.set_log_level(\"info\");\n    },\n    \n    function(Bokeh) {\n      \n    },\n    function(Bokeh) {\n      console.log(\"Bokeh: injecting CSS: https://cdn.pydata.org/bokeh/release/bokeh-1.0.4.min.css\");\n      Bokeh.embed.inject_css(\"https://cdn.pydata.org/bokeh/release/bokeh-1.0.4.min.css\");\n      console.log(\"Bokeh: injecting CSS: https://cdn.pydata.org/bokeh/release/bokeh-widgets-1.0.4.min.css\");\n      Bokeh.embed.inject_css(\"https://cdn.pydata.org/bokeh/release/bokeh-widgets-1.0.4.min.css\");\n      console.log(\"Bokeh: injecting CSS: https://cdn.pydata.org/bokeh/release/bokeh-tables-1.0.4.min.css\");\n      Bokeh.embed.inject_css(\"https://cdn.pydata.org/bokeh/release/bokeh-tables-1.0.4.min.css\");\n    }\n  ];\n\n  function run_inline_js() {\n    \n    if ((root.Bokeh !== undefined) || (force === true)) {\n      for (var i = 0; i < inline_js.length; i++) {\n        inline_js[i].call(root, root.Bokeh);\n      }if (force === true) {\n        display_loaded();\n      }} else if (Date.now() < root._bokeh_timeout) {\n      setTimeout(run_inline_js, 100);\n    } else if (!root._bokeh_failed_load) {\n      console.log(\"Bokeh: BokehJS failed to load within specified timeout.\");\n      root._bokeh_failed_load = true;\n    } else if (force !== true) {\n      var cell = $(document.getElementById(\"25422\")).parents('.cell').data().cell;\n      cell.output_area.append_execute_result(NB_LOAD_WARNING)\n    }\n\n  }\n\n  if (root._bokeh_is_loading === 0) {\n    console.log(\"Bokeh: BokehJS loaded, going straight to plotting\");\n    run_inline_js();\n  } else {\n    load_libs(js_urls, function() {\n      console.log(\"Bokeh: BokehJS plotting callback run at\", now());\n      run_inline_js();\n    });\n  }\n}(window));"
          },
          "metadata": {
            "tags": []
          }
        },
        {
          "output_type": "display_data",
          "data": {
            "text/html": [
              "\n",
              "\n",
              "\n",
              "\n",
              "\n",
              "\n",
              "  <div class=\"bk-root\" id=\"8fc30a59-4f16-4260-aeb6-70758b7334c8\" data-root-id=\"25423\"></div>\n"
            ]
          },
          "metadata": {
            "tags": []
          }
        },
        {
          "output_type": "display_data",
          "data": {
            "application/javascript": [
              "(function(root) {\n",
              "  function embed_document(root) {\n",
              "    \n",
              "  var docs_json = {\"06ad7957-3e98-4a8a-94a0-784f9d094ec5\":{\"roots\":{\"references\":[{\"attributes\":{\"below\":[{\"id\":\"25432\",\"type\":\"DatetimeAxis\"}],\"left\":[{\"id\":\"25437\",\"type\":\"LinearAxis\"}],\"plot_height\":300,\"plot_width\":1000,\"renderers\":[{\"id\":\"25432\",\"type\":\"DatetimeAxis\"},{\"id\":\"25436\",\"type\":\"Grid\"},{\"id\":\"25437\",\"type\":\"LinearAxis\"},{\"id\":\"25441\",\"type\":\"Grid\"},{\"id\":\"25450\",\"type\":\"BoxAnnotation\"},{\"id\":\"25460\",\"type\":\"GlyphRenderer\"},{\"id\":\"25465\",\"type\":\"GlyphRenderer\"}],\"title\":{\"id\":\"26106\",\"type\":\"Title\"},\"toolbar\":{\"id\":\"25448\",\"type\":\"Toolbar\"},\"x_range\":{\"id\":\"25424\",\"type\":\"DataRange1d\"},\"x_scale\":{\"id\":\"25428\",\"type\":\"LinearScale\"},\"y_range\":{\"id\":\"25426\",\"type\":\"DataRange1d\"},\"y_scale\":{\"id\":\"25430\",\"type\":\"LinearScale\"}},\"id\":\"25423\",\"subtype\":\"Figure\",\"type\":\"Plot\"},{\"attributes\":{\"formatter\":{\"id\":\"26110\",\"type\":\"BasicTickFormatter\"},\"plot\":{\"id\":\"25423\",\"subtype\":\"Figure\",\"type\":\"Plot\"},\"ticker\":{\"id\":\"25438\",\"type\":\"BasicTicker\"}},\"id\":\"25437\",\"type\":\"LinearAxis\"},{\"attributes\":{},\"id\":\"25446\",\"type\":\"ResetTool\"},{\"attributes\":{\"plot\":null,\"text\":\"\"},\"id\":\"26106\",\"type\":\"Title\"},{\"attributes\":{\"days\":[1,2,3,4,5,6,7,8,9,10,11,12,13,14,15,16,17,18,19,20,21,22,23,24,25,26,27,28,29,30,31]},\"id\":\"26115\",\"type\":\"DaysTicker\"},{\"attributes\":{\"overlay\":{\"id\":\"25450\",\"type\":\"BoxAnnotation\"}},\"id\":\"25444\",\"type\":\"BoxZoomTool\"},{\"attributes\":{\"base\":60,\"mantissas\":[1,2,5,10,15,20,30],\"max_interval\":1800000.0,\"min_interval\":1000.0,\"num_minor_ticks\":0},\"id\":\"26113\",\"type\":\"AdaptiveTicker\"},{\"attributes\":{\"dimension\":1,\"plot\":{\"id\":\"25423\",\"subtype\":\"Figure\",\"type\":\"Plot\"},\"ticker\":{\"id\":\"25438\",\"type\":\"BasicTicker\"}},\"id\":\"25441\",\"type\":\"Grid\"},{\"attributes\":{\"base\":24,\"mantissas\":[1,2,4,6,8,12],\"max_interval\":43200000.0,\"min_interval\":3600000.0,\"num_minor_ticks\":0},\"id\":\"26114\",\"type\":\"AdaptiveTicker\"},{\"attributes\":{\"active_drag\":\"auto\",\"active_inspect\":\"auto\",\"active_multi\":null,\"active_scroll\":\"auto\",\"active_tap\":\"auto\",\"tools\":[{\"id\":\"25442\",\"type\":\"PanTool\"},{\"id\":\"25443\",\"type\":\"WheelZoomTool\"},{\"id\":\"25444\",\"type\":\"BoxZoomTool\"},{\"id\":\"25445\",\"type\":\"SaveTool\"},{\"id\":\"25446\",\"type\":\"ResetTool\"},{\"id\":\"25447\",\"type\":\"HelpTool\"}]},\"id\":\"25448\",\"type\":\"Toolbar\"},{\"attributes\":{\"days\":[1,4,7,10,13,16,19,22,25,28]},\"id\":\"26116\",\"type\":\"DaysTicker\"},{\"attributes\":{\"source\":{\"id\":\"25457\",\"type\":\"ColumnDataSource\"}},\"id\":\"25461\",\"type\":\"CDSView\"},{\"attributes\":{\"plot\":{\"id\":\"25423\",\"subtype\":\"Figure\",\"type\":\"Plot\"},\"ticker\":{\"id\":\"25433\",\"type\":\"DatetimeTicker\"}},\"id\":\"25436\",\"type\":\"Grid\"},{\"attributes\":{},\"id\":\"25430\",\"type\":\"LinearScale\"},{\"attributes\":{},\"id\":\"26123\",\"type\":\"YearsTicker\"},{\"attributes\":{\"days\":[1,15]},\"id\":\"26118\",\"type\":\"DaysTicker\"},{\"attributes\":{\"months\":[0,1,2,3,4,5,6,7,8,9,10,11]},\"id\":\"26119\",\"type\":\"MonthsTicker\"},{\"attributes\":{\"data_source\":{\"id\":\"25457\",\"type\":\"ColumnDataSource\"},\"glyph\":{\"id\":\"25458\",\"type\":\"Rect\"},\"hover_glyph\":null,\"muted_glyph\":null,\"nonselection_glyph\":{\"id\":\"25459\",\"type\":\"Rect\"},\"selection_glyph\":null,\"view\":{\"id\":\"25461\",\"type\":\"CDSView\"}},\"id\":\"25460\",\"type\":\"GlyphRenderer\"},{\"attributes\":{\"fill_color\":{\"value\":\"blue\"},\"height\":{\"field\":\"height\",\"units\":\"data\"},\"width\":{\"units\":\"data\",\"value\":43200000},\"x\":{\"field\":\"x\"},\"y\":{\"field\":\"y\"}},\"id\":\"25463\",\"type\":\"Rect\"},{\"attributes\":{\"formatter\":{\"id\":\"26108\",\"type\":\"DatetimeTickFormatter\"},\"plot\":{\"id\":\"25423\",\"subtype\":\"Figure\",\"type\":\"Plot\"},\"ticker\":{\"id\":\"25433\",\"type\":\"DatetimeTicker\"}},\"id\":\"25432\",\"type\":\"DatetimeAxis\"},{\"attributes\":{},\"id\":\"25447\",\"type\":\"HelpTool\"},{\"attributes\":{},\"id\":\"25445\",\"type\":\"SaveTool\"},{\"attributes\":{\"fill_alpha\":{\"value\":0.1},\"fill_color\":{\"value\":\"#1f77b4\"},\"height\":{\"field\":\"height\",\"units\":\"data\"},\"line_alpha\":{\"value\":0.1},\"line_color\":{\"value\":\"#1f77b4\"},\"width\":{\"units\":\"data\",\"value\":43200000},\"x\":{\"field\":\"x\"},\"y\":{\"field\":\"y\"}},\"id\":\"25464\",\"type\":\"Rect\"},{\"attributes\":{},\"id\":\"26126\",\"type\":\"UnionRenderers\"},{\"attributes\":{\"bottom_units\":\"screen\",\"fill_alpha\":{\"value\":0.5},\"fill_color\":{\"value\":\"lightgrey\"},\"left_units\":\"screen\",\"level\":\"overlay\",\"line_alpha\":{\"value\":1.0},\"line_color\":{\"value\":\"black\"},\"line_dash\":[4,4],\"line_width\":{\"value\":2},\"plot\":null,\"render_mode\":\"css\",\"right_units\":\"screen\",\"top_units\":\"screen\"},\"id\":\"25450\",\"type\":\"BoxAnnotation\"},{\"attributes\":{\"mantissas\":[1,2,5],\"max_interval\":500.0,\"num_minor_ticks\":0},\"id\":\"26112\",\"type\":\"AdaptiveTicker\"},{\"attributes\":{\"callback\":null},\"id\":\"25426\",\"type\":\"DataRange1d\"},{\"attributes\":{\"months\":[0,2,4,6,8,10]},\"id\":\"26120\",\"type\":\"MonthsTicker\"},{\"attributes\":{\"fill_color\":{\"value\":\"red\"},\"height\":{\"field\":\"height\",\"units\":\"data\"},\"width\":{\"units\":\"data\",\"value\":43200000},\"x\":{\"field\":\"x\"},\"y\":{\"field\":\"y\"}},\"id\":\"25458\",\"type\":\"Rect\"},{\"attributes\":{\"source\":{\"id\":\"25462\",\"type\":\"ColumnDataSource\"}},\"id\":\"25466\",\"type\":\"CDSView\"},{\"attributes\":{\"months\":[0,6]},\"id\":\"26122\",\"type\":\"MonthsTicker\"},{\"attributes\":{},\"id\":\"25442\",\"type\":\"PanTool\"},{\"attributes\":{\"fill_alpha\":{\"value\":0.1},\"fill_color\":{\"value\":\"#1f77b4\"},\"height\":{\"field\":\"height\",\"units\":\"data\"},\"line_alpha\":{\"value\":0.1},\"line_color\":{\"value\":\"#1f77b4\"},\"width\":{\"units\":\"data\",\"value\":43200000},\"x\":{\"field\":\"x\"},\"y\":{\"field\":\"y\"}},\"id\":\"25459\",\"type\":\"Rect\"},{\"attributes\":{},\"id\":\"25443\",\"type\":\"WheelZoomTool\"},{\"attributes\":{},\"id\":\"26124\",\"type\":\"UnionRenderers\"},{\"attributes\":{\"days\":[1,8,15,22]},\"id\":\"26117\",\"type\":\"DaysTicker\"},{\"attributes\":{},\"id\":\"26108\",\"type\":\"DatetimeTickFormatter\"},{\"attributes\":{\"data_source\":{\"id\":\"25462\",\"type\":\"ColumnDataSource\"},\"glyph\":{\"id\":\"25463\",\"type\":\"Rect\"},\"hover_glyph\":null,\"muted_glyph\":null,\"nonselection_glyph\":{\"id\":\"25464\",\"type\":\"Rect\"},\"selection_glyph\":null,\"view\":{\"id\":\"25466\",\"type\":\"CDSView\"}},\"id\":\"25465\",\"type\":\"GlyphRenderer\"},{\"attributes\":{\"months\":[0,4,8]},\"id\":\"26121\",\"type\":\"MonthsTicker\"},{\"attributes\":{},\"id\":\"26127\",\"type\":\"Selection\"},{\"attributes\":{\"num_minor_ticks\":5,\"tickers\":[{\"id\":\"26112\",\"type\":\"AdaptiveTicker\"},{\"id\":\"26113\",\"type\":\"AdaptiveTicker\"},{\"id\":\"26114\",\"type\":\"AdaptiveTicker\"},{\"id\":\"26115\",\"type\":\"DaysTicker\"},{\"id\":\"26116\",\"type\":\"DaysTicker\"},{\"id\":\"26117\",\"type\":\"DaysTicker\"},{\"id\":\"26118\",\"type\":\"DaysTicker\"},{\"id\":\"26119\",\"type\":\"MonthsTicker\"},{\"id\":\"26120\",\"type\":\"MonthsTicker\"},{\"id\":\"26121\",\"type\":\"MonthsTicker\"},{\"id\":\"26122\",\"type\":\"MonthsTicker\"},{\"id\":\"26123\",\"type\":\"YearsTicker\"}]},\"id\":\"25433\",\"type\":\"DatetimeTicker\"},{\"attributes\":{},\"id\":\"26110\",\"type\":\"BasicTickFormatter\"},{\"attributes\":{},\"id\":\"25438\",\"type\":\"BasicTicker\"},{\"attributes\":{\"callback\":null,\"data\":{\"height\":{\"__ndarray__\":\"AAAAAAAA+H8=\",\"dtype\":\"float64\",\"shape\":[1]},\"x\":{\"__ndarray__\":\"AABAdDoodkI=\",\"dtype\":\"float64\",\"shape\":[1]},\"y\":{\"__ndarray__\":\"zczMzEy7pkA=\",\"dtype\":\"float64\",\"shape\":[1]}},\"selected\":{\"id\":\"26127\",\"type\":\"Selection\"},\"selection_policy\":{\"id\":\"26126\",\"type\":\"UnionRenderers\"}},\"id\":\"25462\",\"type\":\"ColumnDataSource\"},{\"attributes\":{},\"id\":\"26125\",\"type\":\"Selection\"},{\"attributes\":{},\"id\":\"25428\",\"type\":\"LinearScale\"},{\"attributes\":{\"callback\":null,\"data\":{\"height\":{\"__ndarray__\":\"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\",\"dtype\":\"float64\",\"shape\":[228]},\"x\":{\"__ndarray__\":\"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\",\"dtype\":\"float64\",\"shape\":[228]},\"y\":{\"__ndarray__\":\"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\",\"dtype\":\"float64\",\"shape\":[228]}},\"selected\":{\"id\":\"26125\",\"type\":\"Selection\"},\"selection_policy\":{\"id\":\"26124\",\"type\":\"UnionRenderers\"}},\"id\":\"25457\",\"type\":\"ColumnDataSource\"},{\"attributes\":{\"callback\":null},\"id\":\"25424\",\"type\":\"DataRange1d\"}],\"root_ids\":[\"25423\"]},\"title\":\"Bokeh Application\",\"version\":\"1.0.4\"}};\n",
              "  var render_items = [{\"docid\":\"06ad7957-3e98-4a8a-94a0-784f9d094ec5\",\"roots\":{\"25423\":\"8fc30a59-4f16-4260-aeb6-70758b7334c8\"}}];\n",
              "  root.Bokeh.embed.embed_items_notebook(docs_json, render_items);\n",
              "\n",
              "  }\n",
              "  if (root.Bokeh !== undefined) {\n",
              "    embed_document(root);\n",
              "  } else {\n",
              "    var attempts = 0;\n",
              "    var timer = setInterval(function(root) {\n",
              "      if (root.Bokeh !== undefined) {\n",
              "        embed_document(root);\n",
              "        clearInterval(timer);\n",
              "      }\n",
              "      attempts++;\n",
              "      if (attempts > 100) {\n",
              "        console.log(\"Bokeh: ERROR: Unable to run BokehJS code because BokehJS library is missing\");\n",
              "        clearInterval(timer);\n",
              "      }\n",
              "    }, 10, root)\n",
              "  }\n",
              "})(window);"
            ],
            "application/vnd.bokehjs_exec.v0+json": ""
          },
          "metadata": {
            "tags": [],
            "application/vnd.bokehjs_exec.v0+json": {
              "id": "25423"
            }
          }
        }
      ]
    },
    {
      "metadata": {
        "id": "A7l2Ma2O1oss",
        "colab_type": "code",
        "colab": {
          "base_uri": "https://localhost:8080/",
          "height": 367
        },
        "outputId": "71e73bc4-c34f-4e9d-88d8-a810ac563dee"
      },
      "cell_type": "code",
      "source": [
        "timeSeriesPlot(infy_dummy)"
      ],
      "execution_count": 156,
      "outputs": [
        {
          "output_type": "display_data",
          "data": {
            "text/html": [
              "\n",
              "    <div class=\"bk-root\">\n",
              "        <a href=\"https://bokeh.pydata.org\" target=\"_blank\" class=\"bk-logo bk-logo-small bk-logo-notebook\"></a>\n",
              "        <span id=\"26475\">Loading BokehJS ...</span>\n",
              "    </div>"
            ]
          },
          "metadata": {
            "tags": []
          }
        },
        {
          "output_type": "display_data",
          "data": {
            "application/javascript": [
              "\n",
              "(function(root) {\n",
              "  function now() {\n",
              "    return new Date();\n",
              "  }\n",
              "\n",
              "  var force = true;\n",
              "\n",
              "  if (typeof (root._bokeh_onload_callbacks) === \"undefined\" || force === true) {\n",
              "    root._bokeh_onload_callbacks = [];\n",
              "    root._bokeh_is_loading = undefined;\n",
              "  }\n",
              "\n",
              "  var JS_MIME_TYPE = 'application/javascript';\n",
              "  var HTML_MIME_TYPE = 'text/html';\n",
              "  var EXEC_MIME_TYPE = 'application/vnd.bokehjs_exec.v0+json';\n",
              "  var CLASS_NAME = 'output_bokeh rendered_html';\n",
              "\n",
              "  /**\n",
              "   * Render data to the DOM node\n",
              "   */\n",
              "  function render(props, node) {\n",
              "    var script = document.createElement(\"script\");\n",
              "    node.appendChild(script);\n",
              "  }\n",
              "\n",
              "  /**\n",
              "   * Handle when an output is cleared or removed\n",
              "   */\n",
              "  function handleClearOutput(event, handle) {\n",
              "    var cell = handle.cell;\n",
              "\n",
              "    var id = cell.output_area._bokeh_element_id;\n",
              "    var server_id = cell.output_area._bokeh_server_id;\n",
              "    // Clean up Bokeh references\n",
              "    if (id != null && id in Bokeh.index) {\n",
              "      Bokeh.index[id].model.document.clear();\n",
              "      delete Bokeh.index[id];\n",
              "    }\n",
              "\n",
              "    if (server_id !== undefined) {\n",
              "      // Clean up Bokeh references\n",
              "      var cmd = \"from bokeh.io.state import curstate; print(curstate().uuid_to_server['\" + server_id + \"'].get_sessions()[0].document.roots[0]._id)\";\n",
              "      cell.notebook.kernel.execute(cmd, {\n",
              "        iopub: {\n",
              "          output: function(msg) {\n",
              "            var id = msg.content.text.trim();\n",
              "            if (id in Bokeh.index) {\n",
              "              Bokeh.index[id].model.document.clear();\n",
              "              delete Bokeh.index[id];\n",
              "            }\n",
              "          }\n",
              "        }\n",
              "      });\n",
              "      // Destroy server and session\n",
              "      var cmd = \"import bokeh.io.notebook as ion; ion.destroy_server('\" + server_id + \"')\";\n",
              "      cell.notebook.kernel.execute(cmd);\n",
              "    }\n",
              "  }\n",
              "\n",
              "  /**\n",
              "   * Handle when a new output is added\n",
              "   */\n",
              "  function handleAddOutput(event, handle) {\n",
              "    var output_area = handle.output_area;\n",
              "    var output = handle.output;\n",
              "\n",
              "    // limit handleAddOutput to display_data with EXEC_MIME_TYPE content only\n",
              "    if ((output.output_type != \"display_data\") || (!output.data.hasOwnProperty(EXEC_MIME_TYPE))) {\n",
              "      return\n",
              "    }\n",
              "\n",
              "    var toinsert = output_area.element.find(\".\" + CLASS_NAME.split(' ')[0]);\n",
              "\n",
              "    if (output.metadata[EXEC_MIME_TYPE][\"id\"] !== undefined) {\n",
              "      toinsert[toinsert.length - 1].firstChild.textContent = output.data[JS_MIME_TYPE];\n",
              "      // store reference to embed id on output_area\n",
              "      output_area._bokeh_element_id = output.metadata[EXEC_MIME_TYPE][\"id\"];\n",
              "    }\n",
              "    if (output.metadata[EXEC_MIME_TYPE][\"server_id\"] !== undefined) {\n",
              "      var bk_div = document.createElement(\"div\");\n",
              "      bk_div.innerHTML = output.data[HTML_MIME_TYPE];\n",
              "      var script_attrs = bk_div.children[0].attributes;\n",
              "      for (var i = 0; i < script_attrs.length; i++) {\n",
              "        toinsert[toinsert.length - 1].firstChild.setAttribute(script_attrs[i].name, script_attrs[i].value);\n",
              "      }\n",
              "      // store reference to server id on output_area\n",
              "      output_area._bokeh_server_id = output.metadata[EXEC_MIME_TYPE][\"server_id\"];\n",
              "    }\n",
              "  }\n",
              "\n",
              "  function register_renderer(events, OutputArea) {\n",
              "\n",
              "    function append_mime(data, metadata, element) {\n",
              "      // create a DOM node to render to\n",
              "      var toinsert = this.create_output_subarea(\n",
              "        metadata,\n",
              "        CLASS_NAME,\n",
              "        EXEC_MIME_TYPE\n",
              "      );\n",
              "      this.keyboard_manager.register_events(toinsert);\n",
              "      // Render to node\n",
              "      var props = {data: data, metadata: metadata[EXEC_MIME_TYPE]};\n",
              "      render(props, toinsert[toinsert.length - 1]);\n",
              "      element.append(toinsert);\n",
              "      return toinsert\n",
              "    }\n",
              "\n",
              "    /* Handle when an output is cleared or removed */\n",
              "    events.on('clear_output.CodeCell', handleClearOutput);\n",
              "    events.on('delete.Cell', handleClearOutput);\n",
              "\n",
              "    /* Handle when a new output is added */\n",
              "    events.on('output_added.OutputArea', handleAddOutput);\n",
              "\n",
              "    /**\n",
              "     * Register the mime type and append_mime function with output_area\n",
              "     */\n",
              "    OutputArea.prototype.register_mime_type(EXEC_MIME_TYPE, append_mime, {\n",
              "      /* Is output safe? */\n",
              "      safe: true,\n",
              "      /* Index of renderer in `output_area.display_order` */\n",
              "      index: 0\n",
              "    });\n",
              "  }\n",
              "\n",
              "  // register the mime type if in Jupyter Notebook environment and previously unregistered\n",
              "  if (root.Jupyter !== undefined) {\n",
              "    var events = require('base/js/events');\n",
              "    var OutputArea = require('notebook/js/outputarea').OutputArea;\n",
              "\n",
              "    if (OutputArea.prototype.mime_types().indexOf(EXEC_MIME_TYPE) == -1) {\n",
              "      register_renderer(events, OutputArea);\n",
              "    }\n",
              "  }\n",
              "\n",
              "  \n",
              "  if (typeof (root._bokeh_timeout) === \"undefined\" || force === true) {\n",
              "    root._bokeh_timeout = Date.now() + 5000;\n",
              "    root._bokeh_failed_load = false;\n",
              "  }\n",
              "\n",
              "  var NB_LOAD_WARNING = {'data': {'text/html':\n",
              "     \"<div style='background-color: #fdd'>\\n\"+\n",
              "     \"<p>\\n\"+\n",
              "     \"BokehJS does not appear to have successfully loaded. If loading BokehJS from CDN, this \\n\"+\n",
              "     \"may be due to a slow or bad network connection. Possible fixes:\\n\"+\n",
              "     \"</p>\\n\"+\n",
              "     \"<ul>\\n\"+\n",
              "     \"<li>re-rerun `output_notebook()` to attempt to load from CDN again, or</li>\\n\"+\n",
              "     \"<li>use INLINE resources instead, as so:</li>\\n\"+\n",
              "     \"</ul>\\n\"+\n",
              "     \"<code>\\n\"+\n",
              "     \"from bokeh.resources import INLINE\\n\"+\n",
              "     \"output_notebook(resources=INLINE)\\n\"+\n",
              "     \"</code>\\n\"+\n",
              "     \"</div>\"}};\n",
              "\n",
              "  function display_loaded() {\n",
              "    var el = document.getElementById(\"26475\");\n",
              "    if (el != null) {\n",
              "      el.textContent = \"BokehJS is loading...\";\n",
              "    }\n",
              "    if (root.Bokeh !== undefined) {\n",
              "      if (el != null) {\n",
              "        el.textContent = \"BokehJS \" + root.Bokeh.version + \" successfully loaded.\";\n",
              "      }\n",
              "    } else if (Date.now() < root._bokeh_timeout) {\n",
              "      setTimeout(display_loaded, 100)\n",
              "    }\n",
              "  }\n",
              "\n",
              "\n",
              "  function run_callbacks() {\n",
              "    try {\n",
              "      root._bokeh_onload_callbacks.forEach(function(callback) { callback() });\n",
              "    }\n",
              "    finally {\n",
              "      delete root._bokeh_onload_callbacks\n",
              "    }\n",
              "    console.info(\"Bokeh: all callbacks have finished\");\n",
              "  }\n",
              "\n",
              "  function load_libs(js_urls, callback) {\n",
              "    root._bokeh_onload_callbacks.push(callback);\n",
              "    if (root._bokeh_is_loading > 0) {\n",
              "      console.log(\"Bokeh: BokehJS is being loaded, scheduling callback at\", now());\n",
              "      return null;\n",
              "    }\n",
              "    if (js_urls == null || js_urls.length === 0) {\n",
              "      run_callbacks();\n",
              "      return null;\n",
              "    }\n",
              "    console.log(\"Bokeh: BokehJS not loaded, scheduling load and callback at\", now());\n",
              "    root._bokeh_is_loading = js_urls.length;\n",
              "    for (var i = 0; i < js_urls.length; i++) {\n",
              "      var url = js_urls[i];\n",
              "      var s = document.createElement('script');\n",
              "      s.src = url;\n",
              "      s.async = false;\n",
              "      s.onreadystatechange = s.onload = function() {\n",
              "        root._bokeh_is_loading--;\n",
              "        if (root._bokeh_is_loading === 0) {\n",
              "          console.log(\"Bokeh: all BokehJS libraries loaded\");\n",
              "          run_callbacks()\n",
              "        }\n",
              "      };\n",
              "      s.onerror = function() {\n",
              "        console.warn(\"failed to load library \" + url);\n",
              "      };\n",
              "      console.log(\"Bokeh: injecting script tag for BokehJS library: \", url);\n",
              "      document.getElementsByTagName(\"head\")[0].appendChild(s);\n",
              "    }\n",
              "  };var element = document.getElementById(\"26475\");\n",
              "  if (element == null) {\n",
              "    console.log(\"Bokeh: ERROR: autoload.js configured with elementid '26475' but no matching script tag was found. \")\n",
              "    return false;\n",
              "  }\n",
              "\n",
              "  var js_urls = [\"https://cdn.pydata.org/bokeh/release/bokeh-1.0.4.min.js\", \"https://cdn.pydata.org/bokeh/release/bokeh-widgets-1.0.4.min.js\", \"https://cdn.pydata.org/bokeh/release/bokeh-tables-1.0.4.min.js\", \"https://cdn.pydata.org/bokeh/release/bokeh-gl-1.0.4.min.js\"];\n",
              "\n",
              "  var inline_js = [\n",
              "    function(Bokeh) {\n",
              "      Bokeh.set_log_level(\"info\");\n",
              "    },\n",
              "    \n",
              "    function(Bokeh) {\n",
              "      \n",
              "    },\n",
              "    function(Bokeh) {\n",
              "      console.log(\"Bokeh: injecting CSS: https://cdn.pydata.org/bokeh/release/bokeh-1.0.4.min.css\");\n",
              "      Bokeh.embed.inject_css(\"https://cdn.pydata.org/bokeh/release/bokeh-1.0.4.min.css\");\n",
              "      console.log(\"Bokeh: injecting CSS: https://cdn.pydata.org/bokeh/release/bokeh-widgets-1.0.4.min.css\");\n",
              "      Bokeh.embed.inject_css(\"https://cdn.pydata.org/bokeh/release/bokeh-widgets-1.0.4.min.css\");\n",
              "      console.log(\"Bokeh: injecting CSS: https://cdn.pydata.org/bokeh/release/bokeh-tables-1.0.4.min.css\");\n",
              "      Bokeh.embed.inject_css(\"https://cdn.pydata.org/bokeh/release/bokeh-tables-1.0.4.min.css\");\n",
              "    }\n",
              "  ];\n",
              "\n",
              "  function run_inline_js() {\n",
              "    \n",
              "    if ((root.Bokeh !== undefined) || (force === true)) {\n",
              "      for (var i = 0; i < inline_js.length; i++) {\n",
              "        inline_js[i].call(root, root.Bokeh);\n",
              "      }if (force === true) {\n",
              "        display_loaded();\n",
              "      }} else if (Date.now() < root._bokeh_timeout) {\n",
              "      setTimeout(run_inline_js, 100);\n",
              "    } else if (!root._bokeh_failed_load) {\n",
              "      console.log(\"Bokeh: BokehJS failed to load within specified timeout.\");\n",
              "      root._bokeh_failed_load = true;\n",
              "    } else if (force !== true) {\n",
              "      var cell = $(document.getElementById(\"26475\")).parents('.cell').data().cell;\n",
              "      cell.output_area.append_execute_result(NB_LOAD_WARNING)\n",
              "    }\n",
              "\n",
              "  }\n",
              "\n",
              "  if (root._bokeh_is_loading === 0) {\n",
              "    console.log(\"Bokeh: BokehJS loaded, going straight to plotting\");\n",
              "    run_inline_js();\n",
              "  } else {\n",
              "    load_libs(js_urls, function() {\n",
              "      console.log(\"Bokeh: BokehJS plotting callback run at\", now());\n",
              "      run_inline_js();\n",
              "    });\n",
              "  }\n",
              "}(window));"
            ],
            "application/vnd.bokehjs_load.v0+json": "\n(function(root) {\n  function now() {\n    return new Date();\n  }\n\n  var force = true;\n\n  if (typeof (root._bokeh_onload_callbacks) === \"undefined\" || force === true) {\n    root._bokeh_onload_callbacks = [];\n    root._bokeh_is_loading = undefined;\n  }\n\n  \n\n  \n  if (typeof (root._bokeh_timeout) === \"undefined\" || force === true) {\n    root._bokeh_timeout = Date.now() + 5000;\n    root._bokeh_failed_load = false;\n  }\n\n  var NB_LOAD_WARNING = {'data': {'text/html':\n     \"<div style='background-color: #fdd'>\\n\"+\n     \"<p>\\n\"+\n     \"BokehJS does not appear to have successfully loaded. If loading BokehJS from CDN, this \\n\"+\n     \"may be due to a slow or bad network connection. Possible fixes:\\n\"+\n     \"</p>\\n\"+\n     \"<ul>\\n\"+\n     \"<li>re-rerun `output_notebook()` to attempt to load from CDN again, or</li>\\n\"+\n     \"<li>use INLINE resources instead, as so:</li>\\n\"+\n     \"</ul>\\n\"+\n     \"<code>\\n\"+\n     \"from bokeh.resources import INLINE\\n\"+\n     \"output_notebook(resources=INLINE)\\n\"+\n     \"</code>\\n\"+\n     \"</div>\"}};\n\n  function display_loaded() {\n    var el = document.getElementById(\"26475\");\n    if (el != null) {\n      el.textContent = \"BokehJS is loading...\";\n    }\n    if (root.Bokeh !== undefined) {\n      if (el != null) {\n        el.textContent = \"BokehJS \" + root.Bokeh.version + \" successfully loaded.\";\n      }\n    } else if (Date.now() < root._bokeh_timeout) {\n      setTimeout(display_loaded, 100)\n    }\n  }\n\n\n  function run_callbacks() {\n    try {\n      root._bokeh_onload_callbacks.forEach(function(callback) { callback() });\n    }\n    finally {\n      delete root._bokeh_onload_callbacks\n    }\n    console.info(\"Bokeh: all callbacks have finished\");\n  }\n\n  function load_libs(js_urls, callback) {\n    root._bokeh_onload_callbacks.push(callback);\n    if (root._bokeh_is_loading > 0) {\n      console.log(\"Bokeh: BokehJS is being loaded, scheduling callback at\", now());\n      return null;\n    }\n    if (js_urls == null || js_urls.length === 0) {\n      run_callbacks();\n      return null;\n    }\n    console.log(\"Bokeh: BokehJS not loaded, scheduling load and callback at\", now());\n    root._bokeh_is_loading = js_urls.length;\n    for (var i = 0; i < js_urls.length; i++) {\n      var url = js_urls[i];\n      var s = document.createElement('script');\n      s.src = url;\n      s.async = false;\n      s.onreadystatechange = s.onload = function() {\n        root._bokeh_is_loading--;\n        if (root._bokeh_is_loading === 0) {\n          console.log(\"Bokeh: all BokehJS libraries loaded\");\n          run_callbacks()\n        }\n      };\n      s.onerror = function() {\n        console.warn(\"failed to load library \" + url);\n      };\n      console.log(\"Bokeh: injecting script tag for BokehJS library: \", url);\n      document.getElementsByTagName(\"head\")[0].appendChild(s);\n    }\n  };var element = document.getElementById(\"26475\");\n  if (element == null) {\n    console.log(\"Bokeh: ERROR: autoload.js configured with elementid '26475' but no matching script tag was found. \")\n    return false;\n  }\n\n  var js_urls = [\"https://cdn.pydata.org/bokeh/release/bokeh-1.0.4.min.js\", \"https://cdn.pydata.org/bokeh/release/bokeh-widgets-1.0.4.min.js\", \"https://cdn.pydata.org/bokeh/release/bokeh-tables-1.0.4.min.js\", \"https://cdn.pydata.org/bokeh/release/bokeh-gl-1.0.4.min.js\"];\n\n  var inline_js = [\n    function(Bokeh) {\n      Bokeh.set_log_level(\"info\");\n    },\n    \n    function(Bokeh) {\n      \n    },\n    function(Bokeh) {\n      console.log(\"Bokeh: injecting CSS: https://cdn.pydata.org/bokeh/release/bokeh-1.0.4.min.css\");\n      Bokeh.embed.inject_css(\"https://cdn.pydata.org/bokeh/release/bokeh-1.0.4.min.css\");\n      console.log(\"Bokeh: injecting CSS: https://cdn.pydata.org/bokeh/release/bokeh-widgets-1.0.4.min.css\");\n      Bokeh.embed.inject_css(\"https://cdn.pydata.org/bokeh/release/bokeh-widgets-1.0.4.min.css\");\n      console.log(\"Bokeh: injecting CSS: https://cdn.pydata.org/bokeh/release/bokeh-tables-1.0.4.min.css\");\n      Bokeh.embed.inject_css(\"https://cdn.pydata.org/bokeh/release/bokeh-tables-1.0.4.min.css\");\n    }\n  ];\n\n  function run_inline_js() {\n    \n    if ((root.Bokeh !== undefined) || (force === true)) {\n      for (var i = 0; i < inline_js.length; i++) {\n        inline_js[i].call(root, root.Bokeh);\n      }if (force === true) {\n        display_loaded();\n      }} else if (Date.now() < root._bokeh_timeout) {\n      setTimeout(run_inline_js, 100);\n    } else if (!root._bokeh_failed_load) {\n      console.log(\"Bokeh: BokehJS failed to load within specified timeout.\");\n      root._bokeh_failed_load = true;\n    } else if (force !== true) {\n      var cell = $(document.getElementById(\"26475\")).parents('.cell').data().cell;\n      cell.output_area.append_execute_result(NB_LOAD_WARNING)\n    }\n\n  }\n\n  if (root._bokeh_is_loading === 0) {\n    console.log(\"Bokeh: BokehJS loaded, going straight to plotting\");\n    run_inline_js();\n  } else {\n    load_libs(js_urls, function() {\n      console.log(\"Bokeh: BokehJS plotting callback run at\", now());\n      run_inline_js();\n    });\n  }\n}(window));"
          },
          "metadata": {
            "tags": []
          }
        },
        {
          "output_type": "display_data",
          "data": {
            "text/html": [
              "\n",
              "\n",
              "\n",
              "\n",
              "\n",
              "\n",
              "  <div class=\"bk-root\" id=\"6e8ac50e-a9d6-4c37-91e8-74c47199160f\" data-root-id=\"26476\"></div>\n"
            ]
          },
          "metadata": {
            "tags": []
          }
        },
        {
          "output_type": "display_data",
          "data": {
            "application/javascript": [
              "(function(root) {\n",
              "  function embed_document(root) {\n",
              "    \n",
              "  var docs_json = {\"dec7870c-413b-4645-b4a5-5eaeceefcab5\":{\"roots\":{\"references\":[{\"attributes\":{\"below\":[{\"id\":\"26485\",\"type\":\"DatetimeAxis\"}],\"left\":[{\"id\":\"26490\",\"type\":\"LinearAxis\"}],\"plot_height\":300,\"plot_width\":1000,\"renderers\":[{\"id\":\"26485\",\"type\":\"DatetimeAxis\"},{\"id\":\"26489\",\"type\":\"Grid\"},{\"id\":\"26490\",\"type\":\"LinearAxis\"},{\"id\":\"26494\",\"type\":\"Grid\"},{\"id\":\"26503\",\"type\":\"BoxAnnotation\"},{\"id\":\"26513\",\"type\":\"GlyphRenderer\"},{\"id\":\"26518\",\"type\":\"GlyphRenderer\"}],\"title\":{\"id\":\"27182\",\"type\":\"Title\"},\"toolbar\":{\"id\":\"26501\",\"type\":\"Toolbar\"},\"x_range\":{\"id\":\"26477\",\"type\":\"DataRange1d\"},\"x_scale\":{\"id\":\"26481\",\"type\":\"LinearScale\"},\"y_range\":{\"id\":\"26479\",\"type\":\"DataRange1d\"},\"y_scale\":{\"id\":\"26483\",\"type\":\"LinearScale\"}},\"id\":\"26476\",\"subtype\":\"Figure\",\"type\":\"Plot\"},{\"attributes\":{\"plot\":null,\"text\":\"\"},\"id\":\"27182\",\"type\":\"Title\"},{\"attributes\":{\"dimension\":1,\"plot\":{\"id\":\"26476\",\"subtype\":\"Figure\",\"type\":\"Plot\"},\"ticker\":{\"id\":\"26491\",\"type\":\"BasicTicker\"}},\"id\":\"26494\",\"type\":\"Grid\"},{\"attributes\":{\"base\":60,\"mantissas\":[1,2,5,10,15,20,30],\"max_interval\":1800000.0,\"min_interval\":1000.0,\"num_minor_ticks\":0},\"id\":\"27189\",\"type\":\"AdaptiveTicker\"},{\"attributes\":{\"days\":[1,15]},\"id\":\"27194\",\"type\":\"DaysTicker\"},{\"attributes\":{\"mantissas\":[1,2,5],\"max_interval\":500.0,\"num_minor_ticks\":0},\"id\":\"27188\",\"type\":\"AdaptiveTicker\"},{\"attributes\":{\"fill_alpha\":{\"value\":0.1},\"fill_color\":{\"value\":\"#1f77b4\"},\"height\":{\"field\":\"height\",\"units\":\"data\"},\"line_alpha\":{\"value\":0.1},\"line_color\":{\"value\":\"#1f77b4\"},\"width\":{\"units\":\"data\",\"value\":43200000},\"x\":{\"field\":\"x\"},\"y\":{\"field\":\"y\"}},\"id\":\"26512\",\"type\":\"Rect\"},{\"attributes\":{\"callback\":null,\"data\":{\"height\":{\"__ndarray__\":\"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\",\"dtype\":\"float64\",\"shape\":[228]},\"x\":{\"__ndarray__\":\"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\",\"dtype\":\"float64\",\"shape\":[228]},\"y\":{\"__ndarray__\":\"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\",\"dtype\":\"float64\",\"shape\":[228]}},\"selected\":{\"id\":\"27201\",\"type\":\"Selection\"},\"selection_policy\":{\"id\":\"27200\",\"type\":\"UnionRenderers\"}},\"id\":\"26510\",\"type\":\"ColumnDataSource\"},{\"attributes\":{\"fill_color\":{\"value\":\"red\"},\"height\":{\"field\":\"height\",\"units\":\"data\"},\"width\":{\"units\":\"data\",\"value\":43200000},\"x\":{\"field\":\"x\"},\"y\":{\"field\":\"y\"}},\"id\":\"26511\",\"type\":\"Rect\"},{\"attributes\":{\"base\":24,\"mantissas\":[1,2,4,6,8,12],\"max_interval\":43200000.0,\"min_interval\":3600000.0,\"num_minor_ticks\":0},\"id\":\"27190\",\"type\":\"AdaptiveTicker\"},{\"attributes\":{\"data_source\":{\"id\":\"26510\",\"type\":\"ColumnDataSource\"},\"glyph\":{\"id\":\"26511\",\"type\":\"Rect\"},\"hover_glyph\":null,\"muted_glyph\":null,\"nonselection_glyph\":{\"id\":\"26512\",\"type\":\"Rect\"},\"selection_glyph\":null,\"view\":{\"id\":\"26514\",\"type\":\"CDSView\"}},\"id\":\"26513\",\"type\":\"GlyphRenderer\"},{\"attributes\":{},\"id\":\"27200\",\"type\":\"UnionRenderers\"},{\"attributes\":{\"data_source\":{\"id\":\"26515\",\"type\":\"ColumnDataSource\"},\"glyph\":{\"id\":\"26516\",\"type\":\"Rect\"},\"hover_glyph\":null,\"muted_glyph\":null,\"nonselection_glyph\":{\"id\":\"26517\",\"type\":\"Rect\"},\"selection_glyph\":null,\"view\":{\"id\":\"26519\",\"type\":\"CDSView\"}},\"id\":\"26518\",\"type\":\"GlyphRenderer\"},{\"attributes\":{},\"id\":\"27184\",\"type\":\"DatetimeTickFormatter\"},{\"attributes\":{\"callback\":null},\"id\":\"26477\",\"type\":\"DataRange1d\"},{\"attributes\":{\"callback\":null,\"data\":{\"height\":{\"__ndarray__\":\"AAAAAAAA+H8=\",\"dtype\":\"float64\",\"shape\":[1]},\"x\":{\"__ndarray__\":\"AABAdDoodkI=\",\"dtype\":\"float64\",\"shape\":[1]},\"y\":{\"__ndarray__\":\"mpmZmZnEkUA=\",\"dtype\":\"float64\",\"shape\":[1]}},\"selected\":{\"id\":\"27203\",\"type\":\"Selection\"},\"selection_policy\":{\"id\":\"27202\",\"type\":\"UnionRenderers\"}},\"id\":\"26515\",\"type\":\"ColumnDataSource\"},{\"attributes\":{\"callback\":null},\"id\":\"26479\",\"type\":\"DataRange1d\"},{\"attributes\":{},\"id\":\"26483\",\"type\":\"LinearScale\"},{\"attributes\":{\"plot\":{\"id\":\"26476\",\"subtype\":\"Figure\",\"type\":\"Plot\"},\"ticker\":{\"id\":\"26486\",\"type\":\"DatetimeTicker\"}},\"id\":\"26489\",\"type\":\"Grid\"},{\"attributes\":{},\"id\":\"26496\",\"type\":\"WheelZoomTool\"},{\"attributes\":{\"days\":[1,2,3,4,5,6,7,8,9,10,11,12,13,14,15,16,17,18,19,20,21,22,23,24,25,26,27,28,29,30,31]},\"id\":\"27191\",\"type\":\"DaysTicker\"},{\"attributes\":{\"active_drag\":\"auto\",\"active_inspect\":\"auto\",\"active_multi\":null,\"active_scroll\":\"auto\",\"active_tap\":\"auto\",\"tools\":[{\"id\":\"26495\",\"type\":\"PanTool\"},{\"id\":\"26496\",\"type\":\"WheelZoomTool\"},{\"id\":\"26497\",\"type\":\"BoxZoomTool\"},{\"id\":\"26498\",\"type\":\"SaveTool\"},{\"id\":\"26499\",\"type\":\"ResetTool\"},{\"id\":\"26500\",\"type\":\"HelpTool\"}]},\"id\":\"26501\",\"type\":\"Toolbar\"},{\"attributes\":{\"days\":[1,8,15,22]},\"id\":\"27193\",\"type\":\"DaysTicker\"},{\"attributes\":{},\"id\":\"27186\",\"type\":\"BasicTickFormatter\"},{\"attributes\":{\"days\":[1,4,7,10,13,16,19,22,25,28]},\"id\":\"27192\",\"type\":\"DaysTicker\"},{\"attributes\":{\"formatter\":{\"id\":\"27184\",\"type\":\"DatetimeTickFormatter\"},\"plot\":{\"id\":\"26476\",\"subtype\":\"Figure\",\"type\":\"Plot\"},\"ticker\":{\"id\":\"26486\",\"type\":\"DatetimeTicker\"}},\"id\":\"26485\",\"type\":\"DatetimeAxis\"},{\"attributes\":{\"months\":[0,4,8]},\"id\":\"27197\",\"type\":\"MonthsTicker\"},{\"attributes\":{},\"id\":\"27202\",\"type\":\"UnionRenderers\"},{\"attributes\":{\"bottom_units\":\"screen\",\"fill_alpha\":{\"value\":0.5},\"fill_color\":{\"value\":\"lightgrey\"},\"left_units\":\"screen\",\"level\":\"overlay\",\"line_alpha\":{\"value\":1.0},\"line_color\":{\"value\":\"black\"},\"line_dash\":[4,4],\"line_width\":{\"value\":2},\"plot\":null,\"render_mode\":\"css\",\"right_units\":\"screen\",\"top_units\":\"screen\"},\"id\":\"26503\",\"type\":\"BoxAnnotation\"},{\"attributes\":{\"source\":{\"id\":\"26510\",\"type\":\"ColumnDataSource\"}},\"id\":\"26514\",\"type\":\"CDSView\"},{\"attributes\":{},\"id\":\"27203\",\"type\":\"Selection\"},{\"attributes\":{\"months\":[0,1,2,3,4,5,6,7,8,9,10,11]},\"id\":\"27195\",\"type\":\"MonthsTicker\"},{\"attributes\":{\"months\":[0,2,4,6,8,10]},\"id\":\"27196\",\"type\":\"MonthsTicker\"},{\"attributes\":{\"fill_alpha\":{\"value\":0.1},\"fill_color\":{\"value\":\"#1f77b4\"},\"height\":{\"field\":\"height\",\"units\":\"data\"},\"line_alpha\":{\"value\":0.1},\"line_color\":{\"value\":\"#1f77b4\"},\"width\":{\"units\":\"data\",\"value\":43200000},\"x\":{\"field\":\"x\"},\"y\":{\"field\":\"y\"}},\"id\":\"26517\",\"type\":\"Rect\"},{\"attributes\":{\"num_minor_ticks\":5,\"tickers\":[{\"id\":\"27188\",\"type\":\"AdaptiveTicker\"},{\"id\":\"27189\",\"type\":\"AdaptiveTicker\"},{\"id\":\"27190\",\"type\":\"AdaptiveTicker\"},{\"id\":\"27191\",\"type\":\"DaysTicker\"},{\"id\":\"27192\",\"type\":\"DaysTicker\"},{\"id\":\"27193\",\"type\":\"DaysTicker\"},{\"id\":\"27194\",\"type\":\"DaysTicker\"},{\"id\":\"27195\",\"type\":\"MonthsTicker\"},{\"id\":\"27196\",\"type\":\"MonthsTicker\"},{\"id\":\"27197\",\"type\":\"MonthsTicker\"},{\"id\":\"27198\",\"type\":\"MonthsTicker\"},{\"id\":\"27199\",\"type\":\"YearsTicker\"}]},\"id\":\"26486\",\"type\":\"DatetimeTicker\"},{\"attributes\":{},\"id\":\"26498\",\"type\":\"SaveTool\"},{\"attributes\":{},\"id\":\"26491\",\"type\":\"BasicTicker\"},{\"attributes\":{},\"id\":\"26500\",\"type\":\"HelpTool\"},{\"attributes\":{},\"id\":\"27201\",\"type\":\"Selection\"},{\"attributes\":{},\"id\":\"27199\",\"type\":\"YearsTicker\"},{\"attributes\":{\"overlay\":{\"id\":\"26503\",\"type\":\"BoxAnnotation\"}},\"id\":\"26497\",\"type\":\"BoxZoomTool\"},{\"attributes\":{},\"id\":\"26495\",\"type\":\"PanTool\"},{\"attributes\":{\"months\":[0,6]},\"id\":\"27198\",\"type\":\"MonthsTicker\"},{\"attributes\":{\"source\":{\"id\":\"26515\",\"type\":\"ColumnDataSource\"}},\"id\":\"26519\",\"type\":\"CDSView\"},{\"attributes\":{\"fill_color\":{\"value\":\"blue\"},\"height\":{\"field\":\"height\",\"units\":\"data\"},\"width\":{\"units\":\"data\",\"value\":43200000},\"x\":{\"field\":\"x\"},\"y\":{\"field\":\"y\"}},\"id\":\"26516\",\"type\":\"Rect\"},{\"attributes\":{},\"id\":\"26499\",\"type\":\"ResetTool\"},{\"attributes\":{},\"id\":\"26481\",\"type\":\"LinearScale\"},{\"attributes\":{\"formatter\":{\"id\":\"27186\",\"type\":\"BasicTickFormatter\"},\"plot\":{\"id\":\"26476\",\"subtype\":\"Figure\",\"type\":\"Plot\"},\"ticker\":{\"id\":\"26491\",\"type\":\"BasicTicker\"}},\"id\":\"26490\",\"type\":\"LinearAxis\"}],\"root_ids\":[\"26476\"]},\"title\":\"Bokeh Application\",\"version\":\"1.0.4\"}};\n",
              "  var render_items = [{\"docid\":\"dec7870c-413b-4645-b4a5-5eaeceefcab5\",\"roots\":{\"26476\":\"6e8ac50e-a9d6-4c37-91e8-74c47199160f\"}}];\n",
              "  root.Bokeh.embed.embed_items_notebook(docs_json, render_items);\n",
              "\n",
              "  }\n",
              "  if (root.Bokeh !== undefined) {\n",
              "    embed_document(root);\n",
              "  } else {\n",
              "    var attempts = 0;\n",
              "    var timer = setInterval(function(root) {\n",
              "      if (root.Bokeh !== undefined) {\n",
              "        embed_document(root);\n",
              "        clearInterval(timer);\n",
              "      }\n",
              "      attempts++;\n",
              "      if (attempts > 100) {\n",
              "        console.log(\"Bokeh: ERROR: Unable to run BokehJS code because BokehJS library is missing\");\n",
              "        clearInterval(timer);\n",
              "      }\n",
              "    }, 10, root)\n",
              "  }\n",
              "})(window);"
            ],
            "application/vnd.bokehjs_exec.v0+json": ""
          },
          "metadata": {
            "tags": [],
            "application/vnd.bokehjs_exec.v0+json": {
              "id": "26476"
            }
          }
        }
      ]
    },
    {
      "metadata": {
        "id": "EkeX6_jK0Ce-",
        "colab_type": "code",
        "colab": {
          "base_uri": "https://localhost:8080/",
          "height": 160
        },
        "outputId": "ed7b1240-9713-4f8e-9ae7-0e06e9d59e04"
      },
      "cell_type": "code",
      "source": [
        "# tcs_dummy[tcs_dummy['Volume_shock'] == 0]\n",
        "infy_dummy[infy_dummy['Volume_shock'] == 0]"
      ],
      "execution_count": 170,
      "outputs": [
        {
          "output_type": "execute_result",
          "data": {
            "text/html": [
              "<div>\n",
              "<style scoped>\n",
              "    .dataframe tbody tr th:only-of-type {\n",
              "        vertical-align: middle;\n",
              "    }\n",
              "\n",
              "    .dataframe tbody tr th {\n",
              "        vertical-align: top;\n",
              "    }\n",
              "\n",
              "    .dataframe thead th {\n",
              "        text-align: right;\n",
              "    }\n",
              "</style>\n",
              "<table border=\"1\" class=\"dataframe\">\n",
              "  <thead>\n",
              "    <tr style=\"text-align: right;\">\n",
              "      <th></th>\n",
              "      <th>Symbol</th>\n",
              "      <th>Series</th>\n",
              "      <th>Prev Close</th>\n",
              "      <th>Open</th>\n",
              "      <th>High</th>\n",
              "      <th>Low</th>\n",
              "      <th>Last</th>\n",
              "      <th>Close</th>\n",
              "      <th>VWAP</th>\n",
              "      <th>Volume</th>\n",
              "      <th>Turnover</th>\n",
              "      <th>Trades</th>\n",
              "      <th>Deliverable Volume</th>\n",
              "      <th>%Deliverble</th>\n",
              "      <th>Volume_diff</th>\n",
              "      <th>Volume_shock</th>\n",
              "      <th>Price_diff</th>\n",
              "      <th>Price_shock</th>\n",
              "      <th>PriceV/Svolume</th>\n",
              "      <th>Height</th>\n",
              "    </tr>\n",
              "    <tr>\n",
              "      <th>Date</th>\n",
              "      <th></th>\n",
              "      <th></th>\n",
              "      <th></th>\n",
              "      <th></th>\n",
              "      <th></th>\n",
              "      <th></th>\n",
              "      <th></th>\n",
              "      <th></th>\n",
              "      <th></th>\n",
              "      <th></th>\n",
              "      <th></th>\n",
              "      <th></th>\n",
              "      <th></th>\n",
              "      <th></th>\n",
              "      <th></th>\n",
              "      <th></th>\n",
              "      <th></th>\n",
              "      <th></th>\n",
              "      <th></th>\n",
              "      <th></th>\n",
              "    </tr>\n",
              "  </thead>\n",
              "  <tbody>\n",
              "    <tr>\n",
              "      <th>2018-04-02</th>\n",
              "      <td>INFY</td>\n",
              "      <td>EQ</td>\n",
              "      <td>1131.8</td>\n",
              "      <td>1141.0</td>\n",
              "      <td>1149.55</td>\n",
              "      <td>1121.3</td>\n",
              "      <td>1136.7</td>\n",
              "      <td>1137.15</td>\n",
              "      <td>1135.86</td>\n",
              "      <td>4036351</td>\n",
              "      <td>4.584717e+14</td>\n",
              "      <td>142078</td>\n",
              "      <td>2960225</td>\n",
              "      <td>0.7334</td>\n",
              "      <td>NaN</td>\n",
              "      <td>0</td>\n",
              "      <td>NaN</td>\n",
              "      <td>0</td>\n",
              "      <td>0</td>\n",
              "      <td>NaN</td>\n",
              "    </tr>\n",
              "  </tbody>\n",
              "</table>\n",
              "</div>"
            ],
            "text/plain": [
              "           Symbol Series  Prev Close    Open     High     Low    Last  \\\n",
              "Date                                                                    \n",
              "2018-04-02   INFY     EQ      1131.8  1141.0  1149.55  1121.3  1136.7   \n",
              "\n",
              "              Close     VWAP   Volume      Turnover  Trades  \\\n",
              "Date                                                          \n",
              "2018-04-02  1137.15  1135.86  4036351  4.584717e+14  142078   \n",
              "\n",
              "            Deliverable Volume  %Deliverble  Volume_diff  Volume_shock  \\\n",
              "Date                                                                     \n",
              "2018-04-02             2960225       0.7334          NaN             0   \n",
              "\n",
              "            Price_diff  Price_shock  PriceV/Svolume  Height  \n",
              "Date                                                         \n",
              "2018-04-02         NaN            0               0     NaN  "
            ]
          },
          "metadata": {
            "tags": []
          },
          "execution_count": 170
        }
      ]
    },
    {
      "metadata": {
        "id": "l6Ql9AyP3V3B",
        "colab_type": "code",
        "colab": {
          "base_uri": "https://localhost:8080/",
          "height": 367
        },
        "outputId": "eea7084b-ed06-4d71-803f-7867a663e636"
      },
      "cell_type": "code",
      "source": [
        "volumeLessPriceMovement(tcs_dummy)"
      ],
      "execution_count": 164,
      "outputs": [
        {
          "output_type": "display_data",
          "data": {
            "text/html": [
              "\n",
              "    <div class=\"bk-root\">\n",
              "        <a href=\"https://bokeh.pydata.org\" target=\"_blank\" class=\"bk-logo bk-logo-small bk-logo-notebook\"></a>\n",
              "        <span id=\"27551\">Loading BokehJS ...</span>\n",
              "    </div>"
            ]
          },
          "metadata": {
            "tags": []
          }
        },
        {
          "output_type": "display_data",
          "data": {
            "application/javascript": [
              "\n",
              "(function(root) {\n",
              "  function now() {\n",
              "    return new Date();\n",
              "  }\n",
              "\n",
              "  var force = true;\n",
              "\n",
              "  if (typeof (root._bokeh_onload_callbacks) === \"undefined\" || force === true) {\n",
              "    root._bokeh_onload_callbacks = [];\n",
              "    root._bokeh_is_loading = undefined;\n",
              "  }\n",
              "\n",
              "  var JS_MIME_TYPE = 'application/javascript';\n",
              "  var HTML_MIME_TYPE = 'text/html';\n",
              "  var EXEC_MIME_TYPE = 'application/vnd.bokehjs_exec.v0+json';\n",
              "  var CLASS_NAME = 'output_bokeh rendered_html';\n",
              "\n",
              "  /**\n",
              "   * Render data to the DOM node\n",
              "   */\n",
              "  function render(props, node) {\n",
              "    var script = document.createElement(\"script\");\n",
              "    node.appendChild(script);\n",
              "  }\n",
              "\n",
              "  /**\n",
              "   * Handle when an output is cleared or removed\n",
              "   */\n",
              "  function handleClearOutput(event, handle) {\n",
              "    var cell = handle.cell;\n",
              "\n",
              "    var id = cell.output_area._bokeh_element_id;\n",
              "    var server_id = cell.output_area._bokeh_server_id;\n",
              "    // Clean up Bokeh references\n",
              "    if (id != null && id in Bokeh.index) {\n",
              "      Bokeh.index[id].model.document.clear();\n",
              "      delete Bokeh.index[id];\n",
              "    }\n",
              "\n",
              "    if (server_id !== undefined) {\n",
              "      // Clean up Bokeh references\n",
              "      var cmd = \"from bokeh.io.state import curstate; print(curstate().uuid_to_server['\" + server_id + \"'].get_sessions()[0].document.roots[0]._id)\";\n",
              "      cell.notebook.kernel.execute(cmd, {\n",
              "        iopub: {\n",
              "          output: function(msg) {\n",
              "            var id = msg.content.text.trim();\n",
              "            if (id in Bokeh.index) {\n",
              "              Bokeh.index[id].model.document.clear();\n",
              "              delete Bokeh.index[id];\n",
              "            }\n",
              "          }\n",
              "        }\n",
              "      });\n",
              "      // Destroy server and session\n",
              "      var cmd = \"import bokeh.io.notebook as ion; ion.destroy_server('\" + server_id + \"')\";\n",
              "      cell.notebook.kernel.execute(cmd);\n",
              "    }\n",
              "  }\n",
              "\n",
              "  /**\n",
              "   * Handle when a new output is added\n",
              "   */\n",
              "  function handleAddOutput(event, handle) {\n",
              "    var output_area = handle.output_area;\n",
              "    var output = handle.output;\n",
              "\n",
              "    // limit handleAddOutput to display_data with EXEC_MIME_TYPE content only\n",
              "    if ((output.output_type != \"display_data\") || (!output.data.hasOwnProperty(EXEC_MIME_TYPE))) {\n",
              "      return\n",
              "    }\n",
              "\n",
              "    var toinsert = output_area.element.find(\".\" + CLASS_NAME.split(' ')[0]);\n",
              "\n",
              "    if (output.metadata[EXEC_MIME_TYPE][\"id\"] !== undefined) {\n",
              "      toinsert[toinsert.length - 1].firstChild.textContent = output.data[JS_MIME_TYPE];\n",
              "      // store reference to embed id on output_area\n",
              "      output_area._bokeh_element_id = output.metadata[EXEC_MIME_TYPE][\"id\"];\n",
              "    }\n",
              "    if (output.metadata[EXEC_MIME_TYPE][\"server_id\"] !== undefined) {\n",
              "      var bk_div = document.createElement(\"div\");\n",
              "      bk_div.innerHTML = output.data[HTML_MIME_TYPE];\n",
              "      var script_attrs = bk_div.children[0].attributes;\n",
              "      for (var i = 0; i < script_attrs.length; i++) {\n",
              "        toinsert[toinsert.length - 1].firstChild.setAttribute(script_attrs[i].name, script_attrs[i].value);\n",
              "      }\n",
              "      // store reference to server id on output_area\n",
              "      output_area._bokeh_server_id = output.metadata[EXEC_MIME_TYPE][\"server_id\"];\n",
              "    }\n",
              "  }\n",
              "\n",
              "  function register_renderer(events, OutputArea) {\n",
              "\n",
              "    function append_mime(data, metadata, element) {\n",
              "      // create a DOM node to render to\n",
              "      var toinsert = this.create_output_subarea(\n",
              "        metadata,\n",
              "        CLASS_NAME,\n",
              "        EXEC_MIME_TYPE\n",
              "      );\n",
              "      this.keyboard_manager.register_events(toinsert);\n",
              "      // Render to node\n",
              "      var props = {data: data, metadata: metadata[EXEC_MIME_TYPE]};\n",
              "      render(props, toinsert[toinsert.length - 1]);\n",
              "      element.append(toinsert);\n",
              "      return toinsert\n",
              "    }\n",
              "\n",
              "    /* Handle when an output is cleared or removed */\n",
              "    events.on('clear_output.CodeCell', handleClearOutput);\n",
              "    events.on('delete.Cell', handleClearOutput);\n",
              "\n",
              "    /* Handle when a new output is added */\n",
              "    events.on('output_added.OutputArea', handleAddOutput);\n",
              "\n",
              "    /**\n",
              "     * Register the mime type and append_mime function with output_area\n",
              "     */\n",
              "    OutputArea.prototype.register_mime_type(EXEC_MIME_TYPE, append_mime, {\n",
              "      /* Is output safe? */\n",
              "      safe: true,\n",
              "      /* Index of renderer in `output_area.display_order` */\n",
              "      index: 0\n",
              "    });\n",
              "  }\n",
              "\n",
              "  // register the mime type if in Jupyter Notebook environment and previously unregistered\n",
              "  if (root.Jupyter !== undefined) {\n",
              "    var events = require('base/js/events');\n",
              "    var OutputArea = require('notebook/js/outputarea').OutputArea;\n",
              "\n",
              "    if (OutputArea.prototype.mime_types().indexOf(EXEC_MIME_TYPE) == -1) {\n",
              "      register_renderer(events, OutputArea);\n",
              "    }\n",
              "  }\n",
              "\n",
              "  \n",
              "  if (typeof (root._bokeh_timeout) === \"undefined\" || force === true) {\n",
              "    root._bokeh_timeout = Date.now() + 5000;\n",
              "    root._bokeh_failed_load = false;\n",
              "  }\n",
              "\n",
              "  var NB_LOAD_WARNING = {'data': {'text/html':\n",
              "     \"<div style='background-color: #fdd'>\\n\"+\n",
              "     \"<p>\\n\"+\n",
              "     \"BokehJS does not appear to have successfully loaded. If loading BokehJS from CDN, this \\n\"+\n",
              "     \"may be due to a slow or bad network connection. Possible fixes:\\n\"+\n",
              "     \"</p>\\n\"+\n",
              "     \"<ul>\\n\"+\n",
              "     \"<li>re-rerun `output_notebook()` to attempt to load from CDN again, or</li>\\n\"+\n",
              "     \"<li>use INLINE resources instead, as so:</li>\\n\"+\n",
              "     \"</ul>\\n\"+\n",
              "     \"<code>\\n\"+\n",
              "     \"from bokeh.resources import INLINE\\n\"+\n",
              "     \"output_notebook(resources=INLINE)\\n\"+\n",
              "     \"</code>\\n\"+\n",
              "     \"</div>\"}};\n",
              "\n",
              "  function display_loaded() {\n",
              "    var el = document.getElementById(\"27551\");\n",
              "    if (el != null) {\n",
              "      el.textContent = \"BokehJS is loading...\";\n",
              "    }\n",
              "    if (root.Bokeh !== undefined) {\n",
              "      if (el != null) {\n",
              "        el.textContent = \"BokehJS \" + root.Bokeh.version + \" successfully loaded.\";\n",
              "      }\n",
              "    } else if (Date.now() < root._bokeh_timeout) {\n",
              "      setTimeout(display_loaded, 100)\n",
              "    }\n",
              "  }\n",
              "\n",
              "\n",
              "  function run_callbacks() {\n",
              "    try {\n",
              "      root._bokeh_onload_callbacks.forEach(function(callback) { callback() });\n",
              "    }\n",
              "    finally {\n",
              "      delete root._bokeh_onload_callbacks\n",
              "    }\n",
              "    console.info(\"Bokeh: all callbacks have finished\");\n",
              "  }\n",
              "\n",
              "  function load_libs(js_urls, callback) {\n",
              "    root._bokeh_onload_callbacks.push(callback);\n",
              "    if (root._bokeh_is_loading > 0) {\n",
              "      console.log(\"Bokeh: BokehJS is being loaded, scheduling callback at\", now());\n",
              "      return null;\n",
              "    }\n",
              "    if (js_urls == null || js_urls.length === 0) {\n",
              "      run_callbacks();\n",
              "      return null;\n",
              "    }\n",
              "    console.log(\"Bokeh: BokehJS not loaded, scheduling load and callback at\", now());\n",
              "    root._bokeh_is_loading = js_urls.length;\n",
              "    for (var i = 0; i < js_urls.length; i++) {\n",
              "      var url = js_urls[i];\n",
              "      var s = document.createElement('script');\n",
              "      s.src = url;\n",
              "      s.async = false;\n",
              "      s.onreadystatechange = s.onload = function() {\n",
              "        root._bokeh_is_loading--;\n",
              "        if (root._bokeh_is_loading === 0) {\n",
              "          console.log(\"Bokeh: all BokehJS libraries loaded\");\n",
              "          run_callbacks()\n",
              "        }\n",
              "      };\n",
              "      s.onerror = function() {\n",
              "        console.warn(\"failed to load library \" + url);\n",
              "      };\n",
              "      console.log(\"Bokeh: injecting script tag for BokehJS library: \", url);\n",
              "      document.getElementsByTagName(\"head\")[0].appendChild(s);\n",
              "    }\n",
              "  };var element = document.getElementById(\"27551\");\n",
              "  if (element == null) {\n",
              "    console.log(\"Bokeh: ERROR: autoload.js configured with elementid '27551' but no matching script tag was found. \")\n",
              "    return false;\n",
              "  }\n",
              "\n",
              "  var js_urls = [\"https://cdn.pydata.org/bokeh/release/bokeh-1.0.4.min.js\", \"https://cdn.pydata.org/bokeh/release/bokeh-widgets-1.0.4.min.js\", \"https://cdn.pydata.org/bokeh/release/bokeh-tables-1.0.4.min.js\", \"https://cdn.pydata.org/bokeh/release/bokeh-gl-1.0.4.min.js\"];\n",
              "\n",
              "  var inline_js = [\n",
              "    function(Bokeh) {\n",
              "      Bokeh.set_log_level(\"info\");\n",
              "    },\n",
              "    \n",
              "    function(Bokeh) {\n",
              "      \n",
              "    },\n",
              "    function(Bokeh) {\n",
              "      console.log(\"Bokeh: injecting CSS: https://cdn.pydata.org/bokeh/release/bokeh-1.0.4.min.css\");\n",
              "      Bokeh.embed.inject_css(\"https://cdn.pydata.org/bokeh/release/bokeh-1.0.4.min.css\");\n",
              "      console.log(\"Bokeh: injecting CSS: https://cdn.pydata.org/bokeh/release/bokeh-widgets-1.0.4.min.css\");\n",
              "      Bokeh.embed.inject_css(\"https://cdn.pydata.org/bokeh/release/bokeh-widgets-1.0.4.min.css\");\n",
              "      console.log(\"Bokeh: injecting CSS: https://cdn.pydata.org/bokeh/release/bokeh-tables-1.0.4.min.css\");\n",
              "      Bokeh.embed.inject_css(\"https://cdn.pydata.org/bokeh/release/bokeh-tables-1.0.4.min.css\");\n",
              "    }\n",
              "  ];\n",
              "\n",
              "  function run_inline_js() {\n",
              "    \n",
              "    if ((root.Bokeh !== undefined) || (force === true)) {\n",
              "      for (var i = 0; i < inline_js.length; i++) {\n",
              "        inline_js[i].call(root, root.Bokeh);\n",
              "      }if (force === true) {\n",
              "        display_loaded();\n",
              "      }} else if (Date.now() < root._bokeh_timeout) {\n",
              "      setTimeout(run_inline_js, 100);\n",
              "    } else if (!root._bokeh_failed_load) {\n",
              "      console.log(\"Bokeh: BokehJS failed to load within specified timeout.\");\n",
              "      root._bokeh_failed_load = true;\n",
              "    } else if (force !== true) {\n",
              "      var cell = $(document.getElementById(\"27551\")).parents('.cell').data().cell;\n",
              "      cell.output_area.append_execute_result(NB_LOAD_WARNING)\n",
              "    }\n",
              "\n",
              "  }\n",
              "\n",
              "  if (root._bokeh_is_loading === 0) {\n",
              "    console.log(\"Bokeh: BokehJS loaded, going straight to plotting\");\n",
              "    run_inline_js();\n",
              "  } else {\n",
              "    load_libs(js_urls, function() {\n",
              "      console.log(\"Bokeh: BokehJS plotting callback run at\", now());\n",
              "      run_inline_js();\n",
              "    });\n",
              "  }\n",
              "}(window));"
            ],
            "application/vnd.bokehjs_load.v0+json": "\n(function(root) {\n  function now() {\n    return new Date();\n  }\n\n  var force = true;\n\n  if (typeof (root._bokeh_onload_callbacks) === \"undefined\" || force === true) {\n    root._bokeh_onload_callbacks = [];\n    root._bokeh_is_loading = undefined;\n  }\n\n  \n\n  \n  if (typeof (root._bokeh_timeout) === \"undefined\" || force === true) {\n    root._bokeh_timeout = Date.now() + 5000;\n    root._bokeh_failed_load = false;\n  }\n\n  var NB_LOAD_WARNING = {'data': {'text/html':\n     \"<div style='background-color: #fdd'>\\n\"+\n     \"<p>\\n\"+\n     \"BokehJS does not appear to have successfully loaded. If loading BokehJS from CDN, this \\n\"+\n     \"may be due to a slow or bad network connection. Possible fixes:\\n\"+\n     \"</p>\\n\"+\n     \"<ul>\\n\"+\n     \"<li>re-rerun `output_notebook()` to attempt to load from CDN again, or</li>\\n\"+\n     \"<li>use INLINE resources instead, as so:</li>\\n\"+\n     \"</ul>\\n\"+\n     \"<code>\\n\"+\n     \"from bokeh.resources import INLINE\\n\"+\n     \"output_notebook(resources=INLINE)\\n\"+\n     \"</code>\\n\"+\n     \"</div>\"}};\n\n  function display_loaded() {\n    var el = document.getElementById(\"27551\");\n    if (el != null) {\n      el.textContent = \"BokehJS is loading...\";\n    }\n    if (root.Bokeh !== undefined) {\n      if (el != null) {\n        el.textContent = \"BokehJS \" + root.Bokeh.version + \" successfully loaded.\";\n      }\n    } else if (Date.now() < root._bokeh_timeout) {\n      setTimeout(display_loaded, 100)\n    }\n  }\n\n\n  function run_callbacks() {\n    try {\n      root._bokeh_onload_callbacks.forEach(function(callback) { callback() });\n    }\n    finally {\n      delete root._bokeh_onload_callbacks\n    }\n    console.info(\"Bokeh: all callbacks have finished\");\n  }\n\n  function load_libs(js_urls, callback) {\n    root._bokeh_onload_callbacks.push(callback);\n    if (root._bokeh_is_loading > 0) {\n      console.log(\"Bokeh: BokehJS is being loaded, scheduling callback at\", now());\n      return null;\n    }\n    if (js_urls == null || js_urls.length === 0) {\n      run_callbacks();\n      return null;\n    }\n    console.log(\"Bokeh: BokehJS not loaded, scheduling load and callback at\", now());\n    root._bokeh_is_loading = js_urls.length;\n    for (var i = 0; i < js_urls.length; i++) {\n      var url = js_urls[i];\n      var s = document.createElement('script');\n      s.src = url;\n      s.async = false;\n      s.onreadystatechange = s.onload = function() {\n        root._bokeh_is_loading--;\n        if (root._bokeh_is_loading === 0) {\n          console.log(\"Bokeh: all BokehJS libraries loaded\");\n          run_callbacks()\n        }\n      };\n      s.onerror = function() {\n        console.warn(\"failed to load library \" + url);\n      };\n      console.log(\"Bokeh: injecting script tag for BokehJS library: \", url);\n      document.getElementsByTagName(\"head\")[0].appendChild(s);\n    }\n  };var element = document.getElementById(\"27551\");\n  if (element == null) {\n    console.log(\"Bokeh: ERROR: autoload.js configured with elementid '27551' but no matching script tag was found. \")\n    return false;\n  }\n\n  var js_urls = [\"https://cdn.pydata.org/bokeh/release/bokeh-1.0.4.min.js\", \"https://cdn.pydata.org/bokeh/release/bokeh-widgets-1.0.4.min.js\", \"https://cdn.pydata.org/bokeh/release/bokeh-tables-1.0.4.min.js\", \"https://cdn.pydata.org/bokeh/release/bokeh-gl-1.0.4.min.js\"];\n\n  var inline_js = [\n    function(Bokeh) {\n      Bokeh.set_log_level(\"info\");\n    },\n    \n    function(Bokeh) {\n      \n    },\n    function(Bokeh) {\n      console.log(\"Bokeh: injecting CSS: https://cdn.pydata.org/bokeh/release/bokeh-1.0.4.min.css\");\n      Bokeh.embed.inject_css(\"https://cdn.pydata.org/bokeh/release/bokeh-1.0.4.min.css\");\n      console.log(\"Bokeh: injecting CSS: https://cdn.pydata.org/bokeh/release/bokeh-widgets-1.0.4.min.css\");\n      Bokeh.embed.inject_css(\"https://cdn.pydata.org/bokeh/release/bokeh-widgets-1.0.4.min.css\");\n      console.log(\"Bokeh: injecting CSS: https://cdn.pydata.org/bokeh/release/bokeh-tables-1.0.4.min.css\");\n      Bokeh.embed.inject_css(\"https://cdn.pydata.org/bokeh/release/bokeh-tables-1.0.4.min.css\");\n    }\n  ];\n\n  function run_inline_js() {\n    \n    if ((root.Bokeh !== undefined) || (force === true)) {\n      for (var i = 0; i < inline_js.length; i++) {\n        inline_js[i].call(root, root.Bokeh);\n      }if (force === true) {\n        display_loaded();\n      }} else if (Date.now() < root._bokeh_timeout) {\n      setTimeout(run_inline_js, 100);\n    } else if (!root._bokeh_failed_load) {\n      console.log(\"Bokeh: BokehJS failed to load within specified timeout.\");\n      root._bokeh_failed_load = true;\n    } else if (force !== true) {\n      var cell = $(document.getElementById(\"27551\")).parents('.cell').data().cell;\n      cell.output_area.append_execute_result(NB_LOAD_WARNING)\n    }\n\n  }\n\n  if (root._bokeh_is_loading === 0) {\n    console.log(\"Bokeh: BokehJS loaded, going straight to plotting\");\n    run_inline_js();\n  } else {\n    load_libs(js_urls, function() {\n      console.log(\"Bokeh: BokehJS plotting callback run at\", now());\n      run_inline_js();\n    });\n  }\n}(window));"
          },
          "metadata": {
            "tags": []
          }
        },
        {
          "output_type": "display_data",
          "data": {
            "text/html": [
              "\n",
              "\n",
              "\n",
              "\n",
              "\n",
              "\n",
              "  <div class=\"bk-root\" id=\"de79113a-233b-4845-92ce-7e6d7f692c4b\" data-root-id=\"27552\"></div>\n"
            ]
          },
          "metadata": {
            "tags": []
          }
        },
        {
          "output_type": "display_data",
          "data": {
            "application/javascript": [
              "(function(root) {\n",
              "  function embed_document(root) {\n",
              "    \n",
              "  var docs_json = {\"99f66728-94b6-4edc-bc48-9ae7cb2c2a75\":{\"roots\":{\"references\":[{\"attributes\":{\"below\":[{\"id\":\"27561\",\"type\":\"DatetimeAxis\"}],\"left\":[{\"id\":\"27566\",\"type\":\"LinearAxis\"}],\"plot_height\":300,\"plot_width\":1000,\"renderers\":[{\"id\":\"27561\",\"type\":\"DatetimeAxis\"},{\"id\":\"27565\",\"type\":\"Grid\"},{\"id\":\"27566\",\"type\":\"LinearAxis\"},{\"id\":\"27570\",\"type\":\"Grid\"},{\"id\":\"27579\",\"type\":\"BoxAnnotation\"},{\"id\":\"27589\",\"type\":\"GlyphRenderer\"},{\"id\":\"27594\",\"type\":\"GlyphRenderer\"}],\"title\":{\"id\":\"28281\",\"type\":\"Title\"},\"toolbar\":{\"id\":\"27577\",\"type\":\"Toolbar\"},\"x_range\":{\"id\":\"27553\",\"type\":\"DataRange1d\"},\"x_scale\":{\"id\":\"27557\",\"type\":\"LinearScale\"},\"y_range\":{\"id\":\"27555\",\"type\":\"DataRange1d\"},\"y_scale\":{\"id\":\"27559\",\"type\":\"LinearScale\"}},\"id\":\"27552\",\"subtype\":\"Figure\",\"type\":\"Plot\"},{\"attributes\":{\"base\":24,\"mantissas\":[1,2,4,6,8,12],\"max_interval\":43200000.0,\"min_interval\":3600000.0,\"num_minor_ticks\":0},\"id\":\"28289\",\"type\":\"AdaptiveTicker\"},{\"attributes\":{},\"id\":\"28302\",\"type\":\"Selection\"},{\"attributes\":{\"source\":{\"id\":\"27591\",\"type\":\"ColumnDataSource\"}},\"id\":\"27595\",\"type\":\"CDSView\"},{\"attributes\":{\"days\":[1,2,3,4,5,6,7,8,9,10,11,12,13,14,15,16,17,18,19,20,21,22,23,24,25,26,27,28,29,30,31]},\"id\":\"28290\",\"type\":\"DaysTicker\"},{\"attributes\":{\"data_source\":{\"id\":\"27591\",\"type\":\"ColumnDataSource\"},\"glyph\":{\"id\":\"27592\",\"type\":\"Rect\"},\"hover_glyph\":null,\"muted_glyph\":null,\"nonselection_glyph\":{\"id\":\"27593\",\"type\":\"Rect\"},\"selection_glyph\":null,\"view\":{\"id\":\"27595\",\"type\":\"CDSView\"}},\"id\":\"27594\",\"type\":\"GlyphRenderer\"},{\"attributes\":{},\"id\":\"27557\",\"type\":\"LinearScale\"},{\"attributes\":{},\"id\":\"28285\",\"type\":\"BasicTickFormatter\"},{\"attributes\":{\"num_minor_ticks\":5,\"tickers\":[{\"id\":\"28287\",\"type\":\"AdaptiveTicker\"},{\"id\":\"28288\",\"type\":\"AdaptiveTicker\"},{\"id\":\"28289\",\"type\":\"AdaptiveTicker\"},{\"id\":\"28290\",\"type\":\"DaysTicker\"},{\"id\":\"28291\",\"type\":\"DaysTicker\"},{\"id\":\"28292\",\"type\":\"DaysTicker\"},{\"id\":\"28293\",\"type\":\"DaysTicker\"},{\"id\":\"28294\",\"type\":\"MonthsTicker\"},{\"id\":\"28295\",\"type\":\"MonthsTicker\"},{\"id\":\"28296\",\"type\":\"MonthsTicker\"},{\"id\":\"28297\",\"type\":\"MonthsTicker\"},{\"id\":\"28298\",\"type\":\"YearsTicker\"}]},\"id\":\"27562\",\"type\":\"DatetimeTicker\"},{\"attributes\":{\"callback\":null,\"data\":{\"height\":{\"__ndarray__\":\"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\",\"dtype\":\"float64\",\"shape\":[229]},\"x\":{\"__ndarray__\":\"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\",\"dtype\":\"float64\",\"shape\":[229]},\"y\":{\"__ndarray__\":\"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\",\"dtype\":\"float64\",\"shape\":[229]}},\"selected\":{\"id\":\"28302\",\"type\":\"Selection\"},\"selection_policy\":{\"id\":\"28301\",\"type\":\"UnionRenderers\"}},\"id\":\"27591\",\"type\":\"ColumnDataSource\"},{\"attributes\":{\"formatter\":{\"id\":\"28285\",\"type\":\"BasicTickFormatter\"},\"plot\":{\"id\":\"27552\",\"subtype\":\"Figure\",\"type\":\"Plot\"},\"ticker\":{\"id\":\"27567\",\"type\":\"BasicTicker\"}},\"id\":\"27566\",\"type\":\"LinearAxis\"},{\"attributes\":{\"dimension\":1,\"plot\":{\"id\":\"27552\",\"subtype\":\"Figure\",\"type\":\"Plot\"},\"ticker\":{\"id\":\"27567\",\"type\":\"BasicTicker\"}},\"id\":\"27570\",\"type\":\"Grid\"},{\"attributes\":{\"fill_alpha\":{\"value\":0.1},\"fill_color\":{\"value\":\"#1f77b4\"},\"height\":{\"field\":\"height\",\"units\":\"data\"},\"line_alpha\":{\"value\":0.1},\"line_color\":{\"value\":\"#1f77b4\"},\"width\":{\"units\":\"data\",\"value\":43200000},\"x\":{\"field\":\"x\"},\"y\":{\"field\":\"y\"}},\"id\":\"27593\",\"type\":\"Rect\"},{\"attributes\":{\"days\":[1,4,7,10,13,16,19,22,25,28]},\"id\":\"28291\",\"type\":\"DaysTicker\"},{\"attributes\":{},\"id\":\"28283\",\"type\":\"DatetimeTickFormatter\"},{\"attributes\":{},\"id\":\"28301\",\"type\":\"UnionRenderers\"},{\"attributes\":{},\"id\":\"27567\",\"type\":\"BasicTicker\"},{\"attributes\":{},\"id\":\"27576\",\"type\":\"HelpTool\"},{\"attributes\":{\"callback\":null,\"data\":{\"height\":{\"__ndarray__\":\"\",\"dtype\":\"float64\",\"shape\":[0]},\"x\":{\"__ndarray__\":\"\",\"dtype\":\"float64\",\"shape\":[0]},\"y\":{\"__ndarray__\":\"\",\"dtype\":\"float64\",\"shape\":[0]}},\"selected\":{\"id\":\"28300\",\"type\":\"Selection\"},\"selection_policy\":{\"id\":\"28299\",\"type\":\"UnionRenderers\"}},\"id\":\"27586\",\"type\":\"ColumnDataSource\"},{\"attributes\":{\"plot\":{\"id\":\"27552\",\"subtype\":\"Figure\",\"type\":\"Plot\"},\"ticker\":{\"id\":\"27562\",\"type\":\"DatetimeTicker\"}},\"id\":\"27565\",\"type\":\"Grid\"},{\"attributes\":{\"fill_color\":{\"value\":\"blue\"},\"height\":{\"field\":\"height\",\"units\":\"data\"},\"width\":{\"units\":\"data\",\"value\":43200000},\"x\":{\"field\":\"x\"},\"y\":{\"field\":\"y\"}},\"id\":\"27592\",\"type\":\"Rect\"},{\"attributes\":{\"plot\":null,\"text\":\"\"},\"id\":\"28281\",\"type\":\"Title\"},{\"attributes\":{},\"id\":\"27574\",\"type\":\"SaveTool\"},{\"attributes\":{\"months\":[0,2,4,6,8,10]},\"id\":\"28295\",\"type\":\"MonthsTicker\"},{\"attributes\":{\"callback\":null},\"id\":\"27553\",\"type\":\"DataRange1d\"},{\"attributes\":{\"bottom_units\":\"screen\",\"fill_alpha\":{\"value\":0.5},\"fill_color\":{\"value\":\"lightgrey\"},\"left_units\":\"screen\",\"level\":\"overlay\",\"line_alpha\":{\"value\":1.0},\"line_color\":{\"value\":\"black\"},\"line_dash\":[4,4],\"line_width\":{\"value\":2},\"plot\":null,\"render_mode\":\"css\",\"right_units\":\"screen\",\"top_units\":\"screen\"},\"id\":\"27579\",\"type\":\"BoxAnnotation\"},{\"attributes\":{},\"id\":\"27571\",\"type\":\"PanTool\"},{\"attributes\":{},\"id\":\"28298\",\"type\":\"YearsTicker\"},{\"attributes\":{},\"id\":\"27575\",\"type\":\"ResetTool\"},{\"attributes\":{\"months\":[0,1,2,3,4,5,6,7,8,9,10,11]},\"id\":\"28294\",\"type\":\"MonthsTicker\"},{\"attributes\":{\"fill_alpha\":{\"value\":0.1},\"fill_color\":{\"value\":\"#1f77b4\"},\"height\":{\"field\":\"height\",\"units\":\"data\"},\"line_alpha\":{\"value\":0.1},\"line_color\":{\"value\":\"#1f77b4\"},\"width\":{\"units\":\"data\",\"value\":43200000},\"x\":{\"field\":\"x\"},\"y\":{\"field\":\"y\"}},\"id\":\"27588\",\"type\":\"Rect\"},{\"attributes\":{\"overlay\":{\"id\":\"27579\",\"type\":\"BoxAnnotation\"}},\"id\":\"27573\",\"type\":\"BoxZoomTool\"},{\"attributes\":{},\"id\":\"27559\",\"type\":\"LinearScale\"},{\"attributes\":{\"mantissas\":[1,2,5],\"max_interval\":500.0,\"num_minor_ticks\":0},\"id\":\"28287\",\"type\":\"AdaptiveTicker\"},{\"attributes\":{\"days\":[1,8,15,22]},\"id\":\"28292\",\"type\":\"DaysTicker\"},{\"attributes\":{\"months\":[0,4,8]},\"id\":\"28296\",\"type\":\"MonthsTicker\"},{\"attributes\":{\"formatter\":{\"id\":\"28283\",\"type\":\"DatetimeTickFormatter\"},\"plot\":{\"id\":\"27552\",\"subtype\":\"Figure\",\"type\":\"Plot\"},\"ticker\":{\"id\":\"27562\",\"type\":\"DatetimeTicker\"}},\"id\":\"27561\",\"type\":\"DatetimeAxis\"},{\"attributes\":{\"source\":{\"id\":\"27586\",\"type\":\"ColumnDataSource\"}},\"id\":\"27590\",\"type\":\"CDSView\"},{\"attributes\":{\"callback\":null},\"id\":\"27555\",\"type\":\"DataRange1d\"},{\"attributes\":{\"active_drag\":\"auto\",\"active_inspect\":\"auto\",\"active_multi\":null,\"active_scroll\":\"auto\",\"active_tap\":\"auto\",\"tools\":[{\"id\":\"27571\",\"type\":\"PanTool\"},{\"id\":\"27572\",\"type\":\"WheelZoomTool\"},{\"id\":\"27573\",\"type\":\"BoxZoomTool\"},{\"id\":\"27574\",\"type\":\"SaveTool\"},{\"id\":\"27575\",\"type\":\"ResetTool\"},{\"id\":\"27576\",\"type\":\"HelpTool\"}]},\"id\":\"27577\",\"type\":\"Toolbar\"},{\"attributes\":{\"months\":[0,6]},\"id\":\"28297\",\"type\":\"MonthsTicker\"},{\"attributes\":{},\"id\":\"27572\",\"type\":\"WheelZoomTool\"},{\"attributes\":{\"fill_color\":{\"value\":\"red\"},\"height\":{\"field\":\"height\",\"units\":\"data\"},\"width\":{\"units\":\"data\",\"value\":43200000},\"x\":{\"field\":\"x\"},\"y\":{\"field\":\"y\"}},\"id\":\"27587\",\"type\":\"Rect\"},{\"attributes\":{},\"id\":\"28299\",\"type\":\"UnionRenderers\"},{\"attributes\":{},\"id\":\"28300\",\"type\":\"Selection\"},{\"attributes\":{\"data_source\":{\"id\":\"27586\",\"type\":\"ColumnDataSource\"},\"glyph\":{\"id\":\"27587\",\"type\":\"Rect\"},\"hover_glyph\":null,\"muted_glyph\":null,\"nonselection_glyph\":{\"id\":\"27588\",\"type\":\"Rect\"},\"selection_glyph\":null,\"view\":{\"id\":\"27590\",\"type\":\"CDSView\"}},\"id\":\"27589\",\"type\":\"GlyphRenderer\"},{\"attributes\":{\"days\":[1,15]},\"id\":\"28293\",\"type\":\"DaysTicker\"},{\"attributes\":{\"base\":60,\"mantissas\":[1,2,5,10,15,20,30],\"max_interval\":1800000.0,\"min_interval\":1000.0,\"num_minor_ticks\":0},\"id\":\"28288\",\"type\":\"AdaptiveTicker\"}],\"root_ids\":[\"27552\"]},\"title\":\"Bokeh Application\",\"version\":\"1.0.4\"}};\n",
              "  var render_items = [{\"docid\":\"99f66728-94b6-4edc-bc48-9ae7cb2c2a75\",\"roots\":{\"27552\":\"de79113a-233b-4845-92ce-7e6d7f692c4b\"}}];\n",
              "  root.Bokeh.embed.embed_items_notebook(docs_json, render_items);\n",
              "\n",
              "  }\n",
              "  if (root.Bokeh !== undefined) {\n",
              "    embed_document(root);\n",
              "  } else {\n",
              "    var attempts = 0;\n",
              "    var timer = setInterval(function(root) {\n",
              "      if (root.Bokeh !== undefined) {\n",
              "        embed_document(root);\n",
              "        clearInterval(timer);\n",
              "      }\n",
              "      attempts++;\n",
              "      if (attempts > 100) {\n",
              "        console.log(\"Bokeh: ERROR: Unable to run BokehJS code because BokehJS library is missing\");\n",
              "        clearInterval(timer);\n",
              "      }\n",
              "    }, 10, root)\n",
              "  }\n",
              "})(window);"
            ],
            "application/vnd.bokehjs_exec.v0+json": ""
          },
          "metadata": {
            "tags": [],
            "application/vnd.bokehjs_exec.v0+json": {
              "id": "27552"
            }
          }
        }
      ]
    },
    {
      "metadata": {
        "id": "IASanAy73zEj",
        "colab_type": "text"
      },
      "cell_type": "markdown",
      "source": [
        "    Graph indicates that there wasnot any such movement where price shock occured without volume shock in the acquired data"
      ]
    },
    {
      "metadata": {
        "id": "U47W1nUg3W_z",
        "colab_type": "code",
        "colab": {
          "base_uri": "https://localhost:8080/",
          "height": 114
        },
        "outputId": "1a883d28-1a82-42cf-c3af-bc8456dd2fa4"
      },
      "cell_type": "code",
      "source": [
        "dummy_data = infy_dummy\n",
        "dummy_data[dummy_data['PriceV/Svolume'] == 1]"
      ],
      "execution_count": 171,
      "outputs": [
        {
          "output_type": "execute_result",
          "data": {
            "text/html": [
              "<div>\n",
              "<style scoped>\n",
              "    .dataframe tbody tr th:only-of-type {\n",
              "        vertical-align: middle;\n",
              "    }\n",
              "\n",
              "    .dataframe tbody tr th {\n",
              "        vertical-align: top;\n",
              "    }\n",
              "\n",
              "    .dataframe thead th {\n",
              "        text-align: right;\n",
              "    }\n",
              "</style>\n",
              "<table border=\"1\" class=\"dataframe\">\n",
              "  <thead>\n",
              "    <tr style=\"text-align: right;\">\n",
              "      <th></th>\n",
              "      <th>Symbol</th>\n",
              "      <th>Series</th>\n",
              "      <th>Prev Close</th>\n",
              "      <th>Open</th>\n",
              "      <th>High</th>\n",
              "      <th>Low</th>\n",
              "      <th>Last</th>\n",
              "      <th>Close</th>\n",
              "      <th>VWAP</th>\n",
              "      <th>Volume</th>\n",
              "      <th>Turnover</th>\n",
              "      <th>Trades</th>\n",
              "      <th>Deliverable Volume</th>\n",
              "      <th>%Deliverble</th>\n",
              "      <th>Volume_diff</th>\n",
              "      <th>Volume_shock</th>\n",
              "      <th>Price_diff</th>\n",
              "      <th>Price_shock</th>\n",
              "      <th>PriceV/Svolume</th>\n",
              "      <th>Height</th>\n",
              "    </tr>\n",
              "    <tr>\n",
              "      <th>Date</th>\n",
              "      <th></th>\n",
              "      <th></th>\n",
              "      <th></th>\n",
              "      <th></th>\n",
              "      <th></th>\n",
              "      <th></th>\n",
              "      <th></th>\n",
              "      <th></th>\n",
              "      <th></th>\n",
              "      <th></th>\n",
              "      <th></th>\n",
              "      <th></th>\n",
              "      <th></th>\n",
              "      <th></th>\n",
              "      <th></th>\n",
              "      <th></th>\n",
              "      <th></th>\n",
              "      <th></th>\n",
              "      <th></th>\n",
              "      <th></th>\n",
              "    </tr>\n",
              "  </thead>\n",
              "  <tbody>\n",
              "  </tbody>\n",
              "</table>\n",
              "</div>"
            ],
            "text/plain": [
              "Empty DataFrame\n",
              "Columns: [Symbol, Series, Prev Close, Open, High, Low, Last, Close, VWAP, Volume, Turnover, Trades, Deliverable Volume, %Deliverble, Volume_diff, Volume_shock, Price_diff, Price_shock, PriceV/Svolume, Height]\n",
              "Index: []"
            ]
          },
          "metadata": {
            "tags": []
          },
          "execution_count": 171
        }
      ]
    },
    {
      "metadata": {
        "id": "opyr2Tcx3i7A",
        "colab_type": "text"
      },
      "cell_type": "markdown",
      "source": [
        "### Autocorrelation Plot"
      ]
    },
    {
      "metadata": {
        "id": "vgyqZkW-4As_",
        "colab_type": "code",
        "colab": {}
      },
      "cell_type": "code",
      "source": [
        "from statsmodels.tsa.stattools import acf, pacf\n",
        "stock = [tcs, infy]\n",
        "tcs.name = 'tcs'\n",
        "infy.name = 'infy'\n",
        "def draw_pacf(stock):\n",
        "    \n",
        "    lags = 50\n",
        "\n",
        "    x = list(range(lags))\n",
        "\n",
        "    p = figure(plot_height=500, title=\"Partial Autocorrelation PLot {}\" .format(stock.name))\n",
        "\n",
        "    partial_autocorr = pacf(stock[\"Close\"], nlags=lags)\n",
        "    p.vbar(x=x, top=partial_autocorr, width=0.9)\n",
        "    show(p)"
      ],
      "execution_count": 0,
      "outputs": []
    },
    {
      "metadata": {
        "id": "IGrBUJWi4zl1",
        "colab_type": "code",
        "colab": {
          "base_uri": "https://localhost:8080/",
          "height": 54
        },
        "outputId": "99b8828e-7181-4676-8cee-48456f057e41"
      },
      "cell_type": "code",
      "source": [
        "draw_pacf(tcs)"
      ],
      "execution_count": 178,
      "outputs": [
        {
          "output_type": "stream",
          "text": [
            "BokehUserWarning: ColumnDataSource's columns must be of the same length. Current lengths: ('top', 52), ('x', 51)\n"
          ],
          "name": "stderr"
        },
        {
          "output_type": "display_data",
          "data": {
            "text/html": [
              "\n",
              "\n",
              "\n",
              "\n",
              "\n",
              "\n",
              "  <div class=\"bk-root\" id=\"6f1fed30-f3f7-47c8-a61e-b812d2dbbfc8\" data-root-id=\"29529\"></div>\n"
            ]
          },
          "metadata": {
            "tags": []
          }
        },
        {
          "output_type": "display_data",
          "data": {
            "application/javascript": [
              "(function(root) {\n",
              "  function embed_document(root) {\n",
              "    \n",
              "  var docs_json = {\"3215ccd2-494e-4220-ab09-e35819873124\":{\"roots\":{\"references\":[{\"attributes\":{\"below\":[{\"id\":\"29539\",\"type\":\"LinearAxis\"}],\"left\":[{\"id\":\"29544\",\"type\":\"LinearAxis\"}],\"plot_height\":500,\"renderers\":[{\"id\":\"29539\",\"type\":\"LinearAxis\"},{\"id\":\"29543\",\"type\":\"Grid\"},{\"id\":\"29544\",\"type\":\"LinearAxis\"},{\"id\":\"29548\",\"type\":\"Grid\"},{\"id\":\"29557\",\"type\":\"BoxAnnotation\"},{\"id\":\"29567\",\"type\":\"GlyphRenderer\"}],\"title\":{\"id\":\"29528\",\"type\":\"Title\"},\"toolbar\":{\"id\":\"29555\",\"type\":\"Toolbar\"},\"x_range\":{\"id\":\"29531\",\"type\":\"DataRange1d\"},\"x_scale\":{\"id\":\"29535\",\"type\":\"LinearScale\"},\"y_range\":{\"id\":\"29533\",\"type\":\"DataRange1d\"},\"y_scale\":{\"id\":\"29537\",\"type\":\"LinearScale\"}},\"id\":\"29529\",\"subtype\":\"Figure\",\"type\":\"Plot\"},{\"attributes\":{\"plot\":null,\"text\":\"Partial Autocorrelation PLot tcs\"},\"id\":\"29528\",\"type\":\"Title\"},{\"attributes\":{\"active_drag\":\"auto\",\"active_inspect\":\"auto\",\"active_multi\":null,\"active_scroll\":\"auto\",\"active_tap\":\"auto\",\"tools\":[{\"id\":\"29549\",\"type\":\"PanTool\"},{\"id\":\"29550\",\"type\":\"WheelZoomTool\"},{\"id\":\"29551\",\"type\":\"BoxZoomTool\"},{\"id\":\"29552\",\"type\":\"SaveTool\"},{\"id\":\"29553\",\"type\":\"ResetTool\"},{\"id\":\"29554\",\"type\":\"HelpTool\"}]},\"id\":\"29555\",\"type\":\"Toolbar\"},{\"attributes\":{\"formatter\":{\"id\":\"30286\",\"type\":\"BasicTickFormatter\"},\"plot\":{\"id\":\"29529\",\"subtype\":\"Figure\",\"type\":\"Plot\"},\"ticker\":{\"id\":\"29540\",\"type\":\"BasicTicker\"}},\"id\":\"29539\",\"type\":\"LinearAxis\"},{\"attributes\":{},\"id\":\"30288\",\"type\":\"BasicTickFormatter\"},{\"attributes\":{},\"id\":\"30291\",\"type\":\"Selection\"},{\"attributes\":{},\"id\":\"29554\",\"type\":\"HelpTool\"},{\"attributes\":{\"plot\":{\"id\":\"29529\",\"subtype\":\"Figure\",\"type\":\"Plot\"},\"ticker\":{\"id\":\"29540\",\"type\":\"BasicTicker\"}},\"id\":\"29543\",\"type\":\"Grid\"},{\"attributes\":{},\"id\":\"29553\",\"type\":\"ResetTool\"},{\"attributes\":{\"bottom_units\":\"screen\",\"fill_alpha\":{\"value\":0.5},\"fill_color\":{\"value\":\"lightgrey\"},\"left_units\":\"screen\",\"level\":\"overlay\",\"line_alpha\":{\"value\":1.0},\"line_color\":{\"value\":\"black\"},\"line_dash\":[4,4],\"line_width\":{\"value\":2},\"plot\":null,\"render_mode\":\"css\",\"right_units\":\"screen\",\"top_units\":\"screen\"},\"id\":\"29557\",\"type\":\"BoxAnnotation\"},{\"attributes\":{\"callback\":null,\"data\":{\"top\":{\"__ndarray__\":\"AAAAAAAA8D9VoTEdwzfvP2vX7CedZpe/M6VNkeXhgj9s8Ax0PiK5vx3bWqTshKC/rdoE3FftpD/gSlQPHBCgv+tzXzIbnK2/i+zbVArnb7+vCK4szWuGP/pNj15SBKW/39bhX8MNlT/g40Wq9+WIvxajsP2Nlp2/TucPPZF/sb9f8koHowStv5vdWwKJU4Y/uQSuCYpKmr9RckfMYVurv4civdiv+Iq/efh3FcLFtr+LZR/aYAqVvwlbVx3kjZQ/DoxAOMW0tb++9T9kCOaaP0gCJMgDUIc/kD1HHlZcpb96U/RyTmafv8FtqFSJtLQ/fws7g5zVrT/aAhjG9lGhv+cR6sFG/6u/3lz81Vk8ib9CCVx3gYhwP0C3iQgr0Kg/E69P+JzJkD+lFMY7I9tUP7N+0w+4VLG/1YnjtLVFor9nvzrUotCDP/JIDSo7k5e/NTfzAPs4nr/rBA8I9mPaP5vFVOPAx6e/tHwz0twboz9FHEGsoz28v/gBSwIScGW/NVluccGwlz+WVRPjZqirvyMPk9xJ1aq/NxSCsC5Wgj8=\",\"dtype\":\"float64\",\"shape\":[52]},\"x\":[0,1,2,3,4,5,6,7,8,9,10,11,12,13,14,15,16,17,18,19,20,21,22,23,24,25,26,27,28,29,30,31,32,33,34,35,36,37,38,39,40,41,42,43,44,45,46,47,48,49,50]},\"selected\":{\"id\":\"30291\",\"type\":\"Selection\"},\"selection_policy\":{\"id\":\"30290\",\"type\":\"UnionRenderers\"}},\"id\":\"29564\",\"type\":\"ColumnDataSource\"},{\"attributes\":{\"source\":{\"id\":\"29564\",\"type\":\"ColumnDataSource\"}},\"id\":\"29568\",\"type\":\"CDSView\"},{\"attributes\":{\"dimension\":1,\"plot\":{\"id\":\"29529\",\"subtype\":\"Figure\",\"type\":\"Plot\"},\"ticker\":{\"id\":\"29545\",\"type\":\"BasicTicker\"}},\"id\":\"29548\",\"type\":\"Grid\"},{\"attributes\":{\"callback\":null},\"id\":\"29533\",\"type\":\"DataRange1d\"},{\"attributes\":{},\"id\":\"29537\",\"type\":\"LinearScale\"},{\"attributes\":{\"data_source\":{\"id\":\"29564\",\"type\":\"ColumnDataSource\"},\"glyph\":{\"id\":\"29565\",\"type\":\"VBar\"},\"hover_glyph\":null,\"muted_glyph\":null,\"nonselection_glyph\":{\"id\":\"29566\",\"type\":\"VBar\"},\"selection_glyph\":null,\"view\":{\"id\":\"29568\",\"type\":\"CDSView\"}},\"id\":\"29567\",\"type\":\"GlyphRenderer\"},{\"attributes\":{},\"id\":\"29545\",\"type\":\"BasicTicker\"},{\"attributes\":{\"callback\":null},\"id\":\"29531\",\"type\":\"DataRange1d\"},{\"attributes\":{},\"id\":\"29540\",\"type\":\"BasicTicker\"},{\"attributes\":{},\"id\":\"29552\",\"type\":\"SaveTool\"},{\"attributes\":{\"overlay\":{\"id\":\"29557\",\"type\":\"BoxAnnotation\"}},\"id\":\"29551\",\"type\":\"BoxZoomTool\"},{\"attributes\":{},\"id\":\"29549\",\"type\":\"PanTool\"},{\"attributes\":{},\"id\":\"29550\",\"type\":\"WheelZoomTool\"},{\"attributes\":{\"fill_alpha\":{\"value\":0.1},\"fill_color\":{\"value\":\"#1f77b4\"},\"line_alpha\":{\"value\":0.1},\"line_color\":{\"value\":\"#1f77b4\"},\"top\":{\"field\":\"top\"},\"width\":{\"value\":0.9},\"x\":{\"field\":\"x\"}},\"id\":\"29566\",\"type\":\"VBar\"},{\"attributes\":{\"formatter\":{\"id\":\"30288\",\"type\":\"BasicTickFormatter\"},\"plot\":{\"id\":\"29529\",\"subtype\":\"Figure\",\"type\":\"Plot\"},\"ticker\":{\"id\":\"29545\",\"type\":\"BasicTicker\"}},\"id\":\"29544\",\"type\":\"LinearAxis\"},{\"attributes\":{\"fill_color\":{\"value\":\"#1f77b4\"},\"line_color\":{\"value\":\"#1f77b4\"},\"top\":{\"field\":\"top\"},\"width\":{\"value\":0.9},\"x\":{\"field\":\"x\"}},\"id\":\"29565\",\"type\":\"VBar\"},{\"attributes\":{},\"id\":\"29535\",\"type\":\"LinearScale\"},{\"attributes\":{},\"id\":\"30290\",\"type\":\"UnionRenderers\"},{\"attributes\":{},\"id\":\"30286\",\"type\":\"BasicTickFormatter\"}],\"root_ids\":[\"29529\"]},\"title\":\"Bokeh Application\",\"version\":\"1.0.4\"}};\n",
              "  var render_items = [{\"docid\":\"3215ccd2-494e-4220-ab09-e35819873124\",\"roots\":{\"29529\":\"6f1fed30-f3f7-47c8-a61e-b812d2dbbfc8\"}}];\n",
              "  root.Bokeh.embed.embed_items_notebook(docs_json, render_items);\n",
              "\n",
              "  }\n",
              "  if (root.Bokeh !== undefined) {\n",
              "    embed_document(root);\n",
              "  } else {\n",
              "    var attempts = 0;\n",
              "    var timer = setInterval(function(root) {\n",
              "      if (root.Bokeh !== undefined) {\n",
              "        embed_document(root);\n",
              "        clearInterval(timer);\n",
              "      }\n",
              "      attempts++;\n",
              "      if (attempts > 100) {\n",
              "        console.log(\"Bokeh: ERROR: Unable to run BokehJS code because BokehJS library is missing\");\n",
              "        clearInterval(timer);\n",
              "      }\n",
              "    }, 10, root)\n",
              "  }\n",
              "})(window);"
            ],
            "application/vnd.bokehjs_exec.v0+json": ""
          },
          "metadata": {
            "tags": [],
            "application/vnd.bokehjs_exec.v0+json": {
              "id": "29529"
            }
          }
        }
      ]
    },
    {
      "metadata": {
        "id": "reRvMf0647oX",
        "colab_type": "code",
        "colab": {}
      },
      "cell_type": "code",
      "source": [
        ""
      ],
      "execution_count": 0,
      "outputs": []
    }
  ]
}